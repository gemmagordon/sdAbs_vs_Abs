{
 "cells": [
  {
   "cell_type": "code",
   "execution_count": null,
   "metadata": {},
   "outputs": [],
   "source": [
    "#@Author: Gemma Gordon\n",
    "#@Date: 2022\n",
    "# Script to analyse structural clustering by RMSD and loop length \n",
    "# Structural clustering code from https://github.com/brennanaba/cdr-structural-clustering"
   ]
  },
  {
   "cell_type": "markdown",
   "metadata": {},
   "source": [
    "Structural clustering output gives, for all of H1 H2 and H3 for both Abs and Nbs, the PDB structure and their cluster (a representative PDB structure). This representative structure will be matched with a canonical form. We want to know how structurally different Abs and Nbs loops are/whether they occupy different structural space. Some clusters contain both Abs and Nbs structures. To find if this is significant, we can randomly sample the clusters and find the number/proportion of structures that fall into these 'overlap' clusters by chance. We will use this as a baseline with which to compare the actual number of structures that fall into overlap clusters. "
   ]
  },
  {
   "cell_type": "code",
   "execution_count": 1,
   "metadata": {},
   "outputs": [],
   "source": [
    "import pandas as pd\n",
    "import numpy as np"
   ]
  },
  {
   "cell_type": "markdown",
   "metadata": {},
   "source": [
    "Load in structural clustering results as dataframe"
   ]
  },
  {
   "cell_type": "code",
   "execution_count": 2,
   "metadata": {},
   "outputs": [],
   "source": [
    "results = pd.read_csv(\"CDR_loop_clusters.csv\").drop('Unnamed: 0', axis=1)"
   ]
  },
  {
   "cell_type": "markdown",
   "metadata": {},
   "source": [
    "Separate into H1, H2 and H3 results"
   ]
  },
  {
   "cell_type": "code",
   "execution_count": 3,
   "metadata": {},
   "outputs": [],
   "source": [
    "results_h1 = results.loc[results['H_loop'] == 'H1']\n",
    "results_h2 = results.loc[results['H_loop'] == 'H2']\n",
    "results_h3 = results.loc[results['H_loop'] == 'H3']"
   ]
  },
  {
   "cell_type": "code",
   "execution_count": 4,
   "metadata": {},
   "outputs": [
    {
     "data": {
      "text/plain": [
       "Index(['PDB ID', 'cluster_by_RMSD', 'Ig_ID', 'cluster_by_length', 'H_loop'], dtype='object')"
      ]
     },
     "execution_count": 4,
     "metadata": {},
     "output_type": "execute_result"
    }
   ],
   "source": [
    "results_h1.columns"
   ]
  },
  {
   "cell_type": "code",
   "execution_count": 5,
   "metadata": {},
   "outputs": [],
   "source": [
    "results_h1.to_csv('results_h1')\n",
    "results_h2.to_csv('results_h2')\n",
    "results_h3.to_csv('results_h3')"
   ]
  },
  {
   "cell_type": "markdown",
   "metadata": {},
   "source": [
    "For the results for each loop, need to:\n",
    "\n",
    "- identify which clusters have Nbs and Abs members in them\n",
    "- find how many overlap clusters\n",
    "- find how many & what proportion of structures belong to overlap clusters"
   ]
  },
  {
   "cell_type": "code",
   "execution_count": 6,
   "metadata": {},
   "outputs": [],
   "source": [
    "def get_freqs(results_df):\n",
    "\n",
    "    # get breakdown of abs vs nbs within clusters\n",
    "    freq_df = results_df.groupby(['cluster_by_RMSD', 'Ig_ID']).size().reset_index()\n",
    "    freq_df = freq_df.pivot(index='cluster_by_RMSD', columns='Ig_ID')[0].fillna(0).sort_values(by='Abs', ascending=False)\n",
    "\n",
    "    return freq_df"
   ]
  },
  {
   "cell_type": "code",
   "execution_count": 7,
   "metadata": {},
   "outputs": [],
   "source": [
    "def find_overlap_clusters(results_df):\n",
    "\n",
    "    # input results for a loop and get frequencies of Abs and Nbs\n",
    "    freq_df = get_freqs(results_df)\n",
    "    # identify overlap clusters \n",
    "    overlaps_id = []\n",
    "    overlaps_abs, overlaps_nbs = 0, 0 \n",
    "\n",
    "    for row in freq_df.itertuples():\n",
    "        # if there are members from Abs and Nbs in the cluster\n",
    "        # row[1] is Abs and row[2] is Nbs\n",
    "        if row[1] != 0 and row[2] != 0:\n",
    "            # row[0] is PDB ID\n",
    "            overlaps_id.append(row[0])\n",
    "            # how many structures in overlapping cluster?\n",
    "            overlaps_abs += int(row[1])\n",
    "            overlaps_nbs += int(row[2])\n",
    "    \n",
    "    # get proportion of total structures that are in overlap clusters\n",
    "    # NOTE want proportion (1) just abs (2) just nbs (3) abs and nbs \n",
    "    overlaps_props = dict()\n",
    "    overlaps_props['Abs'] = overlaps_abs / len(results_df)\n",
    "    overlaps_props['Nbs'] = overlaps_nbs / len(results_df)\n",
    "    overlaps_props['Both'] = (overlaps_abs + overlaps_nbs) / len(results_df)\n",
    "\n",
    "    return overlaps_id, overlaps_props"
   ]
  },
  {
   "cell_type": "code",
   "execution_count": 8,
   "metadata": {},
   "outputs": [],
   "source": [
    "overlaps_id_h1, overlaps_prop_h1 = find_overlap_clusters(results_h1)\n",
    "overlaps_id_h2, overlaps_prop_h2 = find_overlap_clusters(results_h2)\n",
    "overlaps_id_h3, overlaps_prop_h3 = find_overlap_clusters(results_h3)"
   ]
  },
  {
   "cell_type": "code",
   "execution_count": 9,
   "metadata": {},
   "outputs": [
    {
     "name": "stdout",
     "output_type": "stream",
     "text": [
      "H1 PROPORTION OF STRUCTURES IN OVERLAP: {'Abs': 0.58311345646438, 'Nbs': 0.1345646437994723, 'Both': 0.7176781002638523}\n",
      "H2 PROPORTION OF STRUCTURES IN OVERLAP: {'Abs': 0.6543535620052771, 'Nbs': 0.21108179419525067, 'Both': 0.8654353562005277}\n",
      "H3 PROPORTION OF STRUCTURES IN OVERLAP: {'Abs': 0.051011433597185574, 'Nbs': 0.010554089709762533, 'Both': 0.06156552330694811}\n"
     ]
    }
   ],
   "source": [
    "print('H1 PROPORTION OF STRUCTURES IN OVERLAP:', overlaps_prop_h1)\n",
    "print('H2 PROPORTION OF STRUCTURES IN OVERLAP:', overlaps_prop_h2)\n",
    "print('H3 PROPORTION OF STRUCTURES IN OVERLAP:', overlaps_prop_h3)"
   ]
  },
  {
   "cell_type": "code",
   "execution_count": 10,
   "metadata": {},
   "outputs": [],
   "source": [
    "all_h1_freqs, all_h2_freqs, all_h3_freqs = get_freqs(results_h1), get_freqs(results_h2), get_freqs(results_h3)"
   ]
  },
  {
   "cell_type": "code",
   "execution_count": 11,
   "metadata": {},
   "outputs": [
    {
     "name": "stdout",
     "output_type": "stream",
     "text": [
      "0\n",
      "Total: 168\n",
      "Only Abs: 66\n",
      "Only Nbs: 84\n",
      "Overlap: 18\n",
      "Abs singletons: 48\n",
      "Nbs singletons: 64\n",
      "1\n",
      "Total: 94\n",
      "Only Abs: 35\n",
      "Only Nbs: 36\n",
      "Overlap: 23\n",
      "Abs singletons: 21\n",
      "Nbs singletons: 25\n",
      "2\n",
      "Total: 729\n",
      "Only Abs: 489\n",
      "Only Nbs: 230\n",
      "Overlap: 10\n",
      "Abs singletons: 383\n",
      "Nbs singletons: 197\n"
     ]
    }
   ],
   "source": [
    "for i, loop in enumerate([all_h1_freqs, all_h2_freqs, all_h3_freqs]):\n",
    "\n",
    "    print(i)\n",
    "\n",
    "    #how many Abs and Nbs clusters overlap, how many clusters contain only Abs or Nbs?\n",
    "    print('Total:', len(loop))\n",
    "    print('Only Abs:', len(loop.loc[(loop[\"Abs\"] != 0) & (loop[\"Nbs\"] == 0)]))\n",
    "    print('Only Nbs:', len(loop.loc[(loop[\"Abs\"] == 0) & (loop[\"Nbs\"] != 0)]))\n",
    "    print('Overlap:', len(loop.loc[(loop[\"Abs\"] != 0) & (loop[\"Nbs\"] != 0)]))\n",
    "    #how many clusters are singletons?\n",
    "    print('Abs singletons:', len(loop.loc[(loop[\"Abs\"] == 1) & (loop[\"Nbs\"] == 0)]))\n",
    "    print('Nbs singletons:', len(loop.loc[(loop[\"Nbs\"] == 1) & (loop[\"Abs\"] == 0)]))"
   ]
  },
  {
   "cell_type": "markdown",
   "metadata": {},
   "source": [
    "Generate sets of random clusters that match sizes of original clusters and see how many by chance overlap in Abs and Nbs members"
   ]
  },
  {
   "cell_type": "code",
   "execution_count": 57,
   "metadata": {},
   "outputs": [],
   "source": [
    "import pandas as pd\n",
    "from tqdm import tqdm\n",
    "\n",
    "def get_cluster_sizes(cluster_file):\n",
    "    '''Returns array with sizes of multiple occupancy clusters'''\n",
    "    df = pd.read_csv(cluster_file, index_col=0)\n",
    "    cluster_size = df.groupby('cluster_by_RMSD').nunique()['PDB ID'].sort_values(ascending=False)\n",
    "    return cluster_size[cluster_size > 1].values\n",
    "\n",
    "def sample_clusters_from_db(db, cluster_sizes):\n",
    "    new_db = pd.DataFrame()\n",
    "\n",
    "    for i, cluster_size in enumerate(cluster_sizes):\n",
    "        cluster = db.sample(n=cluster_size, replace=False)\n",
    "        cluster['cluster'] = str(i)\n",
    "        new_db = pd.concat([new_db, cluster])\n",
    "        db = db.drop(cluster.index)\n",
    "    return new_db\n",
    "\n",
    "def generate_random_clusters(cluster_size, n_replicates, db):\n",
    "    '''Returns list of dataframes with Abs randomly assigned to clusters'''\n",
    "    random_clusters = []\n",
    "\n",
    "    db['cluster'] = 'None'\n",
    "\n",
    "    for i in tqdm(range(n_replicates)):\n",
    "        random_clusters.append(sample_clusters_from_db(db, cluster_size))\n",
    "\n",
    "    return random_clusters"
   ]
  },
  {
   "cell_type": "markdown",
   "metadata": {},
   "source": [
    "creates list of cluster sizes "
   ]
  },
  {
   "cell_type": "code",
   "execution_count": 58,
   "metadata": {},
   "outputs": [],
   "source": [
    "cluster_sizes_h1 = get_cluster_sizes('struc_clustering/results_h1')\n",
    "cluster_sizes_h2 = get_cluster_sizes('struc_clustering/results_h2')\n",
    "cluster_sizes_h3 = get_cluster_sizes('struc_clustering/results_h3')"
   ]
  },
  {
   "cell_type": "code",
   "execution_count": 59,
   "metadata": {},
   "outputs": [
    {
     "data": {
      "text/plain": [
       "array([498, 201,  46,  21,  18,  16,  15,  15,  12,  11,  11,  11,  11,\n",
       "         8,   8,   7,   7,   6,   6,   5,   5,   5,   4,   4,   4,   4,\n",
       "         3,   3,   3,   3,   3,   3,   2,   2,   2,   2,   2,   2,   2,\n",
       "         2,   2,   2,   2,   2,   2,   2,   2,   2,   2,   2,   2,   2,\n",
       "         2,   2,   2,   2])"
      ]
     },
     "execution_count": 59,
     "metadata": {},
     "output_type": "execute_result"
    }
   ],
   "source": [
    "cluster_sizes_h1"
   ]
  },
  {
   "cell_type": "markdown",
   "metadata": {},
   "source": [
    "generates 20 sets of random clusters of same sizes as original cluster sizes, returns list of dfs"
   ]
  },
  {
   "cell_type": "code",
   "execution_count": 60,
   "metadata": {},
   "outputs": [
    {
     "name": "stderr",
     "output_type": "stream",
     "text": [
      "<ipython-input-57-586cc62a7013>:24: SettingWithCopyWarning: \n",
      "A value is trying to be set on a copy of a slice from a DataFrame.\n",
      "Try using .loc[row_indexer,col_indexer] = value instead\n",
      "\n",
      "See the caveats in the documentation: https://pandas.pydata.org/pandas-docs/stable/user_guide/indexing.html#returning-a-view-versus-a-copy\n",
      "  db['cluster'] = 'None'\n",
      "100%|██████████| 20/20 [00:02<00:00,  7.72it/s]\n",
      "100%|██████████| 20/20 [00:01<00:00, 15.61it/s]\n",
      "100%|██████████| 20/20 [00:03<00:00,  5.22it/s]\n"
     ]
    }
   ],
   "source": [
    "random_clusters_h1 = generate_random_clusters(cluster_sizes_h1, 20, results_h1)\n",
    "random_clusters_h2 = generate_random_clusters(cluster_sizes_h2, 20, results_h2)\n",
    "random_clusters_h3 = generate_random_clusters(cluster_sizes_h3, 20, results_h3)"
   ]
  },
  {
   "cell_type": "code",
   "execution_count": 61,
   "metadata": {},
   "outputs": [
    {
     "data": {
      "text/plain": [
       "20"
      ]
     },
     "execution_count": 61,
     "metadata": {},
     "output_type": "execute_result"
    }
   ],
   "source": [
    "len(random_clusters_h1)"
   ]
  },
  {
   "cell_type": "markdown",
   "metadata": {},
   "source": [
    "For each DF in results, find how many overlap and which overlap to find proportions"
   ]
  },
  {
   "cell_type": "markdown",
   "metadata": {},
   "source": [
    "for each df, get list of overlap clusters"
   ]
  },
  {
   "cell_type": "code",
   "execution_count": 62,
   "metadata": {},
   "outputs": [],
   "source": [
    "def get_overlap_ids_list(random_clusters):\n",
    "\n",
    "    overlap_ids = []\n",
    "    for rc in random_clusters:\n",
    "        overlap_id_df, _ = find_overlap_clusters(rc)\n",
    "        overlap_ids.append(overlap_id_df)\n",
    "\n",
    "    return overlap_ids"
   ]
  },
  {
   "cell_type": "code",
   "execution_count": 63,
   "metadata": {},
   "outputs": [],
   "source": [
    "random_overlap_ids_h1 = get_overlap_ids_list(random_clusters_h1)\n",
    "random_overlap_ids_h2 = get_overlap_ids_list(random_clusters_h2)\n",
    "random_overlap_ids_h3 = get_overlap_ids_list(random_clusters_h3)"
   ]
  },
  {
   "cell_type": "code",
   "execution_count": 64,
   "metadata": {},
   "outputs": [
    {
     "data": {
      "text/plain": [
       "20"
      ]
     },
     "execution_count": 64,
     "metadata": {},
     "output_type": "execute_result"
    }
   ],
   "source": [
    "len(random_overlap_ids_h1)"
   ]
  },
  {
   "cell_type": "markdown",
   "metadata": {},
   "source": [
    "Label PDB structures in results as whether overlap or non-overlap cluster"
   ]
  },
  {
   "cell_type": "code",
   "execution_count": 65,
   "metadata": {},
   "outputs": [],
   "source": [
    "def add_overlap_label(results_df, overlap_ids):\n",
    "    \n",
    "    output_df = results_df.copy(deep=True)\n",
    "    overlap_labels = []\n",
    "    for row in output_df.itertuples():\n",
    "        # if cluster_by_RMSD column (representative structure for cluster) is in the overlap list:\n",
    "        if row[2] in overlap_ids:\n",
    "            overlap_labels.append('Overlap')\n",
    "        else:\n",
    "            overlap_labels.append('Non-overlap')\n",
    "            \n",
    "    # create new column in results df\n",
    "    output_df['Overlap_label'] = overlap_labels\n",
    "\n",
    "    return output_df"
   ]
  },
  {
   "cell_type": "code",
   "execution_count": 66,
   "metadata": {},
   "outputs": [],
   "source": [
    "def find_overlaps(random_clusters, overlap_ids):\n",
    "\n",
    "    overlap_dfs = []\n",
    "    for rc, ids in zip(random_clusters, overlap_ids):\n",
    "        overlap_df = add_overlap_label(rc, ids)\n",
    "        overlap_dfs.append(overlap_df)\n",
    "\n",
    "    return overlap_dfs"
   ]
  },
  {
   "cell_type": "code",
   "execution_count": 67,
   "metadata": {},
   "outputs": [],
   "source": [
    "random_clusters_h1_l = find_overlaps(random_clusters_h1, random_overlap_ids_h1)\n",
    "random_clusters_h2_l = find_overlaps(random_clusters_h2, random_overlap_ids_h2)\n",
    "random_clusters_h3_l = find_overlaps(random_clusters_h3, random_overlap_ids_h3)"
   ]
  },
  {
   "cell_type": "code",
   "execution_count": 68,
   "metadata": {},
   "outputs": [
    {
     "data": {
      "text/plain": [
       "20"
      ]
     },
     "execution_count": 68,
     "metadata": {},
     "output_type": "execute_result"
    }
   ],
   "source": [
    "len(random_clusters_h1_l)"
   ]
  },
  {
   "cell_type": "markdown",
   "metadata": {},
   "source": [
    "Count how many clusters are overlap clusters in the random clusters & find the mean and stdev"
   ]
  },
  {
   "cell_type": "markdown",
   "metadata": {},
   "source": [
    "for each labelled df, get freq df"
   ]
  },
  {
   "cell_type": "code",
   "execution_count": 69,
   "metadata": {},
   "outputs": [
    {
     "data": {
      "text/html": [
       "<div>\n",
       "<style scoped>\n",
       "    .dataframe tbody tr th:only-of-type {\n",
       "        vertical-align: middle;\n",
       "    }\n",
       "\n",
       "    .dataframe tbody tr th {\n",
       "        vertical-align: top;\n",
       "    }\n",
       "\n",
       "    .dataframe thead th {\n",
       "        text-align: right;\n",
       "    }\n",
       "</style>\n",
       "<table border=\"1\" class=\"dataframe\">\n",
       "  <thead>\n",
       "    <tr style=\"text-align: right;\">\n",
       "      <th></th>\n",
       "      <th>PDB ID</th>\n",
       "      <th>cluster_by_RMSD</th>\n",
       "      <th>Ig_ID</th>\n",
       "      <th>cluster_by_length</th>\n",
       "      <th>H_loop</th>\n",
       "      <th>cluster</th>\n",
       "      <th>Overlap_label</th>\n",
       "    </tr>\n",
       "  </thead>\n",
       "  <tbody>\n",
       "    <tr>\n",
       "      <th>286</th>\n",
       "      <td>5wi9</td>\n",
       "      <td>5do2</td>\n",
       "      <td>Abs</td>\n",
       "      <td>13_0_0_</td>\n",
       "      <td>H1</td>\n",
       "      <td>0</td>\n",
       "      <td>Overlap</td>\n",
       "    </tr>\n",
       "    <tr>\n",
       "      <th>508</th>\n",
       "      <td>6vbg</td>\n",
       "      <td>5do2</td>\n",
       "      <td>Nbs</td>\n",
       "      <td>13_0_0_</td>\n",
       "      <td>H1</td>\n",
       "      <td>0</td>\n",
       "      <td>Overlap</td>\n",
       "    </tr>\n",
       "    <tr>\n",
       "      <th>713</th>\n",
       "      <td>5en2</td>\n",
       "      <td>1ahw</td>\n",
       "      <td>Abs</td>\n",
       "      <td>13_0_0_</td>\n",
       "      <td>H1</td>\n",
       "      <td>0</td>\n",
       "      <td>Overlap</td>\n",
       "    </tr>\n",
       "    <tr>\n",
       "      <th>622</th>\n",
       "      <td>5bo1</td>\n",
       "      <td>1ahw</td>\n",
       "      <td>Abs</td>\n",
       "      <td>13_0_0_</td>\n",
       "      <td>H1</td>\n",
       "      <td>0</td>\n",
       "      <td>Overlap</td>\n",
       "    </tr>\n",
       "    <tr>\n",
       "      <th>432</th>\n",
       "      <td>5y2l</td>\n",
       "      <td>5do2</td>\n",
       "      <td>Abs</td>\n",
       "      <td>13_0_0_</td>\n",
       "      <td>H1</td>\n",
       "      <td>0</td>\n",
       "      <td>Overlap</td>\n",
       "    </tr>\n",
       "    <tr>\n",
       "      <th>...</th>\n",
       "      <td>...</td>\n",
       "      <td>...</td>\n",
       "      <td>...</td>\n",
       "      <td>...</td>\n",
       "      <td>...</td>\n",
       "      <td>...</td>\n",
       "      <td>...</td>\n",
       "    </tr>\n",
       "    <tr>\n",
       "      <th>158</th>\n",
       "      <td>6pxh</td>\n",
       "      <td>5do2</td>\n",
       "      <td>Abs</td>\n",
       "      <td>13_0_0_</td>\n",
       "      <td>H1</td>\n",
       "      <td>53</td>\n",
       "      <td>Overlap</td>\n",
       "    </tr>\n",
       "    <tr>\n",
       "      <th>330</th>\n",
       "      <td>6j5f</td>\n",
       "      <td>5do2</td>\n",
       "      <td>Abs</td>\n",
       "      <td>13_0_0_</td>\n",
       "      <td>H1</td>\n",
       "      <td>53</td>\n",
       "      <td>Overlap</td>\n",
       "    </tr>\n",
       "    <tr>\n",
       "      <th>370</th>\n",
       "      <td>4lsu</td>\n",
       "      <td>5do2</td>\n",
       "      <td>Abs</td>\n",
       "      <td>13_0_0_</td>\n",
       "      <td>H1</td>\n",
       "      <td>54</td>\n",
       "      <td>Overlap</td>\n",
       "    </tr>\n",
       "    <tr>\n",
       "      <th>737</th>\n",
       "      <td>1fsk</td>\n",
       "      <td>1ahw</td>\n",
       "      <td>Abs</td>\n",
       "      <td>13_0_0_</td>\n",
       "      <td>H1</td>\n",
       "      <td>54</td>\n",
       "      <td>Overlap</td>\n",
       "    </tr>\n",
       "    <tr>\n",
       "      <th>345</th>\n",
       "      <td>4cad</td>\n",
       "      <td>5do2</td>\n",
       "      <td>Abs</td>\n",
       "      <td>13_0_0_</td>\n",
       "      <td>H1</td>\n",
       "      <td>55</td>\n",
       "      <td>Overlap</td>\n",
       "    </tr>\n",
       "  </tbody>\n",
       "</table>\n",
       "<p>739 rows × 7 columns</p>\n",
       "</div>"
      ],
      "text/plain": [
       "    PDB ID cluster_by_RMSD Ig_ID cluster_by_length H_loop cluster  \\\n",
       "286   5wi9            5do2   Abs           13_0_0_     H1       0   \n",
       "508   6vbg            5do2   Nbs           13_0_0_     H1       0   \n",
       "713   5en2            1ahw   Abs           13_0_0_     H1       0   \n",
       "622   5bo1            1ahw   Abs           13_0_0_     H1       0   \n",
       "432   5y2l            5do2   Abs           13_0_0_     H1       0   \n",
       "..     ...             ...   ...               ...    ...     ...   \n",
       "158   6pxh            5do2   Abs           13_0_0_     H1      53   \n",
       "330   6j5f            5do2   Abs           13_0_0_     H1      53   \n",
       "370   4lsu            5do2   Abs           13_0_0_     H1      54   \n",
       "737   1fsk            1ahw   Abs           13_0_0_     H1      54   \n",
       "345   4cad            5do2   Abs           13_0_0_     H1      55   \n",
       "\n",
       "    Overlap_label  \n",
       "286       Overlap  \n",
       "508       Overlap  \n",
       "713       Overlap  \n",
       "622       Overlap  \n",
       "432       Overlap  \n",
       "..            ...  \n",
       "158       Overlap  \n",
       "330       Overlap  \n",
       "370       Overlap  \n",
       "737       Overlap  \n",
       "345       Overlap  \n",
       "\n",
       "[739 rows x 7 columns]"
      ]
     },
     "execution_count": 69,
     "metadata": {},
     "output_type": "execute_result"
    }
   ],
   "source": [
    "random_clusters_h1_l[0].loc[(random_clusters_h1_l[0]['Overlap_label'] == 'Overlap')]"
   ]
  },
  {
   "cell_type": "markdown",
   "metadata": {},
   "source": [
    "find total number of clusters which are randomly overlap clusters"
   ]
  },
  {
   "cell_type": "code",
   "execution_count": 70,
   "metadata": {},
   "outputs": [],
   "source": [
    "def get_overlap_summary(dfs):\n",
    "\n",
    "    overlap_counts = []\n",
    "    for df in dfs:\n",
    "        #how many Abs and Nbs clusters overlap?\n",
    "        overlap_df = df[['cluster_by_RMSD', 'Overlap_label']].drop_duplicates(subset='cluster_by_RMSD', keep='first')\n",
    "        overlap_count = len(overlap_df.loc[(overlap_df['Overlap_label'] == 'Overlap')])\n",
    "        overlap_counts.append(overlap_count)\n",
    "\n",
    "    # get mean and stdev overlap\n",
    "    mean_overlap = np.mean(overlap_counts)\n",
    "    stdev_overlap = np.std(overlap_counts)\n",
    "\n",
    "    summary = {'MEAN': mean_overlap, 'STDEV': stdev_overlap}\n",
    "\n",
    "    return summary"
   ]
  },
  {
   "cell_type": "code",
   "execution_count": 71,
   "metadata": {},
   "outputs": [],
   "source": [
    "h1_summary = get_overlap_summary(random_clusters_h1_l)\n",
    "h2_summary = get_overlap_summary(random_clusters_h2_l)\n",
    "h3_summary = get_overlap_summary(random_clusters_h3_l)"
   ]
  },
  {
   "cell_type": "code",
   "execution_count": 72,
   "metadata": {},
   "outputs": [
    {
     "name": "stdout",
     "output_type": "stream",
     "text": [
      "H1 RANDOM OVERLAP RESULTS: {'MEAN': 16.2, 'STDEV': 1.2884098726725126}\n",
      "H2 RANDOM OVERLAP RESULTS: {'MEAN': 22.25, 'STDEV': 0.82915619758885}\n",
      "H3 RANDOM OVERLAP RESULTS: {'MEAN': 3.3, 'STDEV': 1.5524174696260025}\n"
     ]
    }
   ],
   "source": [
    "print('H1 RANDOM OVERLAP RESULTS:', h1_summary)\n",
    "print('H2 RANDOM OVERLAP RESULTS:', h2_summary)\n",
    "print('H3 RANDOM OVERLAP RESULTS:', h3_summary)"
   ]
  },
  {
   "cell_type": "code",
   "execution_count": null,
   "metadata": {},
   "outputs": [],
   "source": []
  }
 ],
 "metadata": {
  "kernelspec": {
   "display_name": "Python 3.8.8 ('base')",
   "language": "python",
   "name": "python3"
  },
  "language_info": {
   "codemirror_mode": {
    "name": "ipython",
    "version": 3
   },
   "file_extension": ".py",
   "mimetype": "text/x-python",
   "name": "python",
   "nbconvert_exporter": "python",
   "pygments_lexer": "ipython3",
   "version": "3.8.8 (default, Apr 13 2021, 12:59:45) \n[Clang 10.0.0 ]"
  },
  "orig_nbformat": 4,
  "vscode": {
   "interpreter": {
    "hash": "6583c3f449b2025ea649b72d4a52efb1871eb538dba3514b6dae43f01b685c61"
   }
  }
 },
 "nbformat": 4,
 "nbformat_minor": 2
}
