{
 "cells": [
  {
   "cell_type": "code",
   "execution_count": null,
   "metadata": {},
   "outputs": [],
   "source": [
    "##@Author: Gemma Gordon\n",
    "#@Date: January 2022\n",
    "# Script to parse sequence data for CDRs and germlines and generate non-redundant sequence datasets"
   ]
  },
  {
   "cell_type": "markdown",
   "metadata": {},
   "source": [
    "input datasets for Abs (VH) and Nbs (VHH) sequences, get CDR loop lengths and germlines"
   ]
  },
  {
   "cell_type": "code",
   "execution_count": 1,
   "metadata": {},
   "outputs": [],
   "source": [
    "import pandas as pd\n",
    "import numpy as np"
   ]
  },
  {
   "cell_type": "markdown",
   "metadata": {},
   "source": [
    "load in data from OAS"
   ]
  },
  {
   "cell_type": "markdown",
   "metadata": {},
   "source": [
    "VHH sequences (Li camel)"
   ]
  },
  {
   "cell_type": "code",
   "execution_count": 2,
   "metadata": {},
   "outputs": [],
   "source": [
    "vhh_li = ['http://opig.stats.ox.ac.uk/webapps/ngsdb/unpaired/Li_2017/csv/SRR3544220_Heavy_Bulk.csv.gz',\n",
    "'http://opig.stats.ox.ac.uk/webapps/ngsdb/unpaired/Li_2017/csv/SRR3544218_Heavy_Bulk.csv.gz',\n",
    "'http://opig.stats.ox.ac.uk/webapps/ngsdb/unpaired/Li_2017/csv/SRR3544219_Heavy_Bulk.csv.gz',\n",
    "'http://opig.stats.ox.ac.uk/webapps/ngsdb/unpaired/Li_2017/csv/SRR3544218_Heavy_IGHD.csv.gz',\n",
    "'http://opig.stats.ox.ac.uk/webapps/ngsdb/unpaired/Li_2017/csv/SRR3544222_Heavy_IGHM.csv.gz',\n",
    "'http://opig.stats.ox.ac.uk/webapps/ngsdb/unpaired/Li_2017/csv/SRR3544221_Heavy_IGHM.csv.gz',\n",
    "'http://opig.stats.ox.ac.uk/webapps/ngsdb/unpaired/Li_2017/csv/SRR3544220_Heavy_IGHG.csv.gz',\n",
    "'http://opig.stats.ox.ac.uk/webapps/ngsdb/unpaired/Li_2017/csv/SRR3544222_Heavy_Bulk.csv.gz',\n",
    "'http://opig.stats.ox.ac.uk/webapps/ngsdb/unpaired/Li_2017/csv/SRR3544218_Heavy_IGHG.csv.gz',\n",
    "'http://opig.stats.ox.ac.uk/webapps/ngsdb/unpaired/Li_2017/csv/SRR3544222_Heavy_IGHA.csv.gz',\n",
    "'http://opig.stats.ox.ac.uk/webapps/ngsdb/unpaired/Li_2017/csv/SRR3544217_Heavy_IGHM.csv.gz',\n",
    "'http://opig.stats.ox.ac.uk/webapps/ngsdb/unpaired/Li_2017/csv/SRR3544217_Heavy_IGHA.csv.gz',\n",
    "'http://opig.stats.ox.ac.uk/webapps/ngsdb/unpaired/Li_2017/csv/SRR3544217_Heavy_Bulk.csv.gz',\n",
    "'http://opig.stats.ox.ac.uk/webapps/ngsdb/unpaired/Li_2017/csv/SRR3544221_Heavy_Bulk.csv.gz',\n",
    "'http://opig.stats.ox.ac.uk/webapps/ngsdb/unpaired/Li_2017/csv/SRR3544219_Heavy_IGHA.csv.gz',\n",
    "'http://opig.stats.ox.ac.uk/webapps/ngsdb/unpaired/Li_2017/csv/SRR3544218_Heavy_IGHM.csv.gz',\n",
    "'http://opig.stats.ox.ac.uk/webapps/ngsdb/unpaired/Li_2017/csv/SRR3544220_Heavy_IGHA.csv.gz',\n",
    "'http://opig.stats.ox.ac.uk/webapps/ngsdb/unpaired/Li_2017/csv/SRR3544219_Heavy_IGHM.csv.gz',\n",
    "'http://opig.stats.ox.ac.uk/webapps/ngsdb/unpaired/Li_2017/csv/SRR3544221_Heavy_IGHA.csv.gz',\n",
    "'http://opig.stats.ox.ac.uk/webapps/ngsdb/unpaired/Li_2017/csv/SRR3544217_Heavy_IGHE.csv.gz',\n",
    "'http://opig.stats.ox.ac.uk/webapps/ngsdb/unpaired/Li_2017/csv/SRR3544217_Heavy_IGHD.csv.gz',\n",
    "'http://opig.stats.ox.ac.uk/webapps/ngsdb/unpaired/Li_2017/csv/SRR3544218_Heavy_IGHE.csv.gz',\n",
    "'http://opig.stats.ox.ac.uk/webapps/ngsdb/unpaired/Li_2017/csv/SRR3544220_Heavy_IGHM.csv.gz',\n",
    "'http://opig.stats.ox.ac.uk/webapps/ngsdb/unpaired/Li_2017/csv/SRR3544217_Heavy_IGHG.csv.gz']"
   ]
  },
  {
   "cell_type": "code",
   "execution_count": 5,
   "metadata": {},
   "outputs": [],
   "source": [
    "import ast"
   ]
  },
  {
   "cell_type": "markdown",
   "metadata": {},
   "source": [
    "VH sequences (Eliyahu human)"
   ]
  },
  {
   "cell_type": "code",
   "execution_count": 6,
   "metadata": {},
   "outputs": [],
   "source": [
    "with open('vh_seqs.txt') as file:\n",
    "    lines = file.readlines()\n",
    "    vh_eliyahu = []\n",
    "    for line in lines:\n",
    "        seq_file = line.split(' ')[1].strip('\\n')\n",
    "        vh_eliyahu.append(seq_file)\n",
    "    file.close()"
   ]
  },
  {
   "attachments": {},
   "cell_type": "markdown",
   "metadata": {},
   "source": [
    "### check sequence redundancy"
   ]
  },
  {
   "cell_type": "code",
   "execution_count": 20,
   "metadata": {},
   "outputs": [],
   "source": [
    "vh_seqs = []\n",
    "\n",
    "for url in vh_eliyahu:\n",
    "\n",
    "    sequences = pd.read_csv(url, header=1)\n",
    "    vh_seqs.append(sequences['ANARCI_numbering'])\n"
   ]
  },
  {
   "cell_type": "code",
   "execution_count": 23,
   "metadata": {},
   "outputs": [],
   "source": [
    "vh_seqs = [v for h in vh_seqs for v in h]"
   ]
  },
  {
   "cell_type": "code",
   "execution_count": 27,
   "metadata": {},
   "outputs": [
    {
     "name": "stdout",
     "output_type": "stream",
     "text": [
      "1621889\n",
      "1614526\n",
      "7363\n"
     ]
    }
   ],
   "source": [
    "print(len(vh_seqs))\n",
    "print(len(set(vh_seqs)))\n",
    "print(len(vh_seqs) - len(set(vh_seqs)))"
   ]
  },
  {
   "cell_type": "code",
   "execution_count": 28,
   "metadata": {},
   "outputs": [],
   "source": [
    "vhh_seqs = []\n",
    "\n",
    "for url in vhh_li:\n",
    "\n",
    "    sequences = pd.read_csv(url, header=1)\n",
    "    vhh_seqs.append(sequences['ANARCI_numbering'])"
   ]
  },
  {
   "cell_type": "code",
   "execution_count": 29,
   "metadata": {},
   "outputs": [],
   "source": [
    "vhh_seqs = [v for h in vhh_seqs for v in h]"
   ]
  },
  {
   "cell_type": "code",
   "execution_count": 30,
   "metadata": {},
   "outputs": [
    {
     "name": "stdout",
     "output_type": "stream",
     "text": [
      "1601636\n",
      "1596446\n",
      "5190\n"
     ]
    }
   ],
   "source": [
    "print(len(vhh_seqs))\n",
    "print(len(set(vhh_seqs)))\n",
    "print(len(vhh_seqs) - len(set(vhh_seqs)))"
   ]
  },
  {
   "attachments": {},
   "cell_type": "markdown",
   "metadata": {},
   "source": [
    "Create non-redundant dataframes of VH and VHH sequences"
   ]
  },
  {
   "cell_type": "code",
   "execution_count": 31,
   "metadata": {},
   "outputs": [],
   "source": [
    "abs_seqs_df = []\n",
    "\n",
    "for url in vh_eliyahu:\n",
    "\n",
    "    df = pd.read_csv(url, header=1)\n",
    "    abs_seqs_df.append(df)"
   ]
  },
  {
   "cell_type": "code",
   "execution_count": 32,
   "metadata": {},
   "outputs": [],
   "source": [
    "abs_seqs_df = pd.concat(abs_seqs_df)"
   ]
  },
  {
   "cell_type": "code",
   "execution_count": 34,
   "metadata": {},
   "outputs": [],
   "source": [
    "sdabs_seqs_df = []\n",
    "\n",
    "for url in vhh_li:\n",
    "\n",
    "    df = pd.read_csv(url, header=1)\n",
    "    sdabs_seqs_df.append(df)"
   ]
  },
  {
   "cell_type": "code",
   "execution_count": 35,
   "metadata": {},
   "outputs": [],
   "source": [
    "sdabs_seqs_df = pd.concat(sdabs_seqs_df)"
   ]
  },
  {
   "attachments": {},
   "cell_type": "markdown",
   "metadata": {},
   "source": [
    "Plot distributions of CDRH loop lengths and germlines"
   ]
  },
  {
   "cell_type": "code",
   "execution_count": 36,
   "metadata": {},
   "outputs": [],
   "source": [
    "def get_cdr_germlines(df):\n",
    "\n",
    "    cdrh1s, cdrh2s, cdrh3s = [],[],[]\n",
    "    for anarci_results in df['ANARCI_numbering']:\n",
    "        anarci_dict = ast.literal_eval(anarci_results)\n",
    "        cdrh1, cdrh2, cdrh3 = anarci_dict['cdrh1'], anarci_dict['cdrh2'], anarci_dict['cdrh3']\n",
    "        cdrh1s.append(cdrh1)\n",
    "        cdrh2s.append(cdrh2)\n",
    "        cdrh3s.append(cdrh3)\n",
    "\n",
    "    df['cdrh1'] = cdrh1s\n",
    "    df['cdrh2'] = cdrh2s\n",
    "    df['cdrh3'] = cdrh3s\n",
    "\n",
    "    return df"
   ]
  },
  {
   "cell_type": "code",
   "execution_count": 37,
   "metadata": {},
   "outputs": [],
   "source": [
    "sdabs_results_df = get_cdr_germlines(sdabs_seqs_df)"
   ]
  },
  {
   "cell_type": "code",
   "execution_count": 38,
   "metadata": {},
   "outputs": [],
   "source": [
    "abs_results_df = get_cdr_germlines(abs_seqs_df)"
   ]
  },
  {
   "attachments": {},
   "cell_type": "markdown",
   "metadata": {},
   "source": [
    "Add CDR lengths in new columns"
   ]
  },
  {
   "cell_type": "code",
   "execution_count": 39,
   "metadata": {},
   "outputs": [],
   "source": [
    "def get_cdr_lens(df):\n",
    "\n",
    "    cdrh1_lens, cdrh2_lens, cdrh3_lens = [], [], []\n",
    "\n",
    "    for row in df['cdrh1']:\n",
    "        cdrh1_len = len(row)\n",
    "        cdrh1_lens.append(cdrh1_len)\n",
    "    for row in df['cdrh2']:\n",
    "        cdrh2_len = len(row)\n",
    "        cdrh2_lens.append(cdrh2_len)   \n",
    "    for row in df['cdrh3']:\n",
    "        cdrh3_len = len(row)\n",
    "        cdrh3_lens.append(cdrh3_len)\n",
    "\n",
    "    df['cdrh1_lens'] = cdrh1_lens\n",
    "    df['cdrh2_lens'] = cdrh2_lens\n",
    "    df['cdrh3_lens'] = cdrh3_lens\n",
    "\n",
    "    return df"
   ]
  },
  {
   "cell_type": "code",
   "execution_count": 40,
   "metadata": {},
   "outputs": [],
   "source": [
    "sdabs_results_df2 = get_cdr_lens(sdabs_results_df)"
   ]
  },
  {
   "cell_type": "code",
   "execution_count": 42,
   "metadata": {},
   "outputs": [],
   "source": [
    "abs_results_df2 = get_cdr_lens(abs_results_df)"
   ]
  },
  {
   "cell_type": "code",
   "execution_count": 44,
   "metadata": {},
   "outputs": [
    {
     "data": {
      "text/plain": [
       "Index(['sequence', 'locus', 'stop_codon', 'vj_in_frame', 'v_frameshift',\n",
       "       'productive', 'rev_comp', 'complete_vdj', 'v_call', 'd_call',\n",
       "       ...\n",
       "       'Redundancy', 'ANARCI_numbering', 'ANARCI_status', 'cdrh1', 'cdrh2',\n",
       "       'cdrh3', 'v_gene', 'cdrh1_lens', 'cdrh2_lens', 'cdrh3_lens'],\n",
       "      dtype='object', length=104)"
      ]
     },
     "execution_count": 44,
     "metadata": {},
     "output_type": "execute_result"
    }
   ],
   "source": [
    "sdabs_results_df2.columns"
   ]
  },
  {
   "cell_type": "code",
   "execution_count": 47,
   "metadata": {},
   "outputs": [],
   "source": [
    "def get_germlines(df):\n",
    "\n",
    "    df['v_gene'] = [v[0:5] for v in df['v_call']]\n",
    "\n",
    "    return df"
   ]
  },
  {
   "cell_type": "code",
   "execution_count": 48,
   "metadata": {},
   "outputs": [],
   "source": [
    "sdabs_results_df3 = get_germlines(sdabs_results_df2)"
   ]
  },
  {
   "cell_type": "code",
   "execution_count": 49,
   "metadata": {},
   "outputs": [],
   "source": [
    "abs_results_df3 = get_germlines(abs_results_df2)"
   ]
  },
  {
   "cell_type": "code",
   "execution_count": 52,
   "metadata": {},
   "outputs": [],
   "source": [
    "abs_results_df = abs_results_df3\n",
    "sdabs_results_df = sdabs_results_df3"
   ]
  },
  {
   "attachments": {},
   "cell_type": "markdown",
   "metadata": {},
   "source": [
    "### Plot distributions of CDR loop lengths (H1, H2, H3) for Abs and Nbs on same plot (normalised frequency)"
   ]
  },
  {
   "cell_type": "code",
   "execution_count": 60,
   "metadata": {},
   "outputs": [
    {
     "ename": "AttributeError",
     "evalue": "module 'matplotlib' has no attribute 'get_data_path'",
     "output_type": "error",
     "traceback": [
      "\u001b[0;31m---------------------------------------------------------------------------\u001b[0m",
      "\u001b[0;31mAttributeError\u001b[0m                            Traceback (most recent call last)",
      "\u001b[0;32m<ipython-input-60-a0d2faabd9e9>\u001b[0m in \u001b[0;36m<module>\u001b[0;34m\u001b[0m\n\u001b[0;32m----> 1\u001b[0;31m \u001b[0;32mimport\u001b[0m \u001b[0mmatplotlib\u001b[0m\u001b[0;34m.\u001b[0m\u001b[0mpyplot\u001b[0m \u001b[0;32mas\u001b[0m \u001b[0mplt\u001b[0m\u001b[0;34m\u001b[0m\u001b[0;34m\u001b[0m\u001b[0m\n\u001b[0m",
      "\u001b[0;32m~/opt/anaconda3/lib/python3.8/site-packages/matplotlib/__init__.py\u001b[0m in \u001b[0;36m<module>\u001b[0;34m\u001b[0m\n\u001b[1;32m    875\u001b[0m \u001b[0;31m# triggering resolution of _auto_backend_sentinel.\u001b[0m\u001b[0;34m\u001b[0m\u001b[0;34m\u001b[0m\u001b[0;34m\u001b[0m\u001b[0m\n\u001b[1;32m    876\u001b[0m rcParamsDefault = _rc_params_in_file(\n\u001b[0;32m--> 877\u001b[0;31m     \u001b[0mcbook\u001b[0m\u001b[0;34m.\u001b[0m\u001b[0m_get_data_path\u001b[0m\u001b[0;34m(\u001b[0m\u001b[0;34m\"matplotlibrc\"\u001b[0m\u001b[0;34m)\u001b[0m\u001b[0;34m,\u001b[0m\u001b[0;34m\u001b[0m\u001b[0;34m\u001b[0m\u001b[0m\n\u001b[0m\u001b[1;32m    878\u001b[0m     \u001b[0;31m# Strip leading comment.\u001b[0m\u001b[0;34m\u001b[0m\u001b[0;34m\u001b[0m\u001b[0;34m\u001b[0m\u001b[0m\n\u001b[1;32m    879\u001b[0m     \u001b[0mtransform\u001b[0m\u001b[0;34m=\u001b[0m\u001b[0;32mlambda\u001b[0m \u001b[0mline\u001b[0m\u001b[0;34m:\u001b[0m \u001b[0mline\u001b[0m\u001b[0;34m[\u001b[0m\u001b[0;36m1\u001b[0m\u001b[0;34m:\u001b[0m\u001b[0;34m]\u001b[0m \u001b[0;32mif\u001b[0m \u001b[0mline\u001b[0m\u001b[0;34m.\u001b[0m\u001b[0mstartswith\u001b[0m\u001b[0;34m(\u001b[0m\u001b[0;34m\"#\"\u001b[0m\u001b[0;34m)\u001b[0m \u001b[0;32melse\u001b[0m \u001b[0mline\u001b[0m\u001b[0;34m,\u001b[0m\u001b[0;34m\u001b[0m\u001b[0;34m\u001b[0m\u001b[0m\n",
      "\u001b[0;32m~/opt/anaconda3/lib/python3.8/site-packages/matplotlib/cbook/__init__.py\u001b[0m in \u001b[0;36m_get_data_path\u001b[0;34m(*args)\u001b[0m\n\u001b[1;32m    516\u001b[0m     \u001b[0;31m`\u001b[0m\u001b[0;31m`\u001b[0m\u001b[0;34m*\u001b[0m\u001b[0margs\u001b[0m\u001b[0;31m`\u001b[0m\u001b[0;31m`\u001b[0m \u001b[0mspecify\u001b[0m \u001b[0ma\u001b[0m \u001b[0mpath\u001b[0m \u001b[0mrelative\u001b[0m \u001b[0mto\u001b[0m \u001b[0mthe\u001b[0m \u001b[0mbase\u001b[0m \u001b[0mdata\u001b[0m \u001b[0mpath\u001b[0m\u001b[0;34m.\u001b[0m\u001b[0;34m\u001b[0m\u001b[0;34m\u001b[0m\u001b[0m\n\u001b[1;32m    517\u001b[0m     \"\"\"\n\u001b[0;32m--> 518\u001b[0;31m     \u001b[0;32mreturn\u001b[0m \u001b[0mPath\u001b[0m\u001b[0;34m(\u001b[0m\u001b[0mmatplotlib\u001b[0m\u001b[0;34m.\u001b[0m\u001b[0mget_data_path\u001b[0m\u001b[0;34m(\u001b[0m\u001b[0;34m)\u001b[0m\u001b[0;34m,\u001b[0m \u001b[0;34m*\u001b[0m\u001b[0margs\u001b[0m\u001b[0;34m)\u001b[0m\u001b[0;34m\u001b[0m\u001b[0;34m\u001b[0m\u001b[0m\n\u001b[0m\u001b[1;32m    519\u001b[0m \u001b[0;34m\u001b[0m\u001b[0m\n\u001b[1;32m    520\u001b[0m \u001b[0;34m\u001b[0m\u001b[0m\n",
      "\u001b[0;31mAttributeError\u001b[0m: module 'matplotlib' has no attribute 'get_data_path'"
     ]
    },
    {
     "ename": "",
     "evalue": "",
     "output_type": "error",
     "traceback": [
      "\u001b[1;31mThe Kernel crashed while executing code in the the current cell or a previous cell. Please review the code in the cell(s) to identify a possible cause of the failure. Click <a href='https://aka.ms/vscodeJupyterKernelCrash'>here</a> for more info. View Jupyter <a href='command:jupyter.viewOutput'>log</a> for further details."
     ]
    }
   ],
   "source": [
    "import matplotlib.pyplot as plt"
   ]
  },
  {
   "cell_type": "code",
   "execution_count": null,
   "metadata": {},
   "outputs": [],
   "source": [
    "def make_hist_2db(abs_cdrs1, abs_cdrs2, ab_type1, ab_type2, color1, color2, cdr_num, xlim):\n",
    "\n",
    "    # create frequency dict of cdr length counts\n",
    "    \n",
    "    dict_cdr_occur_1 = dict(abs_cdrs1.value_counts())\n",
    "    dict_cdr_occur_2 = dict(abs_cdrs2.value_counts())\n",
    "    \n",
    "    width = 1\n",
    "\n",
    "    xnames1 = list(dict_cdr_occur_1.keys())\n",
    "    yvalues1 = list(dict_cdr_occur_1.values())\n",
    "    yvalues1_norm = make_percentages(yvalues1)\n",
    "\n",
    "    \n",
    "    xnames2 = list(dict_cdr_occur_2.keys())\n",
    "    yvalues2 = list(dict_cdr_occur_2.values())\n",
    "    yvalues2_norm = make_percentages(yvalues2)\n",
    "\n",
    "    \n",
    "    fig, ax = plt.subplots()\n",
    "    rects1 = ax.bar(xnames1, [y/100 for y in yvalues1_norm], -width, align='center', color = color1, label = ab_type1, alpha=0.7)\n",
    "    rects2 = ax.bar(xnames2, [y/100 for y in yvalues2_norm], +width, align='center', color = color2, label = ab_type2, alpha=0.7)\n",
    "    plt.ylabel(\"Normalised frequency\", fontsize=12)\n",
    "    plt.xlabel(cdr_num, fontsize=12)\n",
    "    plt.xlim(0, xlim)\n",
    "    plt.xticks(ticks=np.arange(0,xlim,2), rotation=45)\n",
    "    plt.legend(fontsize=12)\n",
    "    plt.gca().spines['top'].set_visible(False)\n",
    "    plt.gca().spines['right'].set_visible(False)\n",
    "    plt.tight_layout()\n",
    "    plt.show()\n",
    "\n",
    "def make_percentages(yvalues):\n",
    "    yvalues_norm = [i/sum(yvalues)*100 for i in yvalues]\n",
    "    return yvalues_norm "
   ]
  },
  {
   "cell_type": "code",
   "execution_count": null,
   "metadata": {},
   "outputs": [
    {
     "data": {
      "image/png": "[encoded data removed]",
      "text/plain": [
       "<Figure size 432x288 with 1 Axes>"
      ]
     },
     "metadata": {
      "needs_background": "light"
     },
     "output_type": "display_data"
    }
   ],
   "source": [
    "make_hist_2db(sdabs_results_df['cdrh1_lens'], abs_results_df['cdrh1_lens'], \"sdAbs\", \"Abs\", 'royalblue', 'lightcoral', cdr_num='Length of CDR-H1 loop', xlim=20)  "
   ]
  },
  {
   "cell_type": "code",
   "execution_count": null,
   "metadata": {},
   "outputs": [
    {
     "data": {
      "image/png": "[encoded data removed]",
      "text/plain": [
       "<Figure size 432x288 with 1 Axes>"
      ]
     },
     "metadata": {
      "needs_background": "light"
     },
     "output_type": "display_data"
    }
   ],
   "source": [
    "make_hist_2db(sdabs_results_df['cdrh2_lens'], abs_results_df['cdrh2_lens'], \"sdAbs\", \"Abs\", 'royalblue', 'lightcoral', cdr_num='Length of CDR-H2 loop', xlim=20) "
   ]
  },
  {
   "cell_type": "code",
   "execution_count": null,
   "metadata": {},
   "outputs": [
    {
     "data": {
      "image/png": "[encoded data removed]",
      "text/plain": [
       "<Figure size 432x288 with 1 Axes>"
      ]
     },
     "metadata": {
      "needs_background": "light"
     },
     "output_type": "display_data"
    }
   ],
   "source": [
    "make_hist_2db(sdabs_results_df['cdrh3_lens'], abs_results_df['cdrh3_lens'], \"sdAbs\", \"Abs\", 'royalblue', 'lightcoral', cdr_num='Length of CDR-H3 loop', xlim=20) "
   ]
  },
  {
   "attachments": {},
   "cell_type": "markdown",
   "metadata": {},
   "source": [
    "### Plot germline histograms for Abs and Nbs"
   ]
  },
  {
   "cell_type": "code",
   "execution_count": null,
   "metadata": {},
   "outputs": [
    {
     "name": "stdout",
     "output_type": "stream",
     "text": [
      "Number of human sequences: 1621889\n",
      "Number of camel sequences: 1601636\n"
     ]
    }
   ],
   "source": [
    "print('Number of human sequences:', len(abs_results_df))\n",
    "print('Number of camel sequences:', len(sdabs_results_df))"
   ]
  },
  {
   "cell_type": "code",
   "execution_count": null,
   "metadata": {},
   "outputs": [
    {
     "name": "stdout",
     "output_type": "stream",
     "text": [
      "Number of different germlines for human VH: 303\n",
      "Number of different germlines for camel VHH: 66\n"
     ]
    }
   ],
   "source": [
    "print('Number of different germlines for human VH:', len(set(list(abs_results_df['v_gene']))))\n",
    "print('Number of different germlines for camel VHH:', len(set(list(sdabs_results_df['v_gene']))))"
   ]
  },
  {
   "cell_type": "code",
   "execution_count": null,
   "metadata": {},
   "outputs": [],
   "source": [
    "def make_germline_hist(abs_cdrs1, abs_cdrs2, ab_type1, ab_type2, color1, color2, cdr_num):\n",
    "\n",
    "    # create frequency dict of cdr length counts\n",
    "    \n",
    "    dict_cdr_occur_1 = dict(abs_cdrs1.value_counts())\n",
    "    dict_cdr_occur_2 = dict(abs_cdrs2.value_counts())\n",
    "    \n",
    "    width = 1\n",
    "\n",
    "    xnames1 = list(dict_cdr_occur_1.keys())\n",
    "    yvalues1 = list(dict_cdr_occur_1.values())\n",
    "    yvalues1_norm = make_percentages(yvalues1)\n",
    "    print(xnames1)\n",
    "    print(yvalues1_norm)\n",
    "    \n",
    "    xnames2 = list(dict_cdr_occur_2.keys())\n",
    "    yvalues2 = list(dict_cdr_occur_2.values())\n",
    "    yvalues2_norm = make_percentages(yvalues2)\n",
    "    print(xnames2)\n",
    "    print(yvalues2_norm)\n",
    "    \n",
    "    fig, ax = plt.subplots()\n",
    "    rects1 = ax.bar(xnames1, yvalues1_norm, width, align='center', color = color1, label=ab_type1, alpha=0.7)\n",
    "    rects2 = ax.bar(xnames2, yvalues2_norm, width, align='center', color = color2, label=ab_type2, alpha=0.7)\n",
    "    plt.ylabel(\"Normalised frequency\", fontsize=12)\n",
    "    plt.xlabel('V genes', fontsize=12)\n",
    "    plt.gca().spines['top'].set_visible(False)\n",
    "    plt.gca().spines['right'].set_visible(False)\n",
    "    plt.tight_layout()\n",
    "    plt.legend(fontsize=12)\n",
    "    plt.show()\n",
    "\n",
    "def make_percentages(yvalues):\n",
    "    yvalues_norm = [i/sum(yvalues)*100 for i in yvalues]\n",
    "    return yvalues_norm "
   ]
  },
  {
   "cell_type": "code",
   "execution_count": null,
   "metadata": {},
   "outputs": [
    {
     "name": "stdout",
     "output_type": "stream",
     "text": [
      "['IGHV3', 'IGHV4', 'IGHV1', 'IGHV2', 'IGHV5', 'IGHV6', 'IGHV7']\n",
      "[47.08953572038531, 26.208205370404507, 17.02594937138115, 5.163855233002999, 3.271000666506771, 0.986627321598457, 0.25482631672081135]\n",
      "['IGHV3']\n",
      "[100.0]\n"
     ]
    },
    {
     "data": {
      "image/png": "[encoded data removed]",
      "text/plain": [
       "<Figure size 432x288 with 1 Axes>"
      ]
     },
     "metadata": {
      "needs_background": "light"
     },
     "output_type": "display_data"
    }
   ],
   "source": [
    "make_germline_hist(sdabs_results_df['v_gene'], abs_results_df['v_gene'], \"sdAbs\", \"Abs\", 'royalblue', 'lightcoral', cdr_num='V genes') "
   ]
  },
  {
   "attachments": {},
   "cell_type": "markdown",
   "metadata": {},
   "source": [
    "##### Same germline plot but for structural datasets:"
   ]
  },
  {
   "cell_type": "code",
   "execution_count": null,
   "metadata": {},
   "outputs": [],
   "source": [
    "abs_struc = pd.read_csv('/Users/gemmagordon/Documents/OXFORD/ROTATION 2/nbs_vs_abs/Abs_structural_germlines.csv')\n",
    "sdabs_struc = pd.read_csv('/Users/gemmagordon/Documents/OXFORD/ROTATION 2/nbs_vs_abs/sdAbs_structural_germlines.csv')"
   ]
  },
  {
   "cell_type": "code",
   "execution_count": null,
   "metadata": {},
   "outputs": [
    {
     "data": {
      "text/plain": [
       "0    ('rhesus', 'IGHV3-103*01')\n",
       "1      ('human', 'IGHV3-21*01')\n",
       "2      ('human', 'IGHV3-53*02')\n",
       "3      ('human', 'IGHV3-30*01')\n",
       "4      ('human', 'IGHV1-58*01')\n",
       "Name: germlines, dtype: object"
      ]
     },
     "execution_count": 45,
     "metadata": {},
     "output_type": "execute_result"
    }
   ],
   "source": [
    "abs_struc['germlines'].head()"
   ]
  },
  {
   "cell_type": "code",
   "execution_count": null,
   "metadata": {},
   "outputs": [],
   "source": [
    "abs_struc_germlines = []\n",
    "for germline in list(abs_struc['germlines']):\n",
    "    germline = ast.literal_eval(germline)[1][0:5]\n",
    "    abs_struc_germlines.append(germline)\n",
    "\n",
    "abs_struc_germlines = pd.Series(abs_struc_germlines)"
   ]
  },
  {
   "cell_type": "code",
   "execution_count": null,
   "metadata": {},
   "outputs": [],
   "source": [
    "sdabs_struc_germlines = []\n",
    "for germline in list(sdabs_struc['germlines']):\n",
    "    germline = ast.literal_eval(germline)[1][0:5]\n",
    "    sdabs_struc_germlines.append(germline)\n",
    "\n",
    "sdabs_struc_germlines = pd.Series(sdabs_struc_germlines)"
   ]
  },
  {
   "cell_type": "code",
   "execution_count": null,
   "metadata": {},
   "outputs": [
    {
     "name": "stdout",
     "output_type": "stream",
     "text": [
      "['IGHV1', 'IGHV3', 'IGHV4', 'IGHV5', 'IGHV2', 'IGHV8', 'IGHV9', 'IGHV7', 'IGHV6']\n",
      "[40.02242152466368, 35.08968609865471, 9.080717488789238, 7.286995515695067, 4.37219730941704, 1.345291479820628, 1.2331838565022422, 0.8968609865470852, 0.672645739910314]\n",
      "['IGHV3']\n",
      "[100.0]\n"
     ]
    },
    {
     "data": {
      "image/png": "[encoded data removed]",
      "text/plain": [
       "<Figure size 432x288 with 1 Axes>"
      ]
     },
     "metadata": {
      "needs_background": "light"
     },
     "output_type": "display_data"
    }
   ],
   "source": [
    "make_germline_hist(sdabs_struc_germlines, abs_struc_germlines, \"sdAbs\", \"Abs\", 'royalblue', 'lightcoral', cdr_num='germlines') "
   ]
  },
  {
   "attachments": {},
   "cell_type": "markdown",
   "metadata": {},
   "source": [
    "### Bootstrapping / significance tests"
   ]
  },
  {
   "cell_type": "code",
   "execution_count": null,
   "metadata": {},
   "outputs": [],
   "source": [
    "import dabest\n",
    "from statsmodels.stats.weightstats import ztest as ztest"
   ]
  },
  {
   "cell_type": "code",
   "execution_count": null,
   "metadata": {},
   "outputs": [],
   "source": [
    "def perform_bootstrap(n_sample, interaction_sizes):\n",
    "    df = pd.DataFrame([np.random.choice(interaction_sizes[k],n_sample,replace=False) for k in interaction_sizes]).T\n",
    "    df.columns = [k for k in interaction_sizes]\n",
    "    x = dabest.load(df, idx=(list(interaction_sizes.keys())[0],list(interaction_sizes.keys())[1]))\n",
    "    print(x.mean_diff)"
   ]
  },
  {
   "cell_type": "markdown",
   "metadata": {},
   "source": [
    "#### CDR lengths"
   ]
  },
  {
   "cell_type": "markdown",
   "metadata": {},
   "source": [
    "#### H1"
   ]
  },
  {
   "cell_type": "code",
   "execution_count": null,
   "metadata": {},
   "outputs": [
    {
     "name": "stdout",
     "output_type": "stream",
     "text": [
      "ztest continuity percentage: (-316.1177196916084, 0.0)\n"
     ]
    }
   ],
   "source": [
    "zoutput_meanvd = ztest(sdabs_results_df['cdrh1_lens'], abs_results_df['cdrh1_lens'], value=0) \n",
    "print(f\"ztest continuity percentage: {zoutput_meanvd}\")"
   ]
  },
  {
   "cell_type": "code",
   "execution_count": null,
   "metadata": {},
   "outputs": [
    {
     "name": "stdout",
     "output_type": "stream",
     "text": [
      "DABEST v0.3.1\n",
      "=============\n",
      "             \n",
      "Good morning!\n",
      "The current time is Thu Dec 15 10:18:46 2022.\n",
      "\n",
      "The unpaired mean difference between Nbs and Abs is 0.393 [95%CI 0.24, 0.543].\n",
      "The p-value of the two-sided permutation t-test is 0.0. \n",
      "\n",
      "5000 bootstrap samples were taken; the confidence interval is bias-corrected and accelerated.\n",
      "The p-value(s) reported are the likelihood(s) of observing the effect size(s),\n",
      "if the null hypothesis of zero difference is true.\n",
      "For each p-value, 5000 reshuffles of the control and test labels were performed.\n",
      "\n",
      "To get the results of all valid statistical tests, use `.mean_diff.statistical_tests`\n"
     ]
    }
   ],
   "source": [
    "dict_lengths_meanvd = {'Nbs': sdabs_results_df['cdrh1_lens'],\n",
    "                     'Abs': abs_results_df['cdrh1_lens'] }\n",
    "perform_bootstrap(300, dict_lengths_meanvd)"
   ]
  },
  {
   "cell_type": "markdown",
   "metadata": {},
   "source": [
    "### H2"
   ]
  },
  {
   "cell_type": "code",
   "execution_count": null,
   "metadata": {},
   "outputs": [
    {
     "name": "stdout",
     "output_type": "stream",
     "text": [
      "ztest continuity percentage: (-160.77916721504252, 0.0)\n",
      "DABEST v0.3.1\n",
      "=============\n",
      "             \n",
      "Good morning!\n",
      "The current time is Thu Dec 15 10:18:47 2022.\n",
      "\n",
      "The unpaired mean difference between Nbs and Abs is 0.147 [95%CI -0.00667, 0.27].\n",
      "The p-value of the two-sided permutation t-test is 0.0292. \n",
      "\n",
      "5000 bootstrap samples were taken; the confidence interval is bias-corrected and accelerated.\n",
      "The p-value(s) reported are the likelihood(s) of observing the effect size(s),\n",
      "if the null hypothesis of zero difference is true.\n",
      "For each p-value, 5000 reshuffles of the control and test labels were performed.\n",
      "\n",
      "To get the results of all valid statistical tests, use `.mean_diff.statistical_tests`\n"
     ]
    }
   ],
   "source": [
    "zoutput_meanvd = ztest(sdabs_results_df['cdrh2_lens'], abs_results_df['cdrh2_lens'], value=0) \n",
    "\n",
    "print(f\"ztest continuity percentage: {zoutput_meanvd}\")\n",
    "\n",
    "dict_lengths_meanvd = {'Nbs': sdabs_results_df['cdrh2_lens'],\n",
    "                     'Abs': abs_results_df['cdrh2_lens'] }\n",
    "\n",
    "perform_bootstrap(300, dict_lengths_meanvd)"
   ]
  },
  {
   "cell_type": "markdown",
   "metadata": {},
   "source": [
    "### H3"
   ]
  },
  {
   "cell_type": "code",
   "execution_count": null,
   "metadata": {},
   "outputs": [
    {
     "name": "stdout",
     "output_type": "stream",
     "text": [
      "ztest continuity percentage: (323.06354932162384, 0.0)\n",
      "DABEST v0.3.1\n",
      "=============\n",
      "             \n",
      "Good morning!\n",
      "The current time is Thu Dec 15 10:18:47 2022.\n",
      "\n",
      "The unpaired mean difference between Nbs and Abs is -1.56 [95%CI -2.28, -0.88].\n",
      "The p-value of the two-sided permutation t-test is 0.0. \n",
      "\n",
      "5000 bootstrap samples were taken; the confidence interval is bias-corrected and accelerated.\n",
      "The p-value(s) reported are the likelihood(s) of observing the effect size(s),\n",
      "if the null hypothesis of zero difference is true.\n",
      "For each p-value, 5000 reshuffles of the control and test labels were performed.\n",
      "\n",
      "To get the results of all valid statistical tests, use `.mean_diff.statistical_tests`\n"
     ]
    }
   ],
   "source": [
    "zoutput_meanvd = ztest(sdabs_results_df['cdrh3_lens'], abs_results_df['cdrh3_lens'], value=0) \n",
    "\n",
    "print(f\"ztest continuity percentage: {zoutput_meanvd}\")\n",
    "\n",
    "dict_lengths_meanvd = {'Nbs': sdabs_results_df['cdrh3_lens'],\n",
    "                     'Abs': abs_results_df['cdrh3_lens'] }\n",
    "\n",
    "perform_bootstrap(300, dict_lengths_meanvd)"
   ]
  },
  {
   "cell_type": "code",
   "execution_count": null,
   "metadata": {},
   "outputs": [],
   "source": []
  },
  {
   "cell_type": "code",
   "execution_count": 59,
   "metadata": {},
   "outputs": [
    {
     "ename": "OSError",
     "evalue": "[Errno 28] No space left on device",
     "output_type": "error",
     "traceback": [
      "\u001b[0;31m---------------------------------------------------------------------------\u001b[0m",
      "\u001b[0;31mOSError\u001b[0m                                   Traceback (most recent call last)",
      "\u001b[0;32m<ipython-input-59-f8246de2d563>\u001b[0m in \u001b[0;36m<module>\u001b[0;34m\u001b[0m\n\u001b[0;32m----> 1\u001b[0;31m \u001b[0mabs_results_df3\u001b[0m\u001b[0;34m.\u001b[0m\u001b[0mto_csv\u001b[0m\u001b[0;34m(\u001b[0m\u001b[0;34m'abs_final_seq_dataset.csv'\u001b[0m\u001b[0;34m)\u001b[0m\u001b[0;34m\u001b[0m\u001b[0;34m\u001b[0m\u001b[0m\n\u001b[0m\u001b[1;32m      2\u001b[0m \u001b[0msdabs_results_df3\u001b[0m\u001b[0;34m.\u001b[0m\u001b[0mto_csv\u001b[0m\u001b[0;34m(\u001b[0m\u001b[0;34m'sdabs_final_seq_dataset.csv'\u001b[0m\u001b[0;34m)\u001b[0m\u001b[0;34m\u001b[0m\u001b[0;34m\u001b[0m\u001b[0m\n",
      "\u001b[0;32m~/opt/anaconda3/lib/python3.8/site-packages/pandas/util/_decorators.py\u001b[0m in \u001b[0;36mwrapper\u001b[0;34m(*args, **kwargs)\u001b[0m\n\u001b[1;32m    209\u001b[0m                 \u001b[0;32melse\u001b[0m\u001b[0;34m:\u001b[0m\u001b[0;34m\u001b[0m\u001b[0;34m\u001b[0m\u001b[0m\n\u001b[1;32m    210\u001b[0m                     \u001b[0mkwargs\u001b[0m\u001b[0;34m[\u001b[0m\u001b[0mnew_arg_name\u001b[0m\u001b[0;34m]\u001b[0m \u001b[0;34m=\u001b[0m \u001b[0mnew_arg_value\u001b[0m\u001b[0;34m\u001b[0m\u001b[0;34m\u001b[0m\u001b[0m\n\u001b[0;32m--> 211\u001b[0;31m             \u001b[0;32mreturn\u001b[0m \u001b[0mfunc\u001b[0m\u001b[0;34m(\u001b[0m\u001b[0;34m*\u001b[0m\u001b[0margs\u001b[0m\u001b[0;34m,\u001b[0m \u001b[0;34m**\u001b[0m\u001b[0mkwargs\u001b[0m\u001b[0;34m)\u001b[0m\u001b[0;34m\u001b[0m\u001b[0;34m\u001b[0m\u001b[0m\n\u001b[0m\u001b[1;32m    212\u001b[0m \u001b[0;34m\u001b[0m\u001b[0m\n\u001b[1;32m    213\u001b[0m         \u001b[0;32mreturn\u001b[0m \u001b[0mcast\u001b[0m\u001b[0;34m(\u001b[0m\u001b[0mF\u001b[0m\u001b[0;34m,\u001b[0m \u001b[0mwrapper\u001b[0m\u001b[0;34m)\u001b[0m\u001b[0;34m\u001b[0m\u001b[0;34m\u001b[0m\u001b[0m\n",
      "\u001b[0;32m~/opt/anaconda3/lib/python3.8/site-packages/pandas/core/generic.py\u001b[0m in \u001b[0;36mto_csv\u001b[0;34m(self, path_or_buf, sep, na_rep, float_format, columns, header, index, index_label, mode, encoding, compression, quoting, quotechar, lineterminator, chunksize, date_format, doublequote, escapechar, decimal, errors, storage_options)\u001b[0m\n\u001b[1;32m   3718\u001b[0m         )\n\u001b[1;32m   3719\u001b[0m \u001b[0;34m\u001b[0m\u001b[0m\n\u001b[0;32m-> 3720\u001b[0;31m         return DataFrameRenderer(formatter).to_csv(\n\u001b[0m\u001b[1;32m   3721\u001b[0m             \u001b[0mpath_or_buf\u001b[0m\u001b[0;34m,\u001b[0m\u001b[0;34m\u001b[0m\u001b[0;34m\u001b[0m\u001b[0m\n\u001b[1;32m   3722\u001b[0m             \u001b[0mlineterminator\u001b[0m\u001b[0;34m=\u001b[0m\u001b[0mlineterminator\u001b[0m\u001b[0;34m,\u001b[0m\u001b[0;34m\u001b[0m\u001b[0;34m\u001b[0m\u001b[0m\n",
      "\u001b[0;32m~/opt/anaconda3/lib/python3.8/site-packages/pandas/util/_decorators.py\u001b[0m in \u001b[0;36mwrapper\u001b[0;34m(*args, **kwargs)\u001b[0m\n\u001b[1;32m    209\u001b[0m                 \u001b[0;32melse\u001b[0m\u001b[0;34m:\u001b[0m\u001b[0;34m\u001b[0m\u001b[0;34m\u001b[0m\u001b[0m\n\u001b[1;32m    210\u001b[0m                     \u001b[0mkwargs\u001b[0m\u001b[0;34m[\u001b[0m\u001b[0mnew_arg_name\u001b[0m\u001b[0;34m]\u001b[0m \u001b[0;34m=\u001b[0m \u001b[0mnew_arg_value\u001b[0m\u001b[0;34m\u001b[0m\u001b[0;34m\u001b[0m\u001b[0m\n\u001b[0;32m--> 211\u001b[0;31m             \u001b[0;32mreturn\u001b[0m \u001b[0mfunc\u001b[0m\u001b[0;34m(\u001b[0m\u001b[0;34m*\u001b[0m\u001b[0margs\u001b[0m\u001b[0;34m,\u001b[0m \u001b[0;34m**\u001b[0m\u001b[0mkwargs\u001b[0m\u001b[0;34m)\u001b[0m\u001b[0;34m\u001b[0m\u001b[0;34m\u001b[0m\u001b[0m\n\u001b[0m\u001b[1;32m    212\u001b[0m \u001b[0;34m\u001b[0m\u001b[0m\n\u001b[1;32m    213\u001b[0m         \u001b[0;32mreturn\u001b[0m \u001b[0mcast\u001b[0m\u001b[0;34m(\u001b[0m\u001b[0mF\u001b[0m\u001b[0;34m,\u001b[0m \u001b[0mwrapper\u001b[0m\u001b[0;34m)\u001b[0m\u001b[0;34m\u001b[0m\u001b[0;34m\u001b[0m\u001b[0m\n",
      "\u001b[0;32m~/opt/anaconda3/lib/python3.8/site-packages/pandas/io/formats/format.py\u001b[0m in \u001b[0;36mto_csv\u001b[0;34m(self, path_or_buf, encoding, sep, columns, index_label, mode, compression, quoting, quotechar, lineterminator, chunksize, date_format, doublequote, escapechar, errors, storage_options)\u001b[0m\n\u001b[1;32m   1187\u001b[0m             \u001b[0mformatter\u001b[0m\u001b[0;34m=\u001b[0m\u001b[0mself\u001b[0m\u001b[0;34m.\u001b[0m\u001b[0mfmt\u001b[0m\u001b[0;34m,\u001b[0m\u001b[0;34m\u001b[0m\u001b[0;34m\u001b[0m\u001b[0m\n\u001b[1;32m   1188\u001b[0m         )\n\u001b[0;32m-> 1189\u001b[0;31m         \u001b[0mcsv_formatter\u001b[0m\u001b[0;34m.\u001b[0m\u001b[0msave\u001b[0m\u001b[0;34m(\u001b[0m\u001b[0;34m)\u001b[0m\u001b[0;34m\u001b[0m\u001b[0;34m\u001b[0m\u001b[0m\n\u001b[0m\u001b[1;32m   1190\u001b[0m \u001b[0;34m\u001b[0m\u001b[0m\n\u001b[1;32m   1191\u001b[0m         \u001b[0;32mif\u001b[0m \u001b[0mcreated_buffer\u001b[0m\u001b[0;34m:\u001b[0m\u001b[0;34m\u001b[0m\u001b[0;34m\u001b[0m\u001b[0m\n",
      "\u001b[0;32m~/opt/anaconda3/lib/python3.8/site-packages/pandas/io/formats/csvs.py\u001b[0m in \u001b[0;36msave\u001b[0;34m(self)\u001b[0m\n\u001b[1;32m    259\u001b[0m             )\n\u001b[1;32m    260\u001b[0m \u001b[0;34m\u001b[0m\u001b[0m\n\u001b[0;32m--> 261\u001b[0;31m             \u001b[0mself\u001b[0m\u001b[0;34m.\u001b[0m\u001b[0m_save\u001b[0m\u001b[0;34m(\u001b[0m\u001b[0;34m)\u001b[0m\u001b[0;34m\u001b[0m\u001b[0;34m\u001b[0m\u001b[0m\n\u001b[0m\u001b[1;32m    262\u001b[0m \u001b[0;34m\u001b[0m\u001b[0m\n\u001b[1;32m    263\u001b[0m     \u001b[0;32mdef\u001b[0m \u001b[0m_save\u001b[0m\u001b[0;34m(\u001b[0m\u001b[0mself\u001b[0m\u001b[0;34m)\u001b[0m \u001b[0;34m->\u001b[0m \u001b[0;32mNone\u001b[0m\u001b[0;34m:\u001b[0m\u001b[0;34m\u001b[0m\u001b[0;34m\u001b[0m\u001b[0m\n",
      "\u001b[0;32m~/opt/anaconda3/lib/python3.8/site-packages/pandas/io/formats/csvs.py\u001b[0m in \u001b[0;36m_save\u001b[0;34m(self)\u001b[0m\n\u001b[1;32m    264\u001b[0m         \u001b[0;32mif\u001b[0m \u001b[0mself\u001b[0m\u001b[0;34m.\u001b[0m\u001b[0m_need_to_save_header\u001b[0m\u001b[0;34m:\u001b[0m\u001b[0;34m\u001b[0m\u001b[0;34m\u001b[0m\u001b[0m\n\u001b[1;32m    265\u001b[0m             \u001b[0mself\u001b[0m\u001b[0;34m.\u001b[0m\u001b[0m_save_header\u001b[0m\u001b[0;34m(\u001b[0m\u001b[0;34m)\u001b[0m\u001b[0;34m\u001b[0m\u001b[0;34m\u001b[0m\u001b[0m\n\u001b[0;32m--> 266\u001b[0;31m         \u001b[0mself\u001b[0m\u001b[0;34m.\u001b[0m\u001b[0m_save_body\u001b[0m\u001b[0;34m(\u001b[0m\u001b[0;34m)\u001b[0m\u001b[0;34m\u001b[0m\u001b[0;34m\u001b[0m\u001b[0m\n\u001b[0m\u001b[1;32m    267\u001b[0m \u001b[0;34m\u001b[0m\u001b[0m\n\u001b[1;32m    268\u001b[0m     \u001b[0;32mdef\u001b[0m \u001b[0m_save_header\u001b[0m\u001b[0;34m(\u001b[0m\u001b[0mself\u001b[0m\u001b[0;34m)\u001b[0m \u001b[0;34m->\u001b[0m \u001b[0;32mNone\u001b[0m\u001b[0;34m:\u001b[0m\u001b[0;34m\u001b[0m\u001b[0;34m\u001b[0m\u001b[0m\n",
      "\u001b[0;32m~/opt/anaconda3/lib/python3.8/site-packages/pandas/io/formats/csvs.py\u001b[0m in \u001b[0;36m_save_body\u001b[0;34m(self)\u001b[0m\n\u001b[1;32m    302\u001b[0m             \u001b[0;32mif\u001b[0m \u001b[0mstart_i\u001b[0m \u001b[0;34m>=\u001b[0m \u001b[0mend_i\u001b[0m\u001b[0;34m:\u001b[0m\u001b[0;34m\u001b[0m\u001b[0;34m\u001b[0m\u001b[0m\n\u001b[1;32m    303\u001b[0m                 \u001b[0;32mbreak\u001b[0m\u001b[0;34m\u001b[0m\u001b[0;34m\u001b[0m\u001b[0m\n\u001b[0;32m--> 304\u001b[0;31m             \u001b[0mself\u001b[0m\u001b[0;34m.\u001b[0m\u001b[0m_save_chunk\u001b[0m\u001b[0;34m(\u001b[0m\u001b[0mstart_i\u001b[0m\u001b[0;34m,\u001b[0m \u001b[0mend_i\u001b[0m\u001b[0;34m)\u001b[0m\u001b[0;34m\u001b[0m\u001b[0;34m\u001b[0m\u001b[0m\n\u001b[0m\u001b[1;32m    305\u001b[0m \u001b[0;34m\u001b[0m\u001b[0m\n\u001b[1;32m    306\u001b[0m     \u001b[0;32mdef\u001b[0m \u001b[0m_save_chunk\u001b[0m\u001b[0;34m(\u001b[0m\u001b[0mself\u001b[0m\u001b[0;34m,\u001b[0m \u001b[0mstart_i\u001b[0m\u001b[0;34m:\u001b[0m \u001b[0mint\u001b[0m\u001b[0;34m,\u001b[0m \u001b[0mend_i\u001b[0m\u001b[0;34m:\u001b[0m \u001b[0mint\u001b[0m\u001b[0;34m)\u001b[0m \u001b[0;34m->\u001b[0m \u001b[0;32mNone\u001b[0m\u001b[0;34m:\u001b[0m\u001b[0;34m\u001b[0m\u001b[0;34m\u001b[0m\u001b[0m\n",
      "\u001b[0;32m~/opt/anaconda3/lib/python3.8/site-packages/pandas/io/formats/csvs.py\u001b[0m in \u001b[0;36m_save_chunk\u001b[0;34m(self, start_i, end_i)\u001b[0m\n\u001b[1;32m    313\u001b[0m \u001b[0;34m\u001b[0m\u001b[0m\n\u001b[1;32m    314\u001b[0m         \u001b[0mix\u001b[0m \u001b[0;34m=\u001b[0m \u001b[0mself\u001b[0m\u001b[0;34m.\u001b[0m\u001b[0mdata_index\u001b[0m\u001b[0;34m[\u001b[0m\u001b[0mslicer\u001b[0m\u001b[0;34m]\u001b[0m\u001b[0;34m.\u001b[0m\u001b[0m_format_native_types\u001b[0m\u001b[0;34m(\u001b[0m\u001b[0;34m**\u001b[0m\u001b[0mself\u001b[0m\u001b[0;34m.\u001b[0m\u001b[0m_number_format\u001b[0m\u001b[0;34m)\u001b[0m\u001b[0;34m\u001b[0m\u001b[0;34m\u001b[0m\u001b[0m\n\u001b[0;32m--> 315\u001b[0;31m         libwriters.write_csv_rows(\n\u001b[0m\u001b[1;32m    316\u001b[0m             \u001b[0mdata\u001b[0m\u001b[0;34m,\u001b[0m\u001b[0;34m\u001b[0m\u001b[0;34m\u001b[0m\u001b[0m\n\u001b[1;32m    317\u001b[0m             \u001b[0mix\u001b[0m\u001b[0;34m,\u001b[0m\u001b[0;34m\u001b[0m\u001b[0;34m\u001b[0m\u001b[0m\n",
      "\u001b[0;32m~/opt/anaconda3/lib/python3.8/site-packages/pandas/_libs/writers.pyx\u001b[0m in \u001b[0;36mpandas._libs.writers.write_csv_rows\u001b[0;34m()\u001b[0m\n",
      "\u001b[0;31mOSError\u001b[0m: [Errno 28] No space left on device"
     ]
    }
   ],
   "source": [
    "abs_results_df3.to_csv('abs_final_seq_dataset.csv', compression='gzip')"
   ]
  },
  {
   "cell_type": "code",
   "execution_count": null,
   "metadata": {},
   "outputs": [],
   "source": [
    "sdabs_results_df3.to_csv('sdabs_final_seq_dataset.csv', compression='gzip')"
   ]
  }
 ],
 "metadata": {
  "kernelspec": {
   "display_name": "base",
   "language": "python",
   "name": "python3"
  },
  "language_info": {
   "codemirror_mode": {
    "name": "ipython",
    "version": 3
   },
   "file_extension": ".py",
   "mimetype": "text/x-python",
   "name": "python",
   "nbconvert_exporter": "python",
   "pygments_lexer": "ipython3",
   "version": "3.8.8"
  },
  "orig_nbformat": 4,
  "vscode": {
   "interpreter": {
    "hash": "6583c3f449b2025ea649b72d4a52efb1871eb538dba3514b6dae43f01b685c61"
   }
  }
 },
 "nbformat": 4,
 "nbformat_minor": 2
}
