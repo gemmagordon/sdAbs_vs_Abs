{
 "cells": [
  {
   "cell_type": "code",
   "execution_count": null,
   "metadata": {},
   "outputs": [],
   "source": [
    "##@Author: Gemma Gordon\n",
    "#@Date: 2022\n",
    "# Script to parse PyIgClassify2 database for canonical forms for our structural datasets (https://www.biorxiv.org/content/10.1101/2022.10.12.511988v1)"
   ]
  },
  {
   "cell_type": "markdown",
   "metadata": {},
   "source": [
    "parsing pyigclassify2 data for cluster canonical forms for structures used in our analysis"
   ]
  },
  {
   "cell_type": "code",
   "execution_count": 1,
   "metadata": {},
   "outputs": [],
   "source": [
    "import pandas as pd"
   ]
  },
  {
   "cell_type": "code",
   "execution_count": 2,
   "metadata": {},
   "outputs": [
    {
     "name": "stderr",
     "output_type": "stream",
     "text": [
      "/Users/gemmagordon/opt/anaconda3/lib/python3.8/site-packages/IPython/core/interactiveshell.py:3437: DtypeWarning: Columns (35,63) have mixed types.Specify dtype option on import or set low_memory=False.\n",
      "  exec(code_obj, self.user_global_ns, self.user_ns)\n"
     ]
    }
   ],
   "source": [
    "domain_data = pd.read_csv(\"pyigclassify2_data/pyig_domain_data.txt\", sep='\\s+', header=0)"
   ]
  },
  {
   "cell_type": "code",
   "execution_count": 3,
   "metadata": {},
   "outputs": [],
   "source": [
    "h_domains = [d for d in list(domain_data['var']) if d == 'H']"
   ]
  },
  {
   "cell_type": "code",
   "execution_count": 4,
   "metadata": {},
   "outputs": [],
   "source": [
    "h_data = domain_data.loc[domain_data['var'].isin(h_domains)][['pdb', 'cdr1_cluster', 'cdr2_cluster', 'cdr3_cluster', 'cdr4_cluster']]"
   ]
  },
  {
   "cell_type": "code",
   "execution_count": 5,
   "metadata": {},
   "outputs": [
    {
     "data": {
      "text/html": [
       "<div>\n",
       "<style scoped>\n",
       "    .dataframe tbody tr th:only-of-type {\n",
       "        vertical-align: middle;\n",
       "    }\n",
       "\n",
       "    .dataframe tbody tr th {\n",
       "        vertical-align: top;\n",
       "    }\n",
       "\n",
       "    .dataframe thead th {\n",
       "        text-align: right;\n",
       "    }\n",
       "</style>\n",
       "<table border=\"1\" class=\"dataframe\">\n",
       "  <thead>\n",
       "    <tr style=\"text-align: right;\">\n",
       "      <th></th>\n",
       "      <th>pdb</th>\n",
       "      <th>cdr1_cluster</th>\n",
       "      <th>cdr2_cluster</th>\n",
       "      <th>cdr3_cluster</th>\n",
       "      <th>cdr4_cluster</th>\n",
       "    </tr>\n",
       "  </thead>\n",
       "  <tbody>\n",
       "    <tr>\n",
       "      <th>0</th>\n",
       "      <td>12E8</td>\n",
       "      <td>H1-13-1</td>\n",
       "      <td>H2-10-1</td>\n",
       "      <td>H3-13-*</td>\n",
       "      <td>H4-8-1</td>\n",
       "    </tr>\n",
       "    <tr>\n",
       "      <th>3</th>\n",
       "      <td>12E8</td>\n",
       "      <td>H1-13-1</td>\n",
       "      <td>H2-10-1</td>\n",
       "      <td>H3-13-*</td>\n",
       "      <td>H4-8-1</td>\n",
       "    </tr>\n",
       "    <tr>\n",
       "      <th>4</th>\n",
       "      <td>15C8</td>\n",
       "      <td>H1-13-1</td>\n",
       "      <td>H2-10-1</td>\n",
       "      <td>H3-12-*</td>\n",
       "      <td>H4-8-1</td>\n",
       "    </tr>\n",
       "    <tr>\n",
       "      <th>6</th>\n",
       "      <td>1A0Q</td>\n",
       "      <td>H1-13-1</td>\n",
       "      <td>H2-10-3</td>\n",
       "      <td>H3-12-*</td>\n",
       "      <td>H4-8-1</td>\n",
       "    </tr>\n",
       "    <tr>\n",
       "      <th>8</th>\n",
       "      <td>1A14</td>\n",
       "      <td>H1-13-1</td>\n",
       "      <td>H2-10-1</td>\n",
       "      <td>H3-15-*</td>\n",
       "      <td>H4-8-1</td>\n",
       "    </tr>\n",
       "    <tr>\n",
       "      <th>...</th>\n",
       "      <td>...</td>\n",
       "      <td>...</td>\n",
       "      <td>...</td>\n",
       "      <td>...</td>\n",
       "      <td>...</td>\n",
       "    </tr>\n",
       "    <tr>\n",
       "      <th>22972</th>\n",
       "      <td>8DJK</td>\n",
       "      <td>H1-13-1</td>\n",
       "      <td>H2-10-1</td>\n",
       "      <td>H3-13-*</td>\n",
       "      <td>H4-8-1</td>\n",
       "    </tr>\n",
       "    <tr>\n",
       "      <th>22974</th>\n",
       "      <td>8DJM</td>\n",
       "      <td>H1-13-1</td>\n",
       "      <td>H2-10-1</td>\n",
       "      <td>H3-13-*</td>\n",
       "      <td>H4-8-1</td>\n",
       "    </tr>\n",
       "    <tr>\n",
       "      <th>22976</th>\n",
       "      <td>8DT3</td>\n",
       "      <td>H1-13-1</td>\n",
       "      <td>H2-10-1</td>\n",
       "      <td>H3-14-*</td>\n",
       "      <td>H4-8-1</td>\n",
       "    </tr>\n",
       "    <tr>\n",
       "      <th>22979</th>\n",
       "      <td>8FAB</td>\n",
       "      <td>H1-13-1</td>\n",
       "      <td>H2-10-2</td>\n",
       "      <td>H3-14-*</td>\n",
       "      <td>H4-8-1</td>\n",
       "    </tr>\n",
       "    <tr>\n",
       "      <th>22981</th>\n",
       "      <td>8FAB</td>\n",
       "      <td>H1-13-1</td>\n",
       "      <td>H2-10-2</td>\n",
       "      <td>H3-14-*</td>\n",
       "      <td>H4-8-1</td>\n",
       "    </tr>\n",
       "  </tbody>\n",
       "</table>\n",
       "<p>12388 rows × 5 columns</p>\n",
       "</div>"
      ],
      "text/plain": [
       "        pdb cdr1_cluster cdr2_cluster cdr3_cluster cdr4_cluster\n",
       "0      12E8      H1-13-1      H2-10-1      H3-13-*       H4-8-1\n",
       "3      12E8      H1-13-1      H2-10-1      H3-13-*       H4-8-1\n",
       "4      15C8      H1-13-1      H2-10-1      H3-12-*       H4-8-1\n",
       "6      1A0Q      H1-13-1      H2-10-3      H3-12-*       H4-8-1\n",
       "8      1A14      H1-13-1      H2-10-1      H3-15-*       H4-8-1\n",
       "...     ...          ...          ...          ...          ...\n",
       "22972  8DJK      H1-13-1      H2-10-1      H3-13-*       H4-8-1\n",
       "22974  8DJM      H1-13-1      H2-10-1      H3-13-*       H4-8-1\n",
       "22976  8DT3      H1-13-1      H2-10-1      H3-14-*       H4-8-1\n",
       "22979  8FAB      H1-13-1      H2-10-2      H3-14-*       H4-8-1\n",
       "22981  8FAB      H1-13-1      H2-10-2      H3-14-*       H4-8-1\n",
       "\n",
       "[12388 rows x 5 columns]"
      ]
     },
     "execution_count": 5,
     "metadata": {},
     "output_type": "execute_result"
    }
   ],
   "source": [
    "h_data"
   ]
  },
  {
   "cell_type": "markdown",
   "metadata": {},
   "source": [
    "get list of our Abs and Nbs datasets PDB ids"
   ]
  },
  {
   "cell_type": "code",
   "execution_count": 6,
   "metadata": {},
   "outputs": [],
   "source": [
    "abs_pdbs = [pdb.upper() for pdb in list(pd.read_csv('Dataset_flAbs_summary.csv')['pdb'])]"
   ]
  },
  {
   "cell_type": "code",
   "execution_count": 7,
   "metadata": {},
   "outputs": [],
   "source": [
    "nbs_pdbs = [pdb.upper() for pdb in list(pd.read_csv('Dataset_sdAbs_summary.csv')['pdb'])]"
   ]
  },
  {
   "cell_type": "markdown",
   "metadata": {},
   "source": [
    "extract dunbrack clusters from pyigclassify set for our PDB structures"
   ]
  },
  {
   "cell_type": "code",
   "execution_count": 8,
   "metadata": {},
   "outputs": [],
   "source": [
    "abs_clusters = h_data.loc[h_data['pdb'].isin(abs_pdbs)].reset_index().drop(columns=['index'])"
   ]
  },
  {
   "cell_type": "code",
   "execution_count": 9,
   "metadata": {},
   "outputs": [
    {
     "data": {
      "text/html": [
       "<div>\n",
       "<style scoped>\n",
       "    .dataframe tbody tr th:only-of-type {\n",
       "        vertical-align: middle;\n",
       "    }\n",
       "\n",
       "    .dataframe tbody tr th {\n",
       "        vertical-align: top;\n",
       "    }\n",
       "\n",
       "    .dataframe thead th {\n",
       "        text-align: right;\n",
       "    }\n",
       "</style>\n",
       "<table border=\"1\" class=\"dataframe\">\n",
       "  <thead>\n",
       "    <tr style=\"text-align: right;\">\n",
       "      <th></th>\n",
       "      <th>pdb</th>\n",
       "      <th>cdr1_cluster</th>\n",
       "      <th>cdr2_cluster</th>\n",
       "      <th>cdr3_cluster</th>\n",
       "      <th>cdr4_cluster</th>\n",
       "    </tr>\n",
       "  </thead>\n",
       "  <tbody>\n",
       "    <tr>\n",
       "      <th>0</th>\n",
       "      <td>1AHW</td>\n",
       "      <td>H1-13-1</td>\n",
       "      <td>H2-10-*</td>\n",
       "      <td>H3-10-*</td>\n",
       "      <td>H4-8-1</td>\n",
       "    </tr>\n",
       "    <tr>\n",
       "      <th>1</th>\n",
       "      <td>1AHW</td>\n",
       "      <td>H1-13-1</td>\n",
       "      <td>H2-10-1</td>\n",
       "      <td>H3-10-*</td>\n",
       "      <td>H4-8-1</td>\n",
       "    </tr>\n",
       "    <tr>\n",
       "      <th>2</th>\n",
       "      <td>1AR1</td>\n",
       "      <td>H1-13-1</td>\n",
       "      <td>H2-10-2</td>\n",
       "      <td>H3-11-*</td>\n",
       "      <td>H4-8-1</td>\n",
       "    </tr>\n",
       "    <tr>\n",
       "      <th>3</th>\n",
       "      <td>1BGX</td>\n",
       "      <td>H1-14-*</td>\n",
       "      <td>H2-9-*</td>\n",
       "      <td>H3-12-*</td>\n",
       "      <td>H4-8-1</td>\n",
       "    </tr>\n",
       "    <tr>\n",
       "      <th>4</th>\n",
       "      <td>1BJ1</td>\n",
       "      <td>H1-13-1</td>\n",
       "      <td>H2-10-1</td>\n",
       "      <td>H3-16-*</td>\n",
       "      <td>H4-8-1</td>\n",
       "    </tr>\n",
       "    <tr>\n",
       "      <th>...</th>\n",
       "      <td>...</td>\n",
       "      <td>...</td>\n",
       "      <td>...</td>\n",
       "      <td>...</td>\n",
       "      <td>...</td>\n",
       "    </tr>\n",
       "    <tr>\n",
       "      <th>1451</th>\n",
       "      <td>7TN0</td>\n",
       "      <td>H1-13-1</td>\n",
       "      <td>H2-10-1</td>\n",
       "      <td>H3-20-*</td>\n",
       "      <td>H4-8-1</td>\n",
       "    </tr>\n",
       "    <tr>\n",
       "      <th>1452</th>\n",
       "      <td>7TN0</td>\n",
       "      <td>H1-13-1</td>\n",
       "      <td>H2-10-1</td>\n",
       "      <td>H3-20-*</td>\n",
       "      <td>H4-8-1</td>\n",
       "    </tr>\n",
       "    <tr>\n",
       "      <th>1453</th>\n",
       "      <td>7TN0</td>\n",
       "      <td>H1-13-1</td>\n",
       "      <td>H2-9-1</td>\n",
       "      <td>H3-14-*</td>\n",
       "      <td>H4-8-1</td>\n",
       "    </tr>\n",
       "    <tr>\n",
       "      <th>1454</th>\n",
       "      <td>7TN0</td>\n",
       "      <td>H1-13-1</td>\n",
       "      <td>H2-9-1</td>\n",
       "      <td>H3-14-*</td>\n",
       "      <td>H4-8-1</td>\n",
       "    </tr>\n",
       "    <tr>\n",
       "      <th>1455</th>\n",
       "      <td>7VUX</td>\n",
       "      <td>H1-13-1</td>\n",
       "      <td>H2-10-2</td>\n",
       "      <td>H3-10-*</td>\n",
       "      <td>H4-8-1</td>\n",
       "    </tr>\n",
       "  </tbody>\n",
       "</table>\n",
       "<p>1456 rows × 5 columns</p>\n",
       "</div>"
      ],
      "text/plain": [
       "       pdb cdr1_cluster cdr2_cluster cdr3_cluster cdr4_cluster\n",
       "0     1AHW      H1-13-1      H2-10-*      H3-10-*       H4-8-1\n",
       "1     1AHW      H1-13-1      H2-10-1      H3-10-*       H4-8-1\n",
       "2     1AR1      H1-13-1      H2-10-2      H3-11-*       H4-8-1\n",
       "3     1BGX      H1-14-*       H2-9-*      H3-12-*       H4-8-1\n",
       "4     1BJ1      H1-13-1      H2-10-1      H3-16-*       H4-8-1\n",
       "...    ...          ...          ...          ...          ...\n",
       "1451  7TN0      H1-13-1      H2-10-1      H3-20-*       H4-8-1\n",
       "1452  7TN0      H1-13-1      H2-10-1      H3-20-*       H4-8-1\n",
       "1453  7TN0      H1-13-1       H2-9-1      H3-14-*       H4-8-1\n",
       "1454  7TN0      H1-13-1       H2-9-1      H3-14-*       H4-8-1\n",
       "1455  7VUX      H1-13-1      H2-10-2      H3-10-*       H4-8-1\n",
       "\n",
       "[1456 rows x 5 columns]"
      ]
     },
     "execution_count": 9,
     "metadata": {},
     "output_type": "execute_result"
    }
   ],
   "source": [
    "abs_clusters"
   ]
  },
  {
   "cell_type": "code",
   "execution_count": 10,
   "metadata": {},
   "outputs": [],
   "source": [
    "nbs_clusters = h_data.loc[h_data['pdb'].isin(nbs_pdbs)].reset_index().drop(columns=['index'])"
   ]
  },
  {
   "cell_type": "code",
   "execution_count": 11,
   "metadata": {},
   "outputs": [
    {
     "data": {
      "text/html": [
       "<div>\n",
       "<style scoped>\n",
       "    .dataframe tbody tr th:only-of-type {\n",
       "        vertical-align: middle;\n",
       "    }\n",
       "\n",
       "    .dataframe tbody tr th {\n",
       "        vertical-align: top;\n",
       "    }\n",
       "\n",
       "    .dataframe thead th {\n",
       "        text-align: right;\n",
       "    }\n",
       "</style>\n",
       "<table border=\"1\" class=\"dataframe\">\n",
       "  <thead>\n",
       "    <tr style=\"text-align: right;\">\n",
       "      <th></th>\n",
       "      <th>pdb</th>\n",
       "      <th>cdr1_cluster</th>\n",
       "      <th>cdr2_cluster</th>\n",
       "      <th>cdr3_cluster</th>\n",
       "      <th>cdr4_cluster</th>\n",
       "    </tr>\n",
       "  </thead>\n",
       "  <tbody>\n",
       "    <tr>\n",
       "      <th>0</th>\n",
       "      <td>1KXQ</td>\n",
       "      <td>H1-10-*</td>\n",
       "      <td>H2-10-1</td>\n",
       "      <td>H3-16-*</td>\n",
       "      <td>H4-8-*</td>\n",
       "    </tr>\n",
       "    <tr>\n",
       "      <th>1</th>\n",
       "      <td>1KXQ</td>\n",
       "      <td>H1-10-*</td>\n",
       "      <td>H2-10-1</td>\n",
       "      <td>H3-16-*</td>\n",
       "      <td>H4-8-*</td>\n",
       "    </tr>\n",
       "    <tr>\n",
       "      <th>2</th>\n",
       "      <td>1KXQ</td>\n",
       "      <td>H1-10-*</td>\n",
       "      <td>H2-10-1</td>\n",
       "      <td>H3-16-*</td>\n",
       "      <td>H4-8-*</td>\n",
       "    </tr>\n",
       "    <tr>\n",
       "      <th>3</th>\n",
       "      <td>1KXQ</td>\n",
       "      <td>H1-10-*</td>\n",
       "      <td>H2-10-1</td>\n",
       "      <td>H3-16-*</td>\n",
       "      <td>H4-8-*</td>\n",
       "    </tr>\n",
       "    <tr>\n",
       "      <th>4</th>\n",
       "      <td>1KXT</td>\n",
       "      <td>H1-13-*</td>\n",
       "      <td>H2-9-1</td>\n",
       "      <td>H3-21-*</td>\n",
       "      <td>H4-8-*</td>\n",
       "    </tr>\n",
       "    <tr>\n",
       "      <th>...</th>\n",
       "      <td>...</td>\n",
       "      <td>...</td>\n",
       "      <td>...</td>\n",
       "      <td>...</td>\n",
       "      <td>...</td>\n",
       "    </tr>\n",
       "    <tr>\n",
       "      <th>616</th>\n",
       "      <td>7T5F</td>\n",
       "      <td>H1-13-1</td>\n",
       "      <td>H2-10-2</td>\n",
       "      <td>H3-11-*</td>\n",
       "      <td>H4-8-1</td>\n",
       "    </tr>\n",
       "    <tr>\n",
       "      <th>617</th>\n",
       "      <td>7T5F</td>\n",
       "      <td>H1-13-*</td>\n",
       "      <td>H2-9-1</td>\n",
       "      <td>H3-11-*</td>\n",
       "      <td>H4-8-1</td>\n",
       "    </tr>\n",
       "    <tr>\n",
       "      <th>618</th>\n",
       "      <td>7T5F</td>\n",
       "      <td>H1-13-1</td>\n",
       "      <td>H2-10-2</td>\n",
       "      <td>H3-11-*</td>\n",
       "      <td>H4-8-1</td>\n",
       "    </tr>\n",
       "    <tr>\n",
       "      <th>619</th>\n",
       "      <td>7T5F</td>\n",
       "      <td>H1-13-*</td>\n",
       "      <td>H2-9-1</td>\n",
       "      <td>H3-11-*</td>\n",
       "      <td>H4-8-1</td>\n",
       "    </tr>\n",
       "    <tr>\n",
       "      <th>620</th>\n",
       "      <td>7VNB</td>\n",
       "      <td>H1-13-*</td>\n",
       "      <td>H2-9-1</td>\n",
       "      <td>H3-12-*</td>\n",
       "      <td>H4-8-1</td>\n",
       "    </tr>\n",
       "  </tbody>\n",
       "</table>\n",
       "<p>621 rows × 5 columns</p>\n",
       "</div>"
      ],
      "text/plain": [
       "      pdb cdr1_cluster cdr2_cluster cdr3_cluster cdr4_cluster\n",
       "0    1KXQ      H1-10-*      H2-10-1      H3-16-*       H4-8-*\n",
       "1    1KXQ      H1-10-*      H2-10-1      H3-16-*       H4-8-*\n",
       "2    1KXQ      H1-10-*      H2-10-1      H3-16-*       H4-8-*\n",
       "3    1KXQ      H1-10-*      H2-10-1      H3-16-*       H4-8-*\n",
       "4    1KXT      H1-13-*       H2-9-1      H3-21-*       H4-8-*\n",
       "..    ...          ...          ...          ...          ...\n",
       "616  7T5F      H1-13-1      H2-10-2      H3-11-*       H4-8-1\n",
       "617  7T5F      H1-13-*       H2-9-1      H3-11-*       H4-8-1\n",
       "618  7T5F      H1-13-1      H2-10-2      H3-11-*       H4-8-1\n",
       "619  7T5F      H1-13-*       H2-9-1      H3-11-*       H4-8-1\n",
       "620  7VNB      H1-13-*       H2-9-1      H3-12-*       H4-8-1\n",
       "\n",
       "[621 rows x 5 columns]"
      ]
     },
     "execution_count": 11,
     "metadata": {},
     "output_type": "execute_result"
    }
   ],
   "source": [
    "nbs_clusters"
   ]
  },
  {
   "cell_type": "markdown",
   "metadata": {},
   "source": [
    "check that all our structures are present in dunbrack data/identify any missing"
   ]
  },
  {
   "cell_type": "code",
   "execution_count": 12,
   "metadata": {},
   "outputs": [
    {
     "name": "stdout",
     "output_type": "stream",
     "text": [
      "3RVW\n",
      "6ERX\n",
      "5USI\n",
      "3L5Y\n"
     ]
    }
   ],
   "source": [
    "for a in abs_pdbs: \n",
    "    if a not in list(abs_clusters['pdb']):\n",
    "        print(a)"
   ]
  },
  {
   "cell_type": "code",
   "execution_count": 13,
   "metadata": {},
   "outputs": [
    {
     "name": "stdout",
     "output_type": "stream",
     "text": [
      "6CSY\n",
      "6F5G\n"
     ]
    }
   ],
   "source": [
    "for n in nbs_pdbs: \n",
    "    if n not in list(nbs_clusters['pdb']):\n",
    "        print(n)"
   ]
  },
  {
   "cell_type": "code",
   "execution_count": 14,
   "metadata": {},
   "outputs": [
    {
     "name": "stdout",
     "output_type": "stream",
     "text": [
      "FALSE\n",
      "FALSE\n",
      "FALSE\n",
      "FALSE\n",
      "FALSE\n",
      "FALSE\n"
     ]
    }
   ],
   "source": [
    "missing = ['3RVW', '6ERX', '5USI', '3L5Y', '6CSY', '6F5G']\n",
    "\n",
    "for m in missing:\n",
    "    if m in domain_data['pdb']:\n",
    "        print('TRUE')\n",
    "    else:\n",
    "        print('FALSE')"
   ]
  },
  {
   "cell_type": "markdown",
   "metadata": {},
   "source": [
    "add in missing clusters"
   ]
  },
  {
   "cell_type": "markdown",
   "metadata": {},
   "source": [
    "just need PDB ID, cluster for cdrh1,2,3 (none for 4)"
   ]
  },
  {
   "cell_type": "code",
   "execution_count": 15,
   "metadata": {},
   "outputs": [],
   "source": [
    "import os, glob\n",
    "import pandas as pd"
   ]
  },
  {
   "cell_type": "code",
   "execution_count": 72,
   "metadata": {},
   "outputs": [
    {
     "name": "stdout",
     "output_type": "stream",
     "text": [
      "{'6F5G': ('H1-13-5', 'H2-10-2', 'NA'), '3RVW': ('H1-14-1', 'H2-9-1', 'NA'), '6CSY': ('H1-13-1', 'H2-9-1', 'H3-10-2'), '5USI': ('H1-13-1', 'H2-10-1', 'H3-10-1'), '6ERX': ('H1-13-1', 'H2-10-1', 'NA'), '3L5Y': ('H1-15-1', 'H2-9-1', 'H3-13-2')}\n"
     ]
    }
   ],
   "source": [
    "output_dict = dict()\n",
    "\n",
    "for filename in glob.iglob('pyigclassify2/**', recursive=True):\n",
    "    if os.path.isfile(filename): \n",
    "        if 'Clusters.txt' in filename:\n",
    "            # get cluster lines from txt file\n",
    "            with open(filename) as file:\n",
    "                lines = file.readlines()[4:]\n",
    "                for line in lines:\n",
    "                    info = line.split(' ')\n",
    "                    pdb_id = info[1]\n",
    "                    all_chains = info[3].split('\\t')\n",
    "                    if all_chains[0] == 'H1':\n",
    "                        cdrh1 = all_chains[6]\n",
    "                    elif all_chains[0] == 'H2':\n",
    "                        cdrh2 = all_chains[6]\n",
    "                    elif all_chains[0] == 'H3':\n",
    "                        cdrh3 = all_chains[6]  \n",
    "                    clusters = cdrh1, cdrh2, cdrh3\n",
    "                    output_dict[pdb_id] = clusters\n",
    "\n",
    "print(output_dict)"
   ]
  },
  {
   "cell_type": "code",
   "execution_count": 86,
   "metadata": {},
   "outputs": [],
   "source": [
    "missing_results = pd.DataFrame.from_dict(output_dict).transpose()\n",
    "missing_results = missing_results.reset_index(level=0)\n",
    "missing_results.set_axis(['pdb', 'cdr1_cluster', 'cdr2_cluster', 'cdr3_cluster'], axis=1, inplace=True)\n",
    "missing_results['cdr4_cluster'] = 'NA'\n",
    "missing_results['Ig_ID'] = ['Nbs', 'Abs', 'Nbs', 'Abs', 'Abs', 'Abs']"
   ]
  },
  {
   "cell_type": "code",
   "execution_count": 87,
   "metadata": {},
   "outputs": [
    {
     "data": {
      "text/html": [
       "<div>\n",
       "<style scoped>\n",
       "    .dataframe tbody tr th:only-of-type {\n",
       "        vertical-align: middle;\n",
       "    }\n",
       "\n",
       "    .dataframe tbody tr th {\n",
       "        vertical-align: top;\n",
       "    }\n",
       "\n",
       "    .dataframe thead th {\n",
       "        text-align: right;\n",
       "    }\n",
       "</style>\n",
       "<table border=\"1\" class=\"dataframe\">\n",
       "  <thead>\n",
       "    <tr style=\"text-align: right;\">\n",
       "      <th></th>\n",
       "      <th>pdb</th>\n",
       "      <th>cdr1_cluster</th>\n",
       "      <th>cdr2_cluster</th>\n",
       "      <th>cdr3_cluster</th>\n",
       "      <th>cdr4_cluster</th>\n",
       "      <th>Ig_ID</th>\n",
       "    </tr>\n",
       "  </thead>\n",
       "  <tbody>\n",
       "    <tr>\n",
       "      <th>0</th>\n",
       "      <td>6F5G</td>\n",
       "      <td>H1-13-5</td>\n",
       "      <td>H2-10-2</td>\n",
       "      <td>NA</td>\n",
       "      <td>NA</td>\n",
       "      <td>Nbs</td>\n",
       "    </tr>\n",
       "    <tr>\n",
       "      <th>1</th>\n",
       "      <td>3RVW</td>\n",
       "      <td>H1-14-1</td>\n",
       "      <td>H2-9-1</td>\n",
       "      <td>NA</td>\n",
       "      <td>NA</td>\n",
       "      <td>Abs</td>\n",
       "    </tr>\n",
       "    <tr>\n",
       "      <th>2</th>\n",
       "      <td>6CSY</td>\n",
       "      <td>H1-13-1</td>\n",
       "      <td>H2-9-1</td>\n",
       "      <td>H3-10-2</td>\n",
       "      <td>NA</td>\n",
       "      <td>Nbs</td>\n",
       "    </tr>\n",
       "    <tr>\n",
       "      <th>3</th>\n",
       "      <td>5USI</td>\n",
       "      <td>H1-13-1</td>\n",
       "      <td>H2-10-1</td>\n",
       "      <td>H3-10-1</td>\n",
       "      <td>NA</td>\n",
       "      <td>Abs</td>\n",
       "    </tr>\n",
       "    <tr>\n",
       "      <th>4</th>\n",
       "      <td>6ERX</td>\n",
       "      <td>H1-13-1</td>\n",
       "      <td>H2-10-1</td>\n",
       "      <td>NA</td>\n",
       "      <td>NA</td>\n",
       "      <td>Abs</td>\n",
       "    </tr>\n",
       "    <tr>\n",
       "      <th>5</th>\n",
       "      <td>3L5Y</td>\n",
       "      <td>H1-15-1</td>\n",
       "      <td>H2-9-1</td>\n",
       "      <td>H3-13-2</td>\n",
       "      <td>NA</td>\n",
       "      <td>Abs</td>\n",
       "    </tr>\n",
       "  </tbody>\n",
       "</table>\n",
       "</div>"
      ],
      "text/plain": [
       "    pdb cdr1_cluster cdr2_cluster cdr3_cluster cdr4_cluster Ig_ID\n",
       "0  6F5G      H1-13-5      H2-10-2           NA           NA   Nbs\n",
       "1  3RVW      H1-14-1       H2-9-1           NA           NA   Abs\n",
       "2  6CSY      H1-13-1       H2-9-1      H3-10-2           NA   Nbs\n",
       "3  5USI      H1-13-1      H2-10-1      H3-10-1           NA   Abs\n",
       "4  6ERX      H1-13-1      H2-10-1           NA           NA   Abs\n",
       "5  3L5Y      H1-15-1       H2-9-1      H3-13-2           NA   Abs"
      ]
     },
     "execution_count": 87,
     "metadata": {},
     "output_type": "execute_result"
    }
   ],
   "source": [
    "missing_results"
   ]
  },
  {
   "cell_type": "markdown",
   "metadata": {},
   "source": [
    "plot frequency of dunbrack forms:"
   ]
  },
  {
   "cell_type": "markdown",
   "metadata": {},
   "source": [
    "concat abs and nbs results and add labels for whether abs or nbs"
   ]
  },
  {
   "cell_type": "markdown",
   "metadata": {},
   "source": [
    "filter results so just have one result per structure (most similar/same but some eg * or no *) ??"
   ]
  },
  {
   "cell_type": "code",
   "execution_count": 88,
   "metadata": {},
   "outputs": [],
   "source": [
    "for row in abs_clusters.iterrows(): \n",
    "    abs_clusters['Ig_ID'] = 'Abs'\n",
    "for row in nbs_clusters.iterrows():\n",
    "    nbs_clusters['Ig_ID'] = 'Nbs'\n",
    "\n",
    "abs_and_nbs = pd.concat([abs_clusters, nbs_clusters], axis=0)\n",
    "abs_and_nbs = abs_and_nbs.drop_duplicates(subset='pdb', keep='first')\n",
    "abs_and_nbs = pd.concat([abs_and_nbs, missing_results], axis=0)"
   ]
  },
  {
   "cell_type": "code",
   "execution_count": 99,
   "metadata": {},
   "outputs": [],
   "source": [
    "abs_clusters = abs_and_nbs.loc[abs_and_nbs['Ig_ID'] == 'Abs'].drop_duplicates(subset='pdb', keep='first')\n",
    "nbs_clusters = abs_and_nbs.loc[abs_and_nbs['Ig_ID'] == 'Nbs'].drop_duplicates(subset='pdb', keep='first')"
   ]
  },
  {
   "cell_type": "code",
   "execution_count": 100,
   "metadata": {},
   "outputs": [],
   "source": [
    "def plot_form_freq(abs_series, nbs_series, title):\n",
    "\n",
    "    # create df of counts\n",
    "    df = pd.DataFrame([abs_series.value_counts(), nbs_series.value_counts()]).transpose().fillna(0)\n",
    "    df = df.reset_index(level=0)\n",
    "    df = df.set_axis(['Form', 'Abs', 'sdAbs'], axis=1)\n",
    "\n",
    "    # get proportions of canonical forms so frequency normalised \n",
    "    df['Abs_proportions'] = (df['Abs'] / df['Abs'].sum()) * 100\n",
    "    df['sdAbs_proportions'] = (df['sdAbs'] / df['sdAbs'].sum()) * 100    \n",
    "    \n",
    "    # plot\n",
    "    plt.figure()\n",
    "    df.plot.bar(x='Form', y=['Abs_proportions', 'sdAbs_proportions'], color={'Abs_proportions':'lightcoral', 'sdAbs_proportions':'royalblue'})\n",
    "    plt.xlabel('Canonical form')\n",
    "    plt.ylabel('Normalised frequency')\n",
    "    plt.legend(['Abs', 'sdAbs'])\n",
    "    plt.title(title)\n",
    "    plt.show()\n",
    "\n",
    "    return \n"
   ]
  },
  {
   "cell_type": "code",
   "execution_count": 101,
   "metadata": {},
   "outputs": [],
   "source": [
    "df = pd.DataFrame([abs_clusters['cdr1_cluster'].value_counts(), nbs_clusters['cdr1_cluster'].value_counts()]).transpose().fillna(0)\n",
    "df = df.reset_index(level=0)\n",
    "df = df.set_axis(['Form', 'Abs', 'sdAbs'], axis=1)"
   ]
  },
  {
   "cell_type": "code",
   "execution_count": 102,
   "metadata": {},
   "outputs": [],
   "source": [
    "import matplotlib.pyplot as plt"
   ]
  },
  {
   "cell_type": "code",
   "execution_count": 103,
   "metadata": {},
   "outputs": [
    {
     "data": {
      "text/plain": [
       "<Figure size 432x288 with 0 Axes>"
      ]
     },
     "metadata": {},
     "output_type": "display_data"
    },
    {
     "data": {
      "image/png": "[encoded data removed]",
      "text/plain": [
       "<Figure size 432x288 with 1 Axes>"
      ]
     },
     "metadata": {
      "needs_background": "light"
     },
     "output_type": "display_data"
    }
   ],
   "source": [
    "plot_form_freq(abs_clusters['cdr1_cluster'], nbs_clusters['cdr1_cluster'], 'CDR-H1')"
   ]
  },
  {
   "cell_type": "code",
   "execution_count": 104,
   "metadata": {},
   "outputs": [
    {
     "data": {
      "text/plain": [
       "<Figure size 432x288 with 0 Axes>"
      ]
     },
     "metadata": {},
     "output_type": "display_data"
    },
    {
     "data": {
      "image/png": "[encoded data removed]",
      "text/plain": [
       "<Figure size 432x288 with 1 Axes>"
      ]
     },
     "metadata": {
      "needs_background": "light"
     },
     "output_type": "display_data"
    }
   ],
   "source": [
    "plot_form_freq(abs_clusters['cdr2_cluster'], nbs_clusters['cdr2_cluster'], 'CDR-H2')"
   ]
  },
  {
   "cell_type": "code",
   "execution_count": 105,
   "metadata": {},
   "outputs": [
    {
     "data": {
      "text/plain": [
       "<Figure size 432x288 with 0 Axes>"
      ]
     },
     "metadata": {},
     "output_type": "display_data"
    },
    {
     "data": {
      "image/png": "[encoded data removed]",
      "text/plain": [
       "<Figure size 432x288 with 1 Axes>"
      ]
     },
     "metadata": {
      "needs_background": "light"
     },
     "output_type": "display_data"
    }
   ],
   "source": [
    "plot_form_freq(abs_clusters['cdr3_cluster'], nbs_clusters['cdr3_cluster'], 'CDR-H3')"
   ]
  },
  {
   "cell_type": "code",
   "execution_count": 106,
   "metadata": {},
   "outputs": [],
   "source": [
    "abs_and_nbs.to_csv('dunbrack_clustering_results.csv')"
   ]
  },
  {
   "cell_type": "code",
   "execution_count": 1,
   "metadata": {},
   "outputs": [],
   "source": [
    "import pandas as pd"
   ]
  },
  {
   "cell_type": "code",
   "execution_count": 2,
   "metadata": {},
   "outputs": [],
   "source": [
    "results = pd.read_csv('dunbrack_clustering_results.csv')"
   ]
  },
  {
   "cell_type": "code",
   "execution_count": 4,
   "metadata": {},
   "outputs": [
    {
     "data": {
      "text/plain": [
       "Index(['Unnamed: 0', 'pdb', 'cdr1_cluster', 'cdr2_cluster', 'cdr3_cluster',\n",
       "       'cdr4_cluster', 'Ig_ID'],\n",
       "      dtype='object')"
      ]
     },
     "execution_count": 4,
     "metadata": {},
     "output_type": "execute_result"
    }
   ],
   "source": [
    "results.columns"
   ]
  },
  {
   "cell_type": "markdown",
   "metadata": {},
   "source": [
    "### % CDR1 unassigned"
   ]
  },
  {
   "cell_type": "code",
   "execution_count": 8,
   "metadata": {},
   "outputs": [
    {
     "name": "stdout",
     "output_type": "stream",
     "text": [
      "1137\n",
      "339\n",
      "29.815303430079155\n"
     ]
    }
   ],
   "source": [
    "unassigned = []\n",
    "for result in results['cdr1_cluster']:\n",
    "    if '*' in str(result):\n",
    "        unassigned.append(result)\n",
    "\n",
    "print(len(results['cdr1_cluster']))\n",
    "print(len(unassigned))\n",
    "print((len(unassigned) / len(results['cdr1_cluster'])) * 100)"
   ]
  },
  {
   "cell_type": "markdown",
   "metadata": {},
   "source": [
    "### % CDR2 unassigned"
   ]
  },
  {
   "cell_type": "code",
   "execution_count": 9,
   "metadata": {},
   "outputs": [
    {
     "name": "stdout",
     "output_type": "stream",
     "text": [
      "1137\n",
      "173\n",
      "15.215479331574318\n"
     ]
    }
   ],
   "source": [
    "unassigned = []\n",
    "for result in results['cdr2_cluster']:\n",
    "    if '*' in str(result):\n",
    "        unassigned.append(result)\n",
    "\n",
    "print(len(results['cdr2_cluster']))\n",
    "print(len(unassigned))\n",
    "print((len(unassigned) / len(results['cdr2_cluster'])) * 100)"
   ]
  },
  {
   "cell_type": "markdown",
   "metadata": {},
   "source": [
    "### % CDR3 unassigned"
   ]
  },
  {
   "cell_type": "code",
   "execution_count": 10,
   "metadata": {},
   "outputs": [
    {
     "name": "stdout",
     "output_type": "stream",
     "text": [
      "1137\n",
      "1014\n",
      "89.18205804749341\n"
     ]
    }
   ],
   "source": [
    "unassigned = []\n",
    "for result in results['cdr3_cluster']:\n",
    "    if '*' in str(result):\n",
    "        unassigned.append(result)\n",
    "\n",
    "print(len(results['cdr3_cluster']))\n",
    "print(len(unassigned))\n",
    "print((len(unassigned) / len(results['cdr3_cluster'])) * 100)"
   ]
  }
 ],
 "metadata": {
  "kernelspec": {
   "display_name": "Python 3.8.8 ('base')",
   "language": "python",
   "name": "python3"
  },
  "language_info": {
   "codemirror_mode": {
    "name": "ipython",
    "version": 3
   },
   "file_extension": ".py",
   "mimetype": "text/x-python",
   "name": "python",
   "nbconvert_exporter": "python",
   "pygments_lexer": "ipython3",
   "version": "3.8.8"
  },
  "orig_nbformat": 4,
  "vscode": {
   "interpreter": {
    "hash": "6583c3f449b2025ea649b72d4a52efb1871eb538dba3514b6dae43f01b685c61"
   }
  }
 },
 "nbformat": 4,
 "nbformat_minor": 2
}
