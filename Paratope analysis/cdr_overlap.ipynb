{
 "cells": [
  {
   "cell_type": "code",
   "execution_count": null,
   "metadata": {},
   "outputs": [],
   "source": [
    "#@Author: Gemma Gordon\n",
    "#@Date: November 2022\n",
    "# Script to compare the CDR sequences found in the Abs and sdAbs sequence datasets"
   ]
  },
  {
   "cell_type": "code",
   "execution_count": 1,
   "metadata": {},
   "outputs": [],
   "source": [
    "import numpy as np\n",
    "import pandas as pd\n",
    "%matplotlib inline\n",
    "import matplotlib.pyplot as plt\n",
    "import logomaker as lm\n",
    "import ast\n",
    "import os "
   ]
  },
  {
   "cell_type": "markdown",
   "metadata": {},
   "source": [
    "load in csvs"
   ]
  },
  {
   "attachments": {},
   "cell_type": "markdown",
   "metadata": {},
   "source": [
    "Gives columns for CDR sequences in dict with position and amino acid at that position (ANARCI-predicted)"
   ]
  },
  {
   "cell_type": "code",
   "execution_count": 2,
   "metadata": {},
   "outputs": [],
   "source": [
    "abs_seqs = pd.read_csv('vh_seq_summary_eliyahu.csv')\n",
    "sdabs_seqs = pd.read_csv('vhh_seq_summary_li.csv')"
   ]
  },
  {
   "cell_type": "code",
   "execution_count": 3,
   "metadata": {},
   "outputs": [
    {
     "data": {
      "text/html": [
       "<div>\n",
       "<style scoped>\n",
       "    .dataframe tbody tr th:only-of-type {\n",
       "        vertical-align: middle;\n",
       "    }\n",
       "\n",
       "    .dataframe tbody tr th {\n",
       "        vertical-align: top;\n",
       "    }\n",
       "\n",
       "    .dataframe thead th {\n",
       "        text-align: right;\n",
       "    }\n",
       "</style>\n",
       "<table border=\"1\" class=\"dataframe\">\n",
       "  <thead>\n",
       "    <tr style=\"text-align: right;\">\n",
       "      <th></th>\n",
       "      <th>Unnamed: 0</th>\n",
       "      <th>index</th>\n",
       "      <th>cdrh1</th>\n",
       "      <th>cdrh2</th>\n",
       "      <th>cdrh3</th>\n",
       "      <th>v_gene</th>\n",
       "      <th>cdrh1_lens</th>\n",
       "      <th>cdrh2_lens</th>\n",
       "      <th>cdrh3_lens</th>\n",
       "    </tr>\n",
       "  </thead>\n",
       "  <tbody>\n",
       "    <tr>\n",
       "      <th>0</th>\n",
       "      <td>0</td>\n",
       "      <td>0</td>\n",
       "      <td>{'27 ': 'G', '28 ': 'X', '29 ': 'I', '30 ': 'F...</td>\n",
       "      <td>{'56 ': 'I', '57 ': 'W', '58 ': 'S', '59 ': 'D...</td>\n",
       "      <td>{'105 ': 'A', '106 ': 'R', '107 ': 'A', '108 '...</td>\n",
       "      <td>IGHV3-33*01</td>\n",
       "      <td>8</td>\n",
       "      <td>8</td>\n",
       "      <td>19</td>\n",
       "    </tr>\n",
       "    <tr>\n",
       "      <th>1</th>\n",
       "      <td>1</td>\n",
       "      <td>1</td>\n",
       "      <td>{'27 ': 'G', '28 ': 'Y', '29 ': 'T', '30 ': 'F...</td>\n",
       "      <td>{'56 ': 'I', '57 ': 'N', '58 ': 'T', '59 ': 'N...</td>\n",
       "      <td>{'105 ': 'A', '106 ': 'R', '107 ': 'G', '108 '...</td>\n",
       "      <td>IGHV7-4-1*02</td>\n",
       "      <td>8</td>\n",
       "      <td>8</td>\n",
       "      <td>20</td>\n",
       "    </tr>\n",
       "    <tr>\n",
       "      <th>2</th>\n",
       "      <td>2</td>\n",
       "      <td>2</td>\n",
       "      <td>{'27 ': 'G', '28 ': 'Y', '29 ': 'S', '30 ': 'F...</td>\n",
       "      <td>{'56 ': 'I', '57 ': 'X', '58 ': 'P', '59 ': 'A...</td>\n",
       "      <td>{'105 ': 'A', '106 ': 'R', '107 ': 'A', '108 '...</td>\n",
       "      <td>IGHV5-51*01</td>\n",
       "      <td>8</td>\n",
       "      <td>8</td>\n",
       "      <td>11</td>\n",
       "    </tr>\n",
       "    <tr>\n",
       "      <th>3</th>\n",
       "      <td>3</td>\n",
       "      <td>3</td>\n",
       "      <td>{'27 ': 'G', '28 ': 'G', '29 ': 'X', '30 ': 'F...</td>\n",
       "      <td>{'56 ': 'I', '57 ': 'I', '58 ': 'P', '59 ': 'I...</td>\n",
       "      <td>{'105 ': 'A', '106 ': 'R', '107 ': 'P', '108 '...</td>\n",
       "      <td>IGHV1-69*01</td>\n",
       "      <td>8</td>\n",
       "      <td>8</td>\n",
       "      <td>17</td>\n",
       "    </tr>\n",
       "    <tr>\n",
       "      <th>4</th>\n",
       "      <td>4</td>\n",
       "      <td>4</td>\n",
       "      <td>{'27 ': 'X', '28 ': 'D', '29 ': 'T', '30 ': 'X...</td>\n",
       "      <td>{'56 ': 'I', '57 ': 'I', '58 ': 'P', '59 ': 'I...</td>\n",
       "      <td>{'105 ': 'A', '106 ': 'R', '107 ': 'V', '108 '...</td>\n",
       "      <td>IGHV1-69*01</td>\n",
       "      <td>8</td>\n",
       "      <td>8</td>\n",
       "      <td>16</td>\n",
       "    </tr>\n",
       "  </tbody>\n",
       "</table>\n",
       "</div>"
      ],
      "text/plain": [
       "   Unnamed: 0  index                                              cdrh1  \\\n",
       "0           0      0  {'27 ': 'G', '28 ': 'X', '29 ': 'I', '30 ': 'F...   \n",
       "1           1      1  {'27 ': 'G', '28 ': 'Y', '29 ': 'T', '30 ': 'F...   \n",
       "2           2      2  {'27 ': 'G', '28 ': 'Y', '29 ': 'S', '30 ': 'F...   \n",
       "3           3      3  {'27 ': 'G', '28 ': 'G', '29 ': 'X', '30 ': 'F...   \n",
       "4           4      4  {'27 ': 'X', '28 ': 'D', '29 ': 'T', '30 ': 'X...   \n",
       "\n",
       "                                               cdrh2  \\\n",
       "0  {'56 ': 'I', '57 ': 'W', '58 ': 'S', '59 ': 'D...   \n",
       "1  {'56 ': 'I', '57 ': 'N', '58 ': 'T', '59 ': 'N...   \n",
       "2  {'56 ': 'I', '57 ': 'X', '58 ': 'P', '59 ': 'A...   \n",
       "3  {'56 ': 'I', '57 ': 'I', '58 ': 'P', '59 ': 'I...   \n",
       "4  {'56 ': 'I', '57 ': 'I', '58 ': 'P', '59 ': 'I...   \n",
       "\n",
       "                                               cdrh3        v_gene  \\\n",
       "0  {'105 ': 'A', '106 ': 'R', '107 ': 'A', '108 '...   IGHV3-33*01   \n",
       "1  {'105 ': 'A', '106 ': 'R', '107 ': 'G', '108 '...  IGHV7-4-1*02   \n",
       "2  {'105 ': 'A', '106 ': 'R', '107 ': 'A', '108 '...   IGHV5-51*01   \n",
       "3  {'105 ': 'A', '106 ': 'R', '107 ': 'P', '108 '...   IGHV1-69*01   \n",
       "4  {'105 ': 'A', '106 ': 'R', '107 ': 'V', '108 '...   IGHV1-69*01   \n",
       "\n",
       "   cdrh1_lens  cdrh2_lens  cdrh3_lens  \n",
       "0           8           8          19  \n",
       "1           8           8          20  \n",
       "2           8           8          11  \n",
       "3           8           8          17  \n",
       "4           8           8          16  "
      ]
     },
     "execution_count": 3,
     "metadata": {},
     "output_type": "execute_result"
    }
   ],
   "source": [
    "abs_seqs.head()"
   ]
  },
  {
   "attachments": {},
   "cell_type": "markdown",
   "metadata": {},
   "source": [
    "Extract only IGHV3 results from Abs results"
   ]
  },
  {
   "cell_type": "code",
   "execution_count": 5,
   "metadata": {},
   "outputs": [],
   "source": [
    "abs_seqs_v3 = abs_seqs.loc[abs_seqs['v_gene'].str.contains('IGHV3')]"
   ]
  },
  {
   "cell_type": "code",
   "execution_count": 6,
   "metadata": {},
   "outputs": [
    {
     "data": {
      "text/plain": [
       "763740"
      ]
     },
     "execution_count": 6,
     "metadata": {},
     "output_type": "execute_result"
    }
   ],
   "source": [
    "len(abs_seqs_v3)"
   ]
  },
  {
   "attachments": {},
   "cell_type": "markdown",
   "metadata": {},
   "source": [
    "Split datasets by loop"
   ]
  },
  {
   "cell_type": "code",
   "execution_count": 7,
   "metadata": {},
   "outputs": [],
   "source": [
    "abs_h1 = abs_seqs_v3[['cdrh1', 'cdrh1_lens']]\n",
    "abs_h2 = abs_seqs_v3[['cdrh2', 'cdrh2_lens']]\n",
    "abs_h3 = abs_seqs_v3[['cdrh3', 'cdrh3_lens']]"
   ]
  },
  {
   "cell_type": "code",
   "execution_count": 45,
   "metadata": {},
   "outputs": [
    {
     "name": "stdout",
     "output_type": "stream",
     "text": [
      "Abs H1 average length: 7.580824626181685\n",
      "Abs H2 average length: 8.104678293660147\n",
      "Abs H3 average length: 14.682124806871448\n"
     ]
    }
   ],
   "source": [
    "# get average lengths of loops\n",
    "print('Abs H1 average length: ' + str(np.mean(abs_h1['cdrh1_lens'])))\n",
    "print('Abs H2 average length: ' + str(np.mean(abs_h2['cdrh2_lens'])))\n",
    "print('Abs H3 average length: ' + str(np.mean(abs_h3['cdrh3_lens'])))"
   ]
  },
  {
   "cell_type": "code",
   "execution_count": 8,
   "metadata": {},
   "outputs": [],
   "source": [
    "sdabs_h1 = sdabs_seqs[['cdrh1', 'cdrh1_lens']]\n",
    "sdabs_h2 = sdabs_seqs[['cdrh2', 'cdrh2_lens']]\n",
    "sdabs_h3 = sdabs_seqs[['cdrh3', 'cdrh3_lens']]"
   ]
  },
  {
   "cell_type": "code",
   "execution_count": 46,
   "metadata": {},
   "outputs": [
    {
     "name": "stdout",
     "output_type": "stream",
     "text": [
      "sdAbs H1 average length: 7.9627880492196725\n",
      "sdAbs H2 average length: 7.6430699609649135\n",
      "sdAbs H3 average length: 16.633276225059877\n"
     ]
    }
   ],
   "source": [
    "print('sdAbs H1 average length: ' + str(np.mean(sdabs_h1['cdrh1_lens'])))\n",
    "print('sdAbs H2 average length: ' + str(np.mean(sdabs_h2['cdrh2_lens'])))\n",
    "print('sdAbs H3 average length: ' + str(np.mean(sdabs_h3['cdrh3_lens'])))"
   ]
  },
  {
   "cell_type": "code",
   "execution_count": 64,
   "metadata": {},
   "outputs": [
    {
     "name": "stdout",
     "output_type": "stream",
     "text": [
      "All H1 average length: 7.839458504694391\n",
      "All H2 average length: 7.7921155029898\n",
      "All H3 average length: 16.003282353418655\n"
     ]
    }
   ],
   "source": [
    "print('All H1 average length: ' + str(np.mean(list(sdabs_h1['cdrh1_lens']) + list(abs_h1['cdrh1_lens']))))\n",
    "print('All H2 average length: ' + str(np.mean(list(sdabs_h2['cdrh2_lens']) + list(abs_h2['cdrh2_lens']))))\n",
    "print('All H3 average length: ' + str(np.mean(list(sdabs_h3['cdrh3_lens']) + list(abs_h3['cdrh3_lens']))))"
   ]
  },
  {
   "attachments": {},
   "cell_type": "markdown",
   "metadata": {},
   "source": [
    "### Actual overlaps"
   ]
  },
  {
   "cell_type": "code",
   "execution_count": 9,
   "metadata": {},
   "outputs": [],
   "source": [
    "def get_len_clusters(df, len_col, seq_col):\n",
    "\n",
    "    # cluster loop sequences into groups of matching lengths'''\n",
    "    len_clusters = dict()\n",
    "    for length in set(df[len_col]):\n",
    "        len_clusters[length] = df[seq_col].loc[df[len_col] == length] # extract all seqs of certain length to their own cluster \n",
    "\n",
    "    return len_clusters"
   ]
  },
  {
   "cell_type": "code",
   "execution_count": 10,
   "metadata": {},
   "outputs": [],
   "source": [
    "abs_h1_clusters = get_len_clusters(abs_h1, 'cdrh1_lens', 'cdrh1')"
   ]
  },
  {
   "cell_type": "code",
   "execution_count": 11,
   "metadata": {},
   "outputs": [],
   "source": [
    "sdabs_h1_clusters = get_len_clusters(sdabs_h1, 'cdrh1_lens', 'cdrh1')"
   ]
  },
  {
   "cell_type": "code",
   "execution_count": 12,
   "metadata": {},
   "outputs": [],
   "source": [
    "abs_h2_clusters = get_len_clusters(abs_h2, 'cdrh2_lens', 'cdrh2')\n",
    "sdabs_h2_clusters = get_len_clusters(sdabs_h2, 'cdrh2_lens', 'cdrh2')"
   ]
  },
  {
   "cell_type": "code",
   "execution_count": 13,
   "metadata": {},
   "outputs": [],
   "source": [
    "abs_h3_clusters = get_len_clusters(abs_h3, 'cdrh3_lens', 'cdrh3')\n",
    "sdabs_h3_clusters = get_len_clusters(sdabs_h3, 'cdrh3_lens', 'cdrh3')"
   ]
  },
  {
   "cell_type": "code",
   "execution_count": 37,
   "metadata": {},
   "outputs": [],
   "source": [
    "def find_overlaps(abs_clusters, sdabs_clusters, loop):\n",
    "\n",
    "    # find set of lengths that both ab types have sequences of that length\n",
    "    lengths = list(set(abs_clusters.keys()) & set(sdabs_clusters))\n",
    "\n",
    "    count_overlaps = dict()\n",
    "    overlap_seqs_dict = dict() # store matching sequences\n",
    "    abs_unique_seq_counter = 0\n",
    "    sdabs_unique_seq_counter = 0\n",
    "\n",
    "    for l in lengths: # for each length, make pairwise comparison between sequences in both abs and sdabs sets\n",
    "        abs_seqs = abs_clusters[l]\n",
    "        sdabs_seqs = sdabs_clusters[l]\n",
    "        overlap_seqs = list(set(abs_seqs) & set(sdabs_seqs))\n",
    "        overlap_seqs_dict[l] = overlap_seqs\n",
    "        count_overlaps[l] = len(overlap_seqs)\n",
    "\n",
    "        # keep track of how many unique seqs within ab type there are (redundancy in dataset)\n",
    "        abs_unique_seq_counter += len(set(abs_seqs))\n",
    "        sdabs_unique_seq_counter += len(set(sdabs_seqs))\n",
    "\n",
    "    names = list(count_overlaps.keys())\n",
    "    values = list(count_overlaps.values())\n",
    "\n",
    "    plt.figure(figsize=(10,5))\n",
    "    plt.bar(range(len(count_overlaps)), values, tick_label=names)\n",
    "    plt.xlabel('Sequence length')\n",
    "    plt.ylabel('Number of identical sequences')\n",
    "    plt.title(loop)\n",
    "    plt.show()\n",
    "\n",
    "    print(count_overlaps)\n",
    "    print(str(sum(count_overlaps.values())) + ' sequences match out of ' + str(abs_unique_seq_counter) + ' and ' + str(sdabs_unique_seq_counter) + ' unique Abs and sdAbs sequences')\n",
    "    \n",
    "    return count_overlaps, overlap_seqs_dict"
   ]
  },
  {
   "cell_type": "code",
   "execution_count": 38,
   "metadata": {},
   "outputs": [
    {
     "data": {
      "image/png": "[encoded data removed]",
      "text/plain": [
       "<Figure size 720x360 with 1 Axes>"
      ]
     },
     "metadata": {
      "needs_background": "light"
     },
     "output_type": "display_data"
    },
    {
     "name": "stdout",
     "output_type": "stream",
     "text": [
      "{0: 1, 1: 12, 2: 29, 3: 18, 4: 67, 5: 24, 6: 12, 7: 17, 8: 8359, 9: 8, 10: 3, 11: 0, 12: 0, 13: 0, 14: 0, 15: 0, 16: 0, 17: 0, 18: 0, 20: 0, 21: 0}\n",
      "8550 sequences match out of 123491 and 237743 unique Abs and sdAbs sequences\n"
     ]
    }
   ],
   "source": [
    "h1_overlap_seqs, h1_overlap_seqs_dict = find_overlaps(abs_h1_clusters, sdabs_h1_clusters, 'CDRH1')"
   ]
  },
  {
   "attachments": {},
   "cell_type": "markdown",
   "metadata": {},
   "source": [
    "Check overlapping sequences are actually the same - most for H1 of length 8"
   ]
  },
  {
   "cell_type": "code",
   "execution_count": 39,
   "metadata": {},
   "outputs": [
    {
     "name": "stdout",
     "output_type": "stream",
     "text": [
      "check abs\n",
      "{'27 ': 'G', '28 ': 'F', '29 ': 'S', '30 ': 'F', '35 ': 'G', '36 ': 'G', '37 ': 'Y', '38 ': 'W'}\n",
      "{'27 ': 'G', '28 ': 'F', '29 ': 'S', '30 ': 'F', '35 ': 'G', '36 ': 'G', '37 ': 'Y', '38 ': 'W'}\n",
      "found\n",
      "{'27 ': 'G', '28 ': 'F', '29 ': 'S', '30 ': 'F', '35 ': 'G', '36 ': 'G', '37 ': 'Y', '38 ': 'W'}\n",
      "{'27 ': 'G', '28 ': 'F', '29 ': 'S', '30 ': 'F', '35 ': 'G', '36 ': 'G', '37 ': 'Y', '38 ': 'W'}\n",
      "found\n",
      "{'27 ': 'G', '28 ': 'F', '29 ': 'S', '30 ': 'F', '35 ': 'G', '36 ': 'G', '37 ': 'Y', '38 ': 'W'}\n",
      "{'27 ': 'G', '28 ': 'F', '29 ': 'S', '30 ': 'F', '35 ': 'G', '36 ': 'G', '37 ': 'Y', '38 ': 'W'}\n",
      "found\n",
      "{'27 ': 'G', '28 ': 'F', '29 ': 'S', '30 ': 'F', '35 ': 'G', '36 ': 'G', '37 ': 'Y', '38 ': 'W'}\n",
      "{'27 ': 'G', '28 ': 'F', '29 ': 'S', '30 ': 'F', '35 ': 'G', '36 ': 'G', '37 ': 'Y', '38 ': 'W'}\n",
      "found\n",
      "check sdabs\n",
      "{'27 ': 'G', '28 ': 'F', '29 ': 'S', '30 ': 'F', '35 ': 'G', '36 ': 'G', '37 ': 'Y', '38 ': 'W'}\n",
      "{'27 ': 'G', '28 ': 'F', '29 ': 'S', '30 ': 'F', '35 ': 'G', '36 ': 'G', '37 ': 'Y', '38 ': 'W'}\n",
      "found\n",
      "{'27 ': 'G', '28 ': 'F', '29 ': 'S', '30 ': 'F', '35 ': 'G', '36 ': 'G', '37 ': 'Y', '38 ': 'W'}\n",
      "{'27 ': 'G', '28 ': 'F', '29 ': 'S', '30 ': 'F', '35 ': 'G', '36 ': 'G', '37 ': 'Y', '38 ': 'W'}\n",
      "found\n"
     ]
    }
   ],
   "source": [
    "check_seq = h1_overlap_seqs_dict[8][0] # just pull out one sequence of length 8 \n",
    "\n",
    "# check if in both abs_seqs and sdabs_seqs\n",
    "print('check abs')\n",
    "for seq in abs_h1_clusters[8]:\n",
    "    if seq == check_seq:\n",
    "        print(seq)\n",
    "        print(check_seq)\n",
    "        print('found')\n",
    "\n",
    "print('check sdabs')\n",
    "for seq in sdabs_h1_clusters[8]:\n",
    "    if seq == check_seq:\n",
    "        print(seq)\n",
    "        print(check_seq)\n",
    "        print('found')"
   ]
  },
  {
   "cell_type": "code",
   "execution_count": 40,
   "metadata": {},
   "outputs": [
    {
     "data": {
      "image/png": "[encoded data removed]",
      "text/plain": [
       "<Figure size 720x360 with 1 Axes>"
      ]
     },
     "metadata": {
      "needs_background": "light"
     },
     "output_type": "display_data"
    },
    {
     "name": "stdout",
     "output_type": "stream",
     "text": [
      "{0: 1, 1: 14, 2: 22, 3: 37, 4: 58, 5: 52, 6: 94, 7: 1753, 8: 5052, 9: 19, 10: 0, 11: 0, 12: 0, 13: 0, 14: 0, 15: 0, 16: 0, 17: 0, 18: 0, 19: 0, 20: 0}\n",
      "7102 sequences match out of 113526 and 218222 unique Abs and sdAbs sequences\n"
     ]
    }
   ],
   "source": [
    "h2_overlap_seqs, h2_overlap_seqs_dict = find_overlaps(abs_h2_clusters, sdabs_h2_clusters, 'CDRH2')"
   ]
  },
  {
   "cell_type": "code",
   "execution_count": 41,
   "metadata": {},
   "outputs": [
    {
     "data": {
      "image/png": "[encoded data removed]",
      "text/plain": [
       "<Figure size 720x360 with 1 Axes>"
      ]
     },
     "metadata": {
      "needs_background": "light"
     },
     "output_type": "display_data"
    },
    {
     "name": "stdout",
     "output_type": "stream",
     "text": [
      "{0: 1, 1: 2, 2: 17, 3: 39, 4: 63, 5: 83, 6: 30, 7: 12, 8: 5, 9: 1, 10: 0, 11: 0, 12: 0, 13: 0, 14: 0, 15: 0, 16: 0, 17: 0, 18: 0, 19: 0, 20: 0, 21: 0, 22: 0, 23: 0, 24: 0, 25: 0, 26: 0, 27: 0, 28: 0, 29: 0, 30: 0, 31: 0, 32: 0, 33: 0, 34: 0, 35: 0, 36: 0, 38: 0, 41: 0}\n",
      "253 sequences match out of 372944 and 469579 unique Abs and sdAbs sequences\n"
     ]
    }
   ],
   "source": [
    "h3_overlap_seqs, h3_overlap_seqs_dict = find_overlaps(abs_h3_clusters, sdabs_h3_clusters, 'CDRH3')"
   ]
  },
  {
   "attachments": {},
   "cell_type": "markdown",
   "metadata": {},
   "source": [
    "### Expected overlap "
   ]
  },
  {
   "attachments": {},
   "cell_type": "markdown",
   "metadata": {},
   "source": [
    "Use average loop lengths and sets of unique sequences to find probability of getting same sequence in both Abs and sdAbs"
   ]
  },
  {
   "attachments": {},
   "cell_type": "markdown",
   "metadata": {},
   "source": [
    "If taking a sequence from each set, formula for probability of those sequences being the same is 1/20^n (where n is the sequence length)"
   ]
  },
  {
   "attachments": {},
   "cell_type": "markdown",
   "metadata": {},
   "source": [
    "Therefore expected number of sequences that are the same is that probability multiplied by number of combinations (which is size of group A x size of group B)"
   ]
  },
  {
   "cell_type": "code",
   "execution_count": 71,
   "metadata": {},
   "outputs": [],
   "source": [
    "def get_expected(num_abs_unique, num_sdabs_unique, avg_seq_length):\n",
    "\n",
    "    expected = 1 / (20**avg_seq_length) #(num_abs_unique * num_sdabs_unique)\n",
    "    print('Probability of choosing a sequence from each group and them being identical is: ', str(expected))\n",
    "    combinations = num_abs_unique * num_sdabs_unique\n",
    "    print('Therefore expected number of identical sequences you would find is ' + str(combinations * expected))\n",
    "    return"
   ]
  },
  {
   "attachments": {},
   "cell_type": "markdown",
   "metadata": {},
   "source": [
    "Abs results:"
   ]
  },
  {
   "cell_type": "code",
   "execution_count": 72,
   "metadata": {},
   "outputs": [
    {
     "name": "stdout",
     "output_type": "stream",
     "text": [
      "Probability of choosing a sequence from each group and them being identical is:  6.30848150278314e-11\n",
      "Therefore expected number of identical sequences you would find is 1.8521147058678598\n",
      "Probability of choosing a sequence from each group and them being identical is:  7.327846000599054e-11\n",
      "Therefore expected number of identical sequences you would find is 1.81539109855958\n",
      "Probability of choosing a sequence from each group and them being identical is:  1.52587890625e-21\n",
      "Therefore expected number of identical sequences you would find is 2.6722209255371096e-10\n"
     ]
    }
   ],
   "source": [
    "# h1\n",
    "get_expected(123491, 237743, 7.84)\n",
    "# h2\n",
    "get_expected(113526, 218222, 7.79)\n",
    "# h3\n",
    "get_expected(372944, 469579, 16.0)"
   ]
  },
  {
   "cell_type": "code",
   "execution_count": null,
   "metadata": {},
   "outputs": [],
   "source": []
  }
 ],
 "metadata": {
  "kernelspec": {
   "display_name": "base",
   "language": "python",
   "name": "python3"
  },
  "language_info": {
   "codemirror_mode": {
    "name": "ipython",
    "version": 3
   },
   "file_extension": ".py",
   "mimetype": "text/x-python",
   "name": "python",
   "nbconvert_exporter": "python",
   "pygments_lexer": "ipython3",
   "version": "3.8.8"
  },
  "orig_nbformat": 4,
  "vscode": {
   "interpreter": {
    "hash": "6583c3f449b2025ea649b72d4a52efb1871eb538dba3514b6dae43f01b685c61"
   }
  }
 },
 "nbformat": 4,
 "nbformat_minor": 2
}
