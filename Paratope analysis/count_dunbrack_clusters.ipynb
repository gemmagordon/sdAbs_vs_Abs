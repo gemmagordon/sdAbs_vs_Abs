{
 "cells": [
  {
   "cell_type": "code",
   "execution_count": null,
   "metadata": {},
   "outputs": [],
   "source": [
    "#@Author: Gemma Gordon\n",
    "#@Date: 2022\n",
    "# Structural clustering using Dunbrack canonical forms (pyIgClassify2 https://www.biorxiv.org/content/10.1101/2022.10.12.511988v1)"
   ]
  },
  {
   "cell_type": "markdown",
   "metadata": {},
   "source": [
    "Structural clustering output gives, for all of H1 H2 and H3 for both Abs and Nbs, the PDB structure and their cluster (a representative PDB structure). This representative structure will be matched with a canonical form. We want to know how structurally different Abs and Nbs loops are/whether they occupy different structural space. Some clusters contain both Abs and Nbs structures. To find if this is significant, we can randomly sample the clusters and find the number/proportion of structures that fall into these 'overlap' clusters by chance. We will use this as a baseline with which to compare the actual number of structures that fall into overlap clusters. "
   ]
  },
  {
   "cell_type": "code",
   "execution_count": 1,
   "metadata": {},
   "outputs": [],
   "source": [
    "import pandas as pd\n",
    "import numpy as np"
   ]
  },
  {
   "cell_type": "markdown",
   "metadata": {},
   "source": [
    "Load in structural clustering results as dataframe"
   ]
  },
  {
   "cell_type": "code",
   "execution_count": 2,
   "metadata": {},
   "outputs": [],
   "source": [
    "results = pd.read_csv(\"dunbrack_clustering_results.csv\").drop('Unnamed: 0', axis=1)"
   ]
  },
  {
   "cell_type": "code",
   "execution_count": 3,
   "metadata": {},
   "outputs": [
    {
     "data": {
      "text/html": [
       "<div>\n",
       "<style scoped>\n",
       "    .dataframe tbody tr th:only-of-type {\n",
       "        vertical-align: middle;\n",
       "    }\n",
       "\n",
       "    .dataframe tbody tr th {\n",
       "        vertical-align: top;\n",
       "    }\n",
       "\n",
       "    .dataframe thead th {\n",
       "        text-align: right;\n",
       "    }\n",
       "</style>\n",
       "<table border=\"1\" class=\"dataframe\">\n",
       "  <thead>\n",
       "    <tr style=\"text-align: right;\">\n",
       "      <th></th>\n",
       "      <th>pdb</th>\n",
       "      <th>cdr1_cluster</th>\n",
       "      <th>cdr2_cluster</th>\n",
       "      <th>cdr3_cluster</th>\n",
       "      <th>cdr4_cluster</th>\n",
       "      <th>Ig_ID</th>\n",
       "    </tr>\n",
       "  </thead>\n",
       "  <tbody>\n",
       "    <tr>\n",
       "      <th>0</th>\n",
       "      <td>1AHW</td>\n",
       "      <td>H1-13-1</td>\n",
       "      <td>H2-10-*</td>\n",
       "      <td>H3-10-*</td>\n",
       "      <td>H4-8-1</td>\n",
       "      <td>Abs</td>\n",
       "    </tr>\n",
       "    <tr>\n",
       "      <th>1</th>\n",
       "      <td>1AR1</td>\n",
       "      <td>H1-13-1</td>\n",
       "      <td>H2-10-2</td>\n",
       "      <td>H3-11-*</td>\n",
       "      <td>H4-8-1</td>\n",
       "      <td>Abs</td>\n",
       "    </tr>\n",
       "    <tr>\n",
       "      <th>2</th>\n",
       "      <td>1BGX</td>\n",
       "      <td>H1-14-*</td>\n",
       "      <td>H2-9-*</td>\n",
       "      <td>H3-12-*</td>\n",
       "      <td>H4-8-1</td>\n",
       "      <td>Abs</td>\n",
       "    </tr>\n",
       "    <tr>\n",
       "      <th>3</th>\n",
       "      <td>1BJ1</td>\n",
       "      <td>H1-13-1</td>\n",
       "      <td>H2-10-1</td>\n",
       "      <td>H3-16-*</td>\n",
       "      <td>H4-8-1</td>\n",
       "      <td>Abs</td>\n",
       "    </tr>\n",
       "    <tr>\n",
       "      <th>4</th>\n",
       "      <td>1CZ8</td>\n",
       "      <td>H1-13-1</td>\n",
       "      <td>H2-10-1</td>\n",
       "      <td>H3-16-*</td>\n",
       "      <td>H4-8-1</td>\n",
       "      <td>Abs</td>\n",
       "    </tr>\n",
       "    <tr>\n",
       "      <th>...</th>\n",
       "      <td>...</td>\n",
       "      <td>...</td>\n",
       "      <td>...</td>\n",
       "      <td>...</td>\n",
       "      <td>...</td>\n",
       "      <td>...</td>\n",
       "    </tr>\n",
       "    <tr>\n",
       "      <th>1132</th>\n",
       "      <td>3RVW</td>\n",
       "      <td>H1-14-1</td>\n",
       "      <td>H2-9-1</td>\n",
       "      <td>NaN</td>\n",
       "      <td>NaN</td>\n",
       "      <td>Abs</td>\n",
       "    </tr>\n",
       "    <tr>\n",
       "      <th>1133</th>\n",
       "      <td>6CSY</td>\n",
       "      <td>H1-13-1</td>\n",
       "      <td>H2-9-1</td>\n",
       "      <td>H3-10-2</td>\n",
       "      <td>NaN</td>\n",
       "      <td>Nbs</td>\n",
       "    </tr>\n",
       "    <tr>\n",
       "      <th>1134</th>\n",
       "      <td>5USI</td>\n",
       "      <td>H1-13-1</td>\n",
       "      <td>H2-10-1</td>\n",
       "      <td>H3-10-1</td>\n",
       "      <td>NaN</td>\n",
       "      <td>Abs</td>\n",
       "    </tr>\n",
       "    <tr>\n",
       "      <th>1135</th>\n",
       "      <td>6ERX</td>\n",
       "      <td>H1-13-1</td>\n",
       "      <td>H2-10-1</td>\n",
       "      <td>NaN</td>\n",
       "      <td>NaN</td>\n",
       "      <td>Abs</td>\n",
       "    </tr>\n",
       "    <tr>\n",
       "      <th>1136</th>\n",
       "      <td>3L5Y</td>\n",
       "      <td>H1-15-1</td>\n",
       "      <td>H2-9-1</td>\n",
       "      <td>H3-13-2</td>\n",
       "      <td>NaN</td>\n",
       "      <td>Abs</td>\n",
       "    </tr>\n",
       "  </tbody>\n",
       "</table>\n",
       "<p>1137 rows × 6 columns</p>\n",
       "</div>"
      ],
      "text/plain": [
       "       pdb cdr1_cluster cdr2_cluster cdr3_cluster cdr4_cluster Ig_ID\n",
       "0     1AHW      H1-13-1      H2-10-*      H3-10-*       H4-8-1   Abs\n",
       "1     1AR1      H1-13-1      H2-10-2      H3-11-*       H4-8-1   Abs\n",
       "2     1BGX      H1-14-*       H2-9-*      H3-12-*       H4-8-1   Abs\n",
       "3     1BJ1      H1-13-1      H2-10-1      H3-16-*       H4-8-1   Abs\n",
       "4     1CZ8      H1-13-1      H2-10-1      H3-16-*       H4-8-1   Abs\n",
       "...    ...          ...          ...          ...          ...   ...\n",
       "1132  3RVW      H1-14-1       H2-9-1          NaN          NaN   Abs\n",
       "1133  6CSY      H1-13-1       H2-9-1      H3-10-2          NaN   Nbs\n",
       "1134  5USI      H1-13-1      H2-10-1      H3-10-1          NaN   Abs\n",
       "1135  6ERX      H1-13-1      H2-10-1          NaN          NaN   Abs\n",
       "1136  3L5Y      H1-15-1       H2-9-1      H3-13-2          NaN   Abs\n",
       "\n",
       "[1137 rows x 6 columns]"
      ]
     },
     "execution_count": 3,
     "metadata": {},
     "output_type": "execute_result"
    }
   ],
   "source": [
    "results"
   ]
  },
  {
   "cell_type": "markdown",
   "metadata": {},
   "source": [
    "Separate into H1, H2 and H3 results"
   ]
  },
  {
   "cell_type": "code",
   "execution_count": 23,
   "metadata": {},
   "outputs": [],
   "source": [
    "results_h1 = results[['pdb', 'cdr1_cluster', 'Ig_ID']]\n",
    "results_h2 = results[['pdb', 'cdr2_cluster', 'Ig_ID']]\n",
    "results_h3 = results[['pdb', 'cdr3_cluster', 'Ig_ID']]"
   ]
  },
  {
   "cell_type": "code",
   "execution_count": 24,
   "metadata": {},
   "outputs": [
    {
     "data": {
      "text/plain": [
       "Index(['pdb', 'cdr1_cluster', 'Ig_ID'], dtype='object')"
      ]
     },
     "execution_count": 24,
     "metadata": {},
     "output_type": "execute_result"
    }
   ],
   "source": [
    "results_h1.columns"
   ]
  },
  {
   "cell_type": "code",
   "execution_count": 25,
   "metadata": {},
   "outputs": [],
   "source": [
    "results_h1.to_csv('results_h1')\n",
    "results_h2.to_csv('results_h2')\n",
    "results_h3.to_csv('results_h3')"
   ]
  },
  {
   "cell_type": "markdown",
   "metadata": {},
   "source": [
    "For the results for each loop, need to:\n",
    "\n",
    "- identify which clusters have Nbs and Abs members in them\n",
    "- find how many overlap clusters\n",
    "- find how many & what proportion of structures belong to overlap clusters"
   ]
  },
  {
   "cell_type": "code",
   "execution_count": 26,
   "metadata": {},
   "outputs": [],
   "source": [
    "def get_freqs(results_df, col_name):\n",
    "\n",
    "    # get breakdown of abs vs nbs within clusters\n",
    "    freq_df = results_df.groupby([col_name, 'Ig_ID']).size().reset_index()\n",
    "    freq_df = freq_df.pivot(index=col_name, columns='Ig_ID')[0].fillna(0).sort_values(by='Abs', ascending=False)\n",
    "\n",
    "    return freq_df"
   ]
  },
  {
   "cell_type": "code",
   "execution_count": 27,
   "metadata": {},
   "outputs": [],
   "source": [
    "def find_overlap_clusters(results_df, col_name):\n",
    "\n",
    "    # input results for a loop and get frequencies of Abs and Nbs\n",
    "    freq_df = get_freqs(results_df, col_name)\n",
    "    # identify overlap clusters \n",
    "    overlaps_id = []\n",
    "    overlaps_abs, overlaps_nbs = 0, 0 \n",
    "\n",
    "    for row in freq_df.itertuples():\n",
    "        # if there are members from Abs and Nbs in the cluster\n",
    "        # row[1] is Abs and row[2] is Nbs\n",
    "        if row[1] != 0 and row[2] != 0:\n",
    "            # row[0] is PDB ID\n",
    "            overlaps_id.append(row[0])\n",
    "            # how many structures in overlapping cluster?\n",
    "            overlaps_abs += int(row[1])\n",
    "            overlaps_nbs += int(row[2])\n",
    "    \n",
    "    # get proportion of total structures that are in overlap clusters\n",
    "    # NOTE want proportion (1) just abs (2) just nbs (3) abs and nbs \n",
    "    overlaps_props = dict()\n",
    "    overlaps_props['Abs'] = overlaps_abs / len(results_df)\n",
    "    overlaps_props['Nbs'] = overlaps_nbs / len(results_df)\n",
    "    overlaps_props['Both'] = (overlaps_abs + overlaps_nbs) / len(results_df)\n",
    "\n",
    "    return overlaps_id, overlaps_props"
   ]
  },
  {
   "cell_type": "code",
   "execution_count": 28,
   "metadata": {},
   "outputs": [],
   "source": [
    "overlaps_id_h1, overlaps_prop_h1 = find_overlap_clusters(results_h1, 'cdr1_cluster')\n",
    "overlaps_id_h2, overlaps_prop_h2 = find_overlap_clusters(results_h2, 'cdr2_cluster')\n",
    "overlaps_id_h3, overlaps_prop_h3 = find_overlap_clusters(results_h3, 'cdr3_cluster')"
   ]
  },
  {
   "cell_type": "code",
   "execution_count": 29,
   "metadata": {},
   "outputs": [
    {
     "name": "stdout",
     "output_type": "stream",
     "text": [
      "H1 PROPORTION OF STRUCTURES IN OVERLAP: {'Abs': 0.6948109058927001, 'Nbs': 0.23131046613896217, 'Both': 0.9261213720316622}\n",
      "H2 PROPORTION OF STRUCTURES IN OVERLAP: {'Abs': 0.7326297273526825, 'Nbs': 0.2620932277924362, 'Both': 0.9947229551451188}\n",
      "H3 PROPORTION OF STRUCTURES IN OVERLAP: {'Abs': 0.6701846965699209, 'Nbs': 0.2620932277924362, 'Both': 0.9322779243623571}\n"
     ]
    }
   ],
   "source": [
    "print('H1 PROPORTION OF STRUCTURES IN OVERLAP:', overlaps_prop_h1)\n",
    "print('H2 PROPORTION OF STRUCTURES IN OVERLAP:', overlaps_prop_h2)\n",
    "print('H3 PROPORTION OF STRUCTURES IN OVERLAP:', overlaps_prop_h3)"
   ]
  },
  {
   "cell_type": "code",
   "execution_count": 30,
   "metadata": {},
   "outputs": [],
   "source": [
    "all_h1_freqs, all_h2_freqs, all_h3_freqs = get_freqs(results_h1, 'cdr1_cluster'), get_freqs(results_h2, 'cdr2_cluster'), get_freqs(results_h3, 'cdr3_cluster')"
   ]
  },
  {
   "cell_type": "code",
   "execution_count": 31,
   "metadata": {},
   "outputs": [
    {
     "name": "stdout",
     "output_type": "stream",
     "text": [
      "0\n",
      "Total: 21\n",
      "Only Abs: 6\n",
      "Only Nbs: 6\n",
      "Overlap: 9\n",
      "Abs singletons: 2\n",
      "Nbs singletons: 4\n",
      "1\n",
      "Total: 15\n",
      "Only Abs: 2\n",
      "Only Nbs: 1\n",
      "Overlap: 12\n",
      "Abs singletons: 1\n",
      "Nbs singletons: 1\n",
      "2\n",
      "Total: 35\n",
      "Only Abs: 7\n",
      "Only Nbs: 0\n",
      "Overlap: 28\n",
      "Abs singletons: 0\n",
      "Nbs singletons: 0\n"
     ]
    }
   ],
   "source": [
    "for i, loop in enumerate([all_h1_freqs, all_h2_freqs, all_h3_freqs]):\n",
    "\n",
    "    print(i)\n",
    "\n",
    "    #how many Abs and Nbs clusters overlap, how many clusters contain only Abs or Nbs?\n",
    "    print('Total:', len(loop))\n",
    "    print('Only Abs:', len(loop.loc[(loop[\"Abs\"] != 0) & (loop[\"Nbs\"] == 0)]))\n",
    "    print('Only Nbs:', len(loop.loc[(loop[\"Abs\"] == 0) & (loop[\"Nbs\"] != 0)]))\n",
    "    print('Overlap:', len(loop.loc[(loop[\"Abs\"] != 0) & (loop[\"Nbs\"] != 0)]))\n",
    "    #how many clusters are singletons?\n",
    "    print('Abs singletons:', len(loop.loc[(loop[\"Abs\"] == 1) & (loop[\"Nbs\"] == 0)]))\n",
    "    print('Nbs singletons:', len(loop.loc[(loop[\"Nbs\"] == 1) & (loop[\"Abs\"] == 0)]))"
   ]
  },
  {
   "cell_type": "markdown",
   "metadata": {},
   "source": [
    "Generate sets of random clusters that match sizes of original clusters and see how many by chance overlap in Abs and Nbs members"
   ]
  },
  {
   "cell_type": "code",
   "execution_count": 32,
   "metadata": {},
   "outputs": [],
   "source": [
    "import pandas as pd\n",
    "from tqdm import tqdm\n",
    "\n",
    "def get_cluster_sizes(cluster_file, col_name):\n",
    "    '''Returns array with sizes of multiple occupancy clusters'''\n",
    "    df = pd.read_csv(cluster_file, index_col=0)\n",
    "    cluster_size = df.groupby(col_name).nunique()['pdb'].sort_values(ascending=False)\n",
    "    return cluster_size[cluster_size > 1].values\n",
    "\n",
    "def sample_clusters_from_db(db, cluster_sizes):\n",
    "    new_db = pd.DataFrame()\n",
    "\n",
    "    for i, cluster_size in enumerate(cluster_sizes):\n",
    "        cluster = db.sample(n=cluster_size, replace=False)\n",
    "        cluster['cluster'] = str(i)\n",
    "        new_db = pd.concat([new_db, cluster])\n",
    "        db = db.drop(cluster.index)\n",
    "    return new_db\n",
    "\n",
    "def generate_random_clusters(cluster_size, n_replicates, db):\n",
    "    '''Returns list of dataframes with Abs randomly assigned to clusters'''\n",
    "    random_clusters = []\n",
    "\n",
    "    db['cluster'] = 'None'\n",
    "\n",
    "    for i in tqdm(range(n_replicates)):\n",
    "        random_clusters.append(sample_clusters_from_db(db, cluster_size))\n",
    "\n",
    "    return random_clusters"
   ]
  },
  {
   "cell_type": "markdown",
   "metadata": {},
   "source": [
    "creates list of cluster sizes "
   ]
  },
  {
   "cell_type": "code",
   "execution_count": 33,
   "metadata": {},
   "outputs": [],
   "source": [
    "cluster_sizes_h1 = get_cluster_sizes('pyigclassify2/results_h1', 'cdr1_cluster')\n",
    "cluster_sizes_h2 = get_cluster_sizes('pyigclassify2/results_h2', 'cdr2_cluster')\n",
    "cluster_sizes_h3 = get_cluster_sizes('pyigclassify2/results_h3', 'cdr3_cluster')"
   ]
  },
  {
   "cell_type": "code",
   "execution_count": 34,
   "metadata": {},
   "outputs": [
    {
     "data": {
      "text/plain": [
       "array([687, 280,  26,  25,  20,  19,  16,  13,  13,  11,   6,   6,   3,\n",
       "         3,   3])"
      ]
     },
     "execution_count": 34,
     "metadata": {},
     "output_type": "execute_result"
    }
   ],
   "source": [
    "cluster_sizes_h1"
   ]
  },
  {
   "cell_type": "markdown",
   "metadata": {},
   "source": [
    "generates 20 sets of random clusters of same sizes as original cluster sizes, returns list of dfs"
   ]
  },
  {
   "cell_type": "code",
   "execution_count": 35,
   "metadata": {},
   "outputs": [
    {
     "name": "stderr",
     "output_type": "stream",
     "text": [
      "<ipython-input-32-18ace9e4be0d>:24: SettingWithCopyWarning: \n",
      "A value is trying to be set on a copy of a slice from a DataFrame.\n",
      "Try using .loc[row_indexer,col_indexer] = value instead\n",
      "\n",
      "See the caveats in the documentation: https://pandas.pydata.org/pandas-docs/stable/user_guide/indexing.html#returning-a-view-versus-a-copy\n",
      "  db['cluster'] = 'None'\n",
      "100%|██████████| 20/20 [00:00<00:00, 25.85it/s]\n",
      "100%|██████████| 20/20 [00:00<00:00, 47.63it/s]\n",
      "100%|██████████| 20/20 [00:00<00:00, 30.76it/s]\n"
     ]
    }
   ],
   "source": [
    "random_clusters_h1 = generate_random_clusters(cluster_sizes_h1, 20, results_h1)\n",
    "random_clusters_h2 = generate_random_clusters(cluster_sizes_h2, 20, results_h2)\n",
    "random_clusters_h3 = generate_random_clusters(cluster_sizes_h3, 20, results_h3)"
   ]
  },
  {
   "cell_type": "code",
   "execution_count": 36,
   "metadata": {},
   "outputs": [
    {
     "data": {
      "text/plain": [
       "20"
      ]
     },
     "execution_count": 36,
     "metadata": {},
     "output_type": "execute_result"
    }
   ],
   "source": [
    "len(random_clusters_h1)"
   ]
  },
  {
   "cell_type": "markdown",
   "metadata": {},
   "source": [
    "For each DF in results, find how many overlap and which overlap to find proportions"
   ]
  },
  {
   "cell_type": "markdown",
   "metadata": {},
   "source": [
    "for each df, get list of overlap clusters"
   ]
  },
  {
   "cell_type": "code",
   "execution_count": 40,
   "metadata": {},
   "outputs": [],
   "source": [
    "def get_overlap_ids_list(random_clusters, col_name):\n",
    "\n",
    "    overlap_ids = []\n",
    "    for rc in random_clusters:\n",
    "        overlap_id_df, _ = find_overlap_clusters(rc, col_name)\n",
    "        overlap_ids.append(overlap_id_df)\n",
    "\n",
    "    return overlap_ids"
   ]
  },
  {
   "cell_type": "code",
   "execution_count": 41,
   "metadata": {},
   "outputs": [],
   "source": [
    "random_overlap_ids_h1 = get_overlap_ids_list(random_clusters_h1, 'cdr1_cluster')\n",
    "random_overlap_ids_h2 = get_overlap_ids_list(random_clusters_h2, 'cdr2_cluster')\n",
    "random_overlap_ids_h3 = get_overlap_ids_list(random_clusters_h3, 'cdr3_cluster')"
   ]
  },
  {
   "cell_type": "code",
   "execution_count": 42,
   "metadata": {},
   "outputs": [
    {
     "data": {
      "text/plain": [
       "20"
      ]
     },
     "execution_count": 42,
     "metadata": {},
     "output_type": "execute_result"
    }
   ],
   "source": [
    "len(random_overlap_ids_h1)"
   ]
  },
  {
   "cell_type": "markdown",
   "metadata": {},
   "source": [
    "Label PDB structures in results as whether overlap or non-overlap cluster"
   ]
  },
  {
   "cell_type": "code",
   "execution_count": 43,
   "metadata": {},
   "outputs": [],
   "source": [
    "def add_overlap_label(results_df, overlap_ids):\n",
    "    \n",
    "    output_df = results_df.copy(deep=True)\n",
    "    overlap_labels = []\n",
    "    for row in output_df.itertuples():\n",
    "        # if cluster_by_RMSD column (representative structure for cluster) is in the overlap list:\n",
    "        if row[2] in overlap_ids:\n",
    "            overlap_labels.append('Overlap')\n",
    "        else:\n",
    "            overlap_labels.append('Non-overlap')\n",
    "            \n",
    "    # create new column in results df\n",
    "    output_df['Overlap_label'] = overlap_labels\n",
    "\n",
    "    return output_df"
   ]
  },
  {
   "cell_type": "code",
   "execution_count": 44,
   "metadata": {},
   "outputs": [],
   "source": [
    "def find_overlaps(random_clusters, overlap_ids):\n",
    "\n",
    "    overlap_dfs = []\n",
    "    for rc, ids in zip(random_clusters, overlap_ids):\n",
    "        overlap_df = add_overlap_label(rc, ids)\n",
    "        overlap_dfs.append(overlap_df)\n",
    "\n",
    "    return overlap_dfs"
   ]
  },
  {
   "cell_type": "code",
   "execution_count": 45,
   "metadata": {},
   "outputs": [],
   "source": [
    "random_clusters_h1_l = find_overlaps(random_clusters_h1, random_overlap_ids_h1)\n",
    "random_clusters_h2_l = find_overlaps(random_clusters_h2, random_overlap_ids_h2)\n",
    "random_clusters_h3_l = find_overlaps(random_clusters_h3, random_overlap_ids_h3)"
   ]
  },
  {
   "cell_type": "code",
   "execution_count": 46,
   "metadata": {},
   "outputs": [
    {
     "data": {
      "text/plain": [
       "20"
      ]
     },
     "execution_count": 46,
     "metadata": {},
     "output_type": "execute_result"
    }
   ],
   "source": [
    "len(random_clusters_h1_l)"
   ]
  },
  {
   "cell_type": "markdown",
   "metadata": {},
   "source": [
    "Count how many clusters are overlap clusters in the random clusters & find the mean and stdev"
   ]
  },
  {
   "cell_type": "markdown",
   "metadata": {},
   "source": [
    "for each labelled df, get freq df"
   ]
  },
  {
   "cell_type": "code",
   "execution_count": 47,
   "metadata": {},
   "outputs": [
    {
     "data": {
      "text/html": [
       "<div>\n",
       "<style scoped>\n",
       "    .dataframe tbody tr th:only-of-type {\n",
       "        vertical-align: middle;\n",
       "    }\n",
       "\n",
       "    .dataframe tbody tr th {\n",
       "        vertical-align: top;\n",
       "    }\n",
       "\n",
       "    .dataframe thead th {\n",
       "        text-align: right;\n",
       "    }\n",
       "</style>\n",
       "<table border=\"1\" class=\"dataframe\">\n",
       "  <thead>\n",
       "    <tr style=\"text-align: right;\">\n",
       "      <th></th>\n",
       "      <th>pdb</th>\n",
       "      <th>cdr1_cluster</th>\n",
       "      <th>Ig_ID</th>\n",
       "      <th>cluster</th>\n",
       "      <th>Overlap_label</th>\n",
       "    </tr>\n",
       "  </thead>\n",
       "  <tbody>\n",
       "    <tr>\n",
       "      <th>65</th>\n",
       "      <td>2DQG</td>\n",
       "      <td>H1-13-1</td>\n",
       "      <td>Abs</td>\n",
       "      <td>0</td>\n",
       "      <td>Overlap</td>\n",
       "    </tr>\n",
       "    <tr>\n",
       "      <th>937</th>\n",
       "      <td>5J57</td>\n",
       "      <td>H1-13-*</td>\n",
       "      <td>Nbs</td>\n",
       "      <td>0</td>\n",
       "      <td>Overlap</td>\n",
       "    </tr>\n",
       "    <tr>\n",
       "      <th>343</th>\n",
       "      <td>5E94</td>\n",
       "      <td>H1-14-*</td>\n",
       "      <td>Abs</td>\n",
       "      <td>0</td>\n",
       "      <td>Overlap</td>\n",
       "    </tr>\n",
       "    <tr>\n",
       "      <th>130</th>\n",
       "      <td>3LZF</td>\n",
       "      <td>H1-15-*</td>\n",
       "      <td>Abs</td>\n",
       "      <td>0</td>\n",
       "      <td>Overlap</td>\n",
       "    </tr>\n",
       "    <tr>\n",
       "      <th>241</th>\n",
       "      <td>4L5F</td>\n",
       "      <td>H1-13-1</td>\n",
       "      <td>Abs</td>\n",
       "      <td>0</td>\n",
       "      <td>Overlap</td>\n",
       "    </tr>\n",
       "    <tr>\n",
       "      <th>...</th>\n",
       "      <td>...</td>\n",
       "      <td>...</td>\n",
       "      <td>...</td>\n",
       "      <td>...</td>\n",
       "      <td>...</td>\n",
       "    </tr>\n",
       "    <tr>\n",
       "      <th>749</th>\n",
       "      <td>7KMI</td>\n",
       "      <td>H1-13-1</td>\n",
       "      <td>Abs</td>\n",
       "      <td>13</td>\n",
       "      <td>Overlap</td>\n",
       "    </tr>\n",
       "    <tr>\n",
       "      <th>681</th>\n",
       "      <td>7BEH</td>\n",
       "      <td>H1-13-1</td>\n",
       "      <td>Abs</td>\n",
       "      <td>13</td>\n",
       "      <td>Overlap</td>\n",
       "    </tr>\n",
       "    <tr>\n",
       "      <th>1123</th>\n",
       "      <td>7OAQ</td>\n",
       "      <td>H1-13-*</td>\n",
       "      <td>Nbs</td>\n",
       "      <td>14</td>\n",
       "      <td>Overlap</td>\n",
       "    </tr>\n",
       "    <tr>\n",
       "      <th>867</th>\n",
       "      <td>4FHB</td>\n",
       "      <td>H1-13-1</td>\n",
       "      <td>Nbs</td>\n",
       "      <td>14</td>\n",
       "      <td>Overlap</td>\n",
       "    </tr>\n",
       "    <tr>\n",
       "      <th>895</th>\n",
       "      <td>4P2C</td>\n",
       "      <td>H1-13-*</td>\n",
       "      <td>Nbs</td>\n",
       "      <td>14</td>\n",
       "      <td>Overlap</td>\n",
       "    </tr>\n",
       "  </tbody>\n",
       "</table>\n",
       "<p>1047 rows × 5 columns</p>\n",
       "</div>"
      ],
      "text/plain": [
       "       pdb cdr1_cluster Ig_ID cluster Overlap_label\n",
       "65    2DQG      H1-13-1   Abs       0       Overlap\n",
       "937   5J57      H1-13-*   Nbs       0       Overlap\n",
       "343   5E94      H1-14-*   Abs       0       Overlap\n",
       "130   3LZF      H1-15-*   Abs       0       Overlap\n",
       "241   4L5F      H1-13-1   Abs       0       Overlap\n",
       "...    ...          ...   ...     ...           ...\n",
       "749   7KMI      H1-13-1   Abs      13       Overlap\n",
       "681   7BEH      H1-13-1   Abs      13       Overlap\n",
       "1123  7OAQ      H1-13-*   Nbs      14       Overlap\n",
       "867   4FHB      H1-13-1   Nbs      14       Overlap\n",
       "895   4P2C      H1-13-*   Nbs      14       Overlap\n",
       "\n",
       "[1047 rows x 5 columns]"
      ]
     },
     "execution_count": 47,
     "metadata": {},
     "output_type": "execute_result"
    }
   ],
   "source": [
    "random_clusters_h1_l[0].loc[(random_clusters_h1_l[0]['Overlap_label'] == 'Overlap')]"
   ]
  },
  {
   "cell_type": "markdown",
   "metadata": {},
   "source": [
    "find total number of clusters which are randomly overlap clusters"
   ]
  },
  {
   "cell_type": "code",
   "execution_count": 52,
   "metadata": {},
   "outputs": [],
   "source": [
    "def get_overlap_summary(dfs, col_name):\n",
    "\n",
    "    overlap_counts = []\n",
    "    for df in dfs:\n",
    "        #how many Abs and Nbs clusters overlap?\n",
    "        overlap_df = df[[col_name, 'Overlap_label']].drop_duplicates(subset=col_name, keep='first')\n",
    "        overlap_count = len(overlap_df.loc[(overlap_df['Overlap_label'] == 'Overlap')])\n",
    "        overlap_counts.append(overlap_count)\n",
    "\n",
    "    # get mean and stdev overlap\n",
    "    mean_overlap = np.mean(overlap_counts)\n",
    "    stdev_overlap = np.std(overlap_counts)\n",
    "\n",
    "    summary = {'MEAN': mean_overlap, 'STDEV': stdev_overlap}\n",
    "\n",
    "    return summary"
   ]
  },
  {
   "cell_type": "code",
   "execution_count": 53,
   "metadata": {},
   "outputs": [],
   "source": [
    "h1_summary = get_overlap_summary(random_clusters_h1_l, 'cdr1_cluster')\n",
    "h2_summary = get_overlap_summary(random_clusters_h2_l, 'cdr2_cluster')\n",
    "h3_summary = get_overlap_summary(random_clusters_h3_l, 'cdr3_cluster')"
   ]
  },
  {
   "cell_type": "code",
   "execution_count": 54,
   "metadata": {},
   "outputs": [
    {
     "name": "stdout",
     "output_type": "stream",
     "text": [
      "H1 RANDOM OVERLAP RESULTS: {'MEAN': 9.0, 'STDEV': 0.0}\n",
      "H2 RANDOM OVERLAP RESULTS: {'MEAN': 12.0, 'STDEV': 0.0}\n",
      "H3 RANDOM OVERLAP RESULTS: {'MEAN': 27.95, 'STDEV': 0.21794494717703367}\n"
     ]
    }
   ],
   "source": [
    "print('H1 RANDOM OVERLAP RESULTS:', h1_summary)\n",
    "print('H2 RANDOM OVERLAP RESULTS:', h2_summary)\n",
    "print('H3 RANDOM OVERLAP RESULTS:', h3_summary)"
   ]
  },
  {
   "cell_type": "code",
   "execution_count": null,
   "metadata": {},
   "outputs": [],
   "source": []
  }
 ],
 "metadata": {
  "kernelspec": {
   "display_name": "Python 3.8.8 ('base')",
   "language": "python",
   "name": "python3"
  },
  "language_info": {
   "codemirror_mode": {
    "name": "ipython",
    "version": 3
   },
   "file_extension": ".py",
   "mimetype": "text/x-python",
   "name": "python",
   "nbconvert_exporter": "python",
   "pygments_lexer": "ipython3",
   "version": "3.8.8"
  },
  "orig_nbformat": 4,
  "vscode": {
   "interpreter": {
    "hash": "6583c3f449b2025ea649b72d4a52efb1871eb538dba3514b6dae43f01b685c61"
   }
  }
 },
 "nbformat": 4,
 "nbformat_minor": 2
}
