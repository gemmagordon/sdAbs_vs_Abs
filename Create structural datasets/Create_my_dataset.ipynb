{
 "cells": [
  {
   "cell_type": "code",
   "execution_count": 1,
   "id": "d4ea348d-a229-4d0a-892d-14ea7226a924",
   "metadata": {},
   "outputs": [],
   "source": [
    "##### CREATE single-domain antibody dataset based on SAbDab #####\n",
    "#@author: Henriette Capel\n",
    "#@date: 23 Feb 2022"
   ]
  },
  {
   "cell_type": "code",
   "execution_count": 2,
   "id": "8e698de3-5d49-451e-843f-1a920edc9bb0",
   "metadata": {},
   "outputs": [],
   "source": [
    "#Import modules\n",
    "import numpy as np\n",
    "from collections import defaultdict\n",
    "import csv"
   ]
  },
  {
   "cell_type": "code",
   "execution_count": 3,
   "id": "9b5aea20-2d6e-47c0-ade9-dc03a76f2e5b",
   "metadata": {},
   "outputs": [
    {
     "name": "stderr",
     "output_type": "stream",
     "text": [
      "/data/icarus/capel/miniconda3/envs/minor_internship/lib/python3.10/site-packages/Bio/SubsMat/__init__.py:126: BiopythonDeprecationWarning: Bio.SubsMat has been deprecated, and we intend to remove it in a future release of Biopython. As an alternative, please consider using Bio.Align.substitution_matrices as a replacement, and contact the Biopython developers if you still need the Bio.SubsMat module.\n",
      "  warnings.warn(\n"
     ]
    }
   ],
   "source": [
    "#Import ABDB\n",
    "from ABDB import database as db"
   ]
  },
  {
   "cell_type": "code",
   "execution_count": 4,
   "id": "b8699597-71ec-4982-9327-c9e2aac4d7d4",
   "metadata": {},
   "outputs": [],
   "source": [
    "#Constants\n",
    "TYPE_ANTIGEN = 'protein' \n",
    "TYPE_METHOD = 'X-RAY DIFFRACTION'\n",
    "RESOLUTION_CUTOFF = 3.0"
   ]
  },
  {
   "cell_type": "code",
   "execution_count": 5,
   "id": "dcff4f91-ec47-4e58-bf3a-bcb05bbadfa8",
   "metadata": {},
   "outputs": [],
   "source": [
    "#Functions\n",
    "def get_abtype(p):\n",
    "    #Save types of antibodies. \n",
    "    types = []\n",
    "    for fab in p.get_fabs():\n",
    "        if fab.VL == \"NA\":\n",
    "            types.append(\"VHH\")\n",
    "        elif fab.VH == \"NA\":\n",
    "            types.append(\"VL-only\")\n",
    "        elif fab.VL == fab.VH:\n",
    "            types.append(\"scFv\")\n",
    "        else:\n",
    "            types.append(\"Fv\")        \n",
    "    return types\n",
    "\n",
    "def apply_filters(p, type_antigen, type_method, resolution_cutoff):\n",
    "    if type_antigen in list(set([ag.agtype for ag in p.antigens])):\n",
    "        if p.method == type_method:\n",
    "            if float(p.get_resolution()) <= resolution_cutoff:\n",
    "                return True\n",
    "            \n",
    "def get_general_stats(list_pdbs):\n",
    "    #Function tells how many paired VHVL and total Fvs are present in the dataset \n",
    "    PAIRED_VHVL = 0\n",
    "    TOTAL_FVS = 0\n",
    "\n",
    "    for pdbid in list_pdbs:\n",
    "        p = db.fetch(pdbid)\n",
    "        if p.has_completefab():\n",
    "            PAIRED_VHVL += 1\n",
    "        for fab in p.get_fabs():\n",
    "            TOTAL_FVS += 1\n",
    "\n",
    "    SUMMARY_STATS = {'PDBs'     : len(list_pdbs),\n",
    "                     'vhvl'     : PAIRED_VHVL,\n",
    "                     'fvs'      : TOTAL_FVS}   \n",
    "    \n",
    "    return SUMMARY_STATS\n",
    "\n",
    "def species_stats(list_pdbs):\n",
    "    species = []\n",
    "    species_vhh = set([])\n",
    "    \n",
    "    for pdbid in list_pdbs:\n",
    "        p = db.fetch(pdbid)\n",
    "        species.append(p.get_species())\n",
    "        if p.fabs[0].VL == \"NA\":\n",
    "            species_vhh.add(p.get_species())\n",
    "            \n",
    "    species_names_all, species_counts_all = np.unique(species, return_counts = True)\n",
    "    species_names = []\n",
    "    species_counts = []\n",
    "    other_count = 0\n",
    "    for i in range(len(species_names_all)):\n",
    "        if species_counts_all[i] < 10:\n",
    "            other_count += 1\n",
    "        else:\n",
    "            species_names.append(species_names_all[i])\n",
    "            species_counts.append(species_counts_all[i])\n",
    "    species_names = [x for _,x in sorted(zip(species_counts, species_names), reverse=True)]\n",
    "    species_counts = sorted(species_counts, reverse=True)\n",
    "    species_names.append('OTHER')\n",
    "    species_counts.append(other_count)\n",
    "\n",
    "    SPECIES_DATA = dict(zip(species_names, species_counts))\n",
    "    \n",
    "    return SPECIES_DATA"
   ]
  },
  {
   "cell_type": "code",
   "execution_count": 6,
   "id": "bae4500a-e420-4072-9344-ac7d11374206",
   "metadata": {},
   "outputs": [],
   "source": [
    "#Store selected pdbs in lists\n",
    "selected_pdbs_nb = []\n",
    "selected_pdbs_vlonly = []\n",
    "selected_pdbs_fv = []\n",
    "\n",
    "for pdbid in db:\n",
    "    p = db.fetch(pdbid)\n",
    "    #Note: PDB entry can have multiple types of antibodies\n",
    "    if 'VHH' in get_abtype(p):\n",
    "        if apply_filters(p, TYPE_ANTIGEN, TYPE_METHOD, RESOLUTION_CUTOFF) is True:\n",
    "            selected_pdbs_nb.append(pdbid)\n",
    "    if 'VL-only' in get_abtype(p):\n",
    "        if apply_filters(p, TYPE_ANTIGEN, TYPE_METHOD, RESOLUTION_CUTOFF) is True:\n",
    "            selected_pdbs_vlonly.append(pdbid)\n",
    "    if 'Fv' in get_abtype(p):\n",
    "        if apply_filters(p, TYPE_ANTIGEN, TYPE_METHOD, RESOLUTION_CUTOFF) is True:\n",
    "            selected_pdbs_fv.append(pdbid)"
   ]
  },
  {
   "cell_type": "code",
   "execution_count": 7,
   "id": "b9adaa8b-b31c-41aa-a921-4c72ea6cdefc",
   "metadata": {},
   "outputs": [
    {
     "name": "stdout",
     "output_type": "stream",
     "text": [
      "The number of Nanobodies: 411\n",
      "The number of VL-only antibodies: 12\n",
      "The number of Fv antibodies: 1260\n"
     ]
    }
   ],
   "source": [
    "print(f'The number of Nanobodies: {len(selected_pdbs_nb)}')\n",
    "print(f'The number of VL-only antibodies: {len(selected_pdbs_vlonly)}')\n",
    "print(f'The number of Fv antibodies: {len(selected_pdbs_fv)}')"
   ]
  },
  {
   "cell_type": "code",
   "execution_count": 8,
   "id": "d47842f0-0a6e-42a3-a852-c597cd0d3744",
   "metadata": {},
   "outputs": [
    {
     "name": "stdout",
     "output_type": "stream",
     "text": [
      "Number of entries in both Nb and Fv dataset: 6\n",
      "Number of entries in both Nb and VL-only dataset: 2\n",
      "Number of entries in both VL-only and Fv dataset: 0\n"
     ]
    }
   ],
   "source": [
    "intersection_Nb_Fv = set(selected_pdbs_nb).intersection(selected_pdbs_fv)\n",
    "intersection_Nb_vl = set(selected_pdbs_nb).intersection(selected_pdbs_vlonly)\n",
    "intersection_vl_Fv = set(selected_pdbs_vlonly).intersection(selected_pdbs_fv)\n",
    "print(f'Number of entries in both Nb and Fv dataset: {len(intersection_Nb_Fv)}')\n",
    "print(f'Number of entries in both Nb and VL-only dataset: {len(intersection_Nb_vl)}')\n",
    "print(f'Number of entries in both VL-only and Fv dataset: {len(intersection_vl_Fv)}')"
   ]
  },
  {
   "cell_type": "code",
   "execution_count": 10,
   "id": "f4168e35-8dcf-4283-87fb-80905ea77ade",
   "metadata": {},
   "outputs": [
    {
     "name": "stdout",
     "output_type": "stream",
     "text": [
      "General statistics Nb dataset: {'PDBs': 411, 'vhvl': 6, 'fvs': 799}\n",
      "General statistics VL-only dataset: {'PDBs': 12, 'vhvl': 0, 'fvs': 27}\n",
      "General statistics Fv dataset: {'PDBs': 1260, 'vhvl': 1260, 'fvs': 2060}\n"
     ]
    }
   ],
   "source": [
    "general_nb = get_general_stats(selected_pdbs_nb)\n",
    "general_vl = get_general_stats(selected_pdbs_vlonly)\n",
    "general_fv = get_general_stats(selected_pdbs_fv)\n",
    "print(f'General statistics Nb dataset: {general_nb}')\n",
    "print(f'General statistics VL-only dataset: {general_vl}')\n",
    "print(f'General statistics Fv dataset: {general_fv}')"
   ]
  },
  {
   "cell_type": "code",
   "execution_count": 11,
   "id": "89007fa4-f63c-48c3-baf5-00639a21d445",
   "metadata": {},
   "outputs": [
    {
     "name": "stdout",
     "output_type": "stream",
     "text": [
      "Species statistics Nb dataset: {'LAMA GLAMA': 186, 'VICUGNA PACOS': 90, 'CAMELUS DROMEDARIUS': 43, 'SYNTHETIC CONSTRUCT': 34, 'HOMO SAPIENS': 23, 'CAMELIDAE': 11, 'OTHER': 13}\n",
      "Species statistics VL-only dataset: {'HOMO SAPIENS': 12, 'OTHER': 0}\n",
      "Species statistics Fv dataset: {'HOMO SAPIENS': 712, 'MUS MUSCULUS': 449, 'RATTUS NORVEGICUS': 21, 'SYNTHETIC CONSTRUCT': 18, 'CHIMERIC HOMO SAPIENS/MUS MUSCULUS': 12, 'ORYCTOLAGUS CUNICULUS': 11, 'OTHER': 18}\n"
     ]
    }
   ],
   "source": [
    "species_nb = species_stats(selected_pdbs_nb)\n",
    "species_vl = species_stats(selected_pdbs_vlonly)\n",
    "species_fv = species_stats(selected_pdbs_fv)\n",
    "print(f'Species statistics Nb dataset: {species_nb}')\n",
    "print(f'Species statistics VL-only dataset: {species_vl}')\n",
    "print(f'Species statistics Fv dataset: {species_fv}')"
   ]
  },
  {
   "cell_type": "code",
   "execution_count": 25,
   "id": "e69ff67b-17c2-4fcd-97eb-f5b82610ab38",
   "metadata": {},
   "outputs": [],
   "source": [
    "# #Store selected pdbs in files\n",
    "# names = [\"Nb\", \"VL\", \"Fv\"]\n",
    "# list_pdbs = [selected_pdbs_nb, selected_pdbs_vlonly, selected_pdbs_fv]\n",
    "\n",
    "# for i in range(len(names)):\n",
    "#     with open(f'/data/icarus/capel/{names[i]}.txt', 'w') as f:\n",
    "#         for pdbid in list_pdbs[i]:\n",
    "#             f.write(f\"{pdbid}\\n\")"
   ]
  }
 ],
 "metadata": {
  "kernelspec": {
   "display_name": "minor_internship",
   "language": "python",
   "name": "minor_internship"
  },
  "language_info": {
   "codemirror_mode": {
    "name": "ipython",
    "version": 3
   },
   "file_extension": ".py",
   "mimetype": "text/x-python",
   "name": "python",
   "nbconvert_exporter": "python",
   "pygments_lexer": "ipython3",
   "version": "3.10.0"
  }
 },
 "nbformat": 4,
 "nbformat_minor": 5
}
