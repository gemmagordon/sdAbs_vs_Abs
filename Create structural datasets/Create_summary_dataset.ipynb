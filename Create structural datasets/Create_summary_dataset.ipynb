{
 "cells": [
  {
   "cell_type": "code",
   "execution_count": 1,
   "id": "577089dd-e68a-4f98-af72-26bba4376501",
   "metadata": {},
   "outputs": [],
   "source": [
    "#Script to combine datasets used in project: \"Binding site comparison of single domain and full length antibodies\"\n",
    "#@Author: Henriette Capel\n",
    "#@Date: 12-06-2022"
   ]
  },
  {
   "cell_type": "code",
   "execution_count": 2,
   "id": "7a21aa39-20a2-471e-8340-4a9ceb636ffd",
   "metadata": {},
   "outputs": [],
   "source": [
    "##### STRUCTURE OF RESULTING DATASET #####\n",
    "#The dataset will have the following columns:\n",
    "#pdb: the pdb entry which stores this structure\n",
    "#antigen_chain: the corresponding antigen chain\n",
    "#antibody_chain: the corresponding antibody chain\n",
    "#antigen_sequence: the sequence of the antigen\n",
    "#antibody_sequence: the sequence of the antibody\n",
    "#cdr_sequence: sequences of the CDR loops\n",
    "#epitope_dis: epitiope as determined based on solely the distance. Format sdAbs: {number: aminoacid}, flAbs: {VH: {number: aminoacid}, VL: {number_aminoacid}, VHVL: {number_aminoacid}}\n",
    "#eptiope_dis_interactions: the number of interactions every epitope residue makes as determined based on solely the distance. Format sdAbs: {aminoacid_number: count}, flAbs: {aminoacid: count}\n",
    "#paratope_dis: paratope as determined based on solely the distance. Format sdAbs: {number: aminoacid}, flAbs: {VH: {number: aminoacid}, VL: {number: aminoacid}}.\n",
    "#paratope_dis_interactions: the number of interactions every paratope residue makes as determined based on solely the distance. Format sdAbs: {aminoacid_number: count}, flAbs: {VH: {aminoacid_number: count}, VL: {aminoacid_number: count}}.\n",
    "#epitope_arp: epitiope as determined based arpeggio annotations. Format: see epitope_dis\n",
    "#eptiope_arp_interactions: the number of interactions every epitope residue makes as determined based on arpeggio annotations. Format: see epitope_dis_interactions\n",
    "#paratope_arp: paratope as determined based on arpeggio annotations. Format: see paratope_dis\n",
    "#paratope_arp_interactions: the number of interactions every paratope residue makes as determined based on arpeggio annoations. Format: see paratope_dis_interactions\n",
    "#canonical_form_CDRH1: predicted canonical form of CDR-H1 loop by SCALOP\n",
    "#canonical_form_CDRH2: predicted canonical form of CDR-H2 loop by SCALOP"
   ]
  },
  {
   "cell_type": "code",
   "execution_count": 3,
   "id": "1e0f161f-19d1-48e9-8d10-2531a418b995",
   "metadata": {},
   "outputs": [],
   "source": [
    "#Import modules\n",
    "import pandas as pd\n",
    "import numpy as np"
   ]
  },
  {
   "cell_type": "code",
   "execution_count": 4,
   "id": "bb309534-5ec5-4893-ba42-1fa5309a03af",
   "metadata": {},
   "outputs": [],
   "source": [
    "def read_dataset(filename_ds):\n",
    "    \n",
    "    df = pd.read_csv(filename_ds, converters={i: str for i in range(100)})\n",
    "    \n",
    "    for colname in df.columns.values.tolist():\n",
    "        try:\n",
    "            df[colname] = [ast.literal_eval(d) for d in df[colname]]\n",
    "        except:\n",
    "            pass\n",
    "\n",
    "    return df"
   ]
  },
  {
   "cell_type": "code",
   "execution_count": 28,
   "id": "1509c485-b3e8-4669-a89b-059f54de06e2",
   "metadata": {},
   "outputs": [],
   "source": [
    "def combine_sets(df_binding_dis, df_binding_dis_int, df_binding_arp_int, df_cf):\n",
    "    #This function combines the seperate dataframes storing partly similar and partly different information of the same dataset\n",
    "    #columns: pdb - antigen_chain - antibody_chain - antigen_sequence - antibody_sequence - cdr_sequence - epitope_dis - eptiope_dis_interactions - paratope_dis - paratope_dis_interactions - epitope_arp - eptiope_arp_interactions - paratope_arp - paratope_arp_interactions - canonical_form_CDRH1 - canonical_form_CDRH2\n",
    "    \n",
    "    #Select the important columns of the different sets\n",
    "    df_binding_dis_selected = df_binding_dis[[\"pdb\", \"antigen_chain\", \"antibody_chain\", \"antigen_sequence\", \"antibody_sequence\", \"cdr_sequence\", \"epitope_MWV_dict\", \"paratope_MWV_dict\"]]\n",
    "    df_binding_dis_int_selected = df_binding_dis_int[[\"pdb\", \"antigen_chain\", \"antibody_chain\", \"epitope_num_interactions\", \"paratope_num_interactions\"]]\n",
    "    df_binding_arp_int_selected = df_binding_arp_int[[\"pdb\", \"antigen_chain\", \"antibody_chain\", \"epitope_MWV_dict\", \"epitope_num_interactions\", \"paratope_MWV_dict\", \"paratope_num_interactions\"]]\n",
    "    df_cf_selected = df_cf[[\"pdb\", \"antigen_chain\", \"antibody_chain\", \"canonical_form_CDRH1\", \"canonical_form_CDRH2\"]]\n",
    "    \n",
    "    #Rename columns\n",
    "    df_binding_dis_selected = df_binding_dis_selected.rename(columns={\"epitope_MWV_dict\": \"epitope_dis\", \"paratope_MWV_dict\": \"paratope_dis\"})\n",
    "    df_binding_dis_int_selected = df_binding_dis_int_selected.rename(columns={\"epitope_num_interactions\": \"epitope_dis_interactions\", \"paratope_num_interactions\": \"paratope_dis_interactions\"})\n",
    "    df_binding_arp_int_selected = df_binding_arp_int_selected.rename(columns={\"epitope_MWV_dict\": \"epitope_arp\", \"paratope_MWV_dict\": \"paratope_arp\", \"epitope_num_interactions\": \"epitope_arp_interactions\", \"paratope_num_interactions\": \"paratope_arp_interactions\"})\n",
    "    \n",
    "    #combine and reorder columns. Note use how=\"outer\" to include complexes for which info is missing in one of the datasets\n",
    "    df_dis_info = pd.merge(df_binding_dis_selected, df_binding_dis_int_selected, on=[\"pdb\", \"antigen_chain\", \"antibody_chain\"])\n",
    "    df_dis_info = df_dis_info[[\"pdb\", \"antigen_chain\", \"antibody_chain\", \"antigen_sequence\", \"antibody_sequence\", \"cdr_sequence\", \"epitope_dis\", \"epitope_dis_interactions\", \"paratope_dis\", \"paratope_dis_interactions\"]] #reorder columns\n",
    "    df_dis_arp_info = pd.merge(df_dis_info, df_binding_arp_int_selected, how=\"outer\", on=[\"pdb\", \"antigen_chain\", \"antibody_chain\"])\n",
    "    df_summary = pd.merge(df_dis_arp_info, df_cf_selected, how=\"outer\", on=[\"pdb\", \"antigen_chain\", \"antibody_chain\"])\n",
    "    return df_summary\n"
   ]
  },
  {
   "cell_type": "code",
   "execution_count": 26,
   "id": "b12e91a2-2bb6-432b-9667-c7d03cbb17a0",
   "metadata": {},
   "outputs": [],
   "source": [
    "#The seperate datasets containing important information\n",
    "df_sdab_filtered = read_dataset(\"Dataset_nb_filtered.csv\")\n",
    "df_flab_filtered = read_dataset(\"Dataset_fv_filtered.csv\")\n",
    "df_sdab_dis_int = read_dataset(\"Dataset_nb_filtered_num_interactions.csv\")\n",
    "df_flab_dis_int = read_dataset(\"Dataset_fv_filtered_num_interactions.csv\")\n",
    "df_sdab_arp_int = read_dataset(\"Dataset_nb_arpeggio_interactions.csv\")\n",
    "df_flab_arp_int = read_dataset(\"Dataset_fv_arpeggio_interactions.csv\")\n",
    "df_sdab_cf = read_dataset(\"Dataset_nb_filtered_canonical_form.csv\")\n",
    "df_flab_cf = read_dataset(\"Dataset_fv_filtered_canonical_form.csv\")"
   ]
  },
  {
   "cell_type": "code",
   "execution_count": 29,
   "id": "6a39bd39-b395-4a97-acf5-843d519e595a",
   "metadata": {},
   "outputs": [],
   "source": [
    "#Make the summary datasets\n",
    "df_sdab_summary = combine_sets(df_sdab_filtered, df_sdab_dis_int, df_sdab_arp_int, df_sdab_cf)\n",
    "df_flab_summary = combine_sets(df_flab_filtered, df_flab_dis_int, df_flab_arp_int, df_flab_cf)"
   ]
  },
  {
   "cell_type": "code",
   "execution_count": 30,
   "id": "7a769b0e-d872-4ae9-a5ae-5d3773412fd5",
   "metadata": {},
   "outputs": [],
   "source": [
    "#Store datasets in csv file\n",
    "# df_sdab_summary.to_csv(\"Dataset_sdAbs_summary.csv\", index=False)\n",
    "# df_flab_summary.to_csv(\"Dataset_flAbs_summary.csv\", index=False)"
   ]
  }
 ],
 "metadata": {
  "kernelspec": {
   "display_name": "minor_internship",
   "language": "python",
   "name": "minor_internship"
  },
  "language_info": {
   "codemirror_mode": {
    "name": "ipython",
    "version": 3
   },
   "file_extension": ".py",
   "mimetype": "text/x-python",
   "name": "python",
   "nbconvert_exporter": "python",
   "pygments_lexer": "ipython3",
   "version": "3.10.0"
  }
 },
 "nbformat": 4,
 "nbformat_minor": 5
}
