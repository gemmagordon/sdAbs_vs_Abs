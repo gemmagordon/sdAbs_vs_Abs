{
 "cells": [
  {
   "cell_type": "code",
   "execution_count": null,
   "metadata": {},
   "outputs": [],
   "source": [
    "##@Author: Gemma Gordon\n",
    "##@Date: July 2022\n",
    "## Script used to determine the epitope concavity of antigen structures bound by Abs and sdAbs"
   ]
  },
  {
   "cell_type": "markdown",
   "metadata": {},
   "source": []
  },
  {
   "cell_type": "code",
   "execution_count": 1,
   "metadata": {},
   "outputs": [],
   "source": [
    "import ast\n",
    "from Bio import PDB\n",
    "from Bio.PDB.PDBList import PDBList\n",
    "import os\n",
    "import warnings\n",
    "from Bio import BiopythonWarning\n",
    "warnings.simplefilter('ignore', BiopythonWarning)\n",
    "import numpy as np\n",
    "import pandas as pd\n",
    "import open3d as o3d\n",
    "import trimesh\n",
    "from scipy.spatial import KDTree\n",
    "from scipy.spatial.transform import Rotation\n",
    "import shutil\n",
    "from Bio.SeqUtils import seq3"
   ]
  },
  {
   "cell_type": "code",
   "execution_count": 2,
   "metadata": {},
   "outputs": [],
   "source": [
    "parser = PDB.FastMMCIFParser()\n",
    "io = PDB.PDBIO()\n",
    "pdbl = PDBList()"
   ]
  },
  {
   "cell_type": "markdown",
   "metadata": {},
   "source": [
    "load in Ag chains data"
   ]
  },
  {
   "cell_type": "code",
   "execution_count": 5,
   "metadata": {},
   "outputs": [],
   "source": [
    "ag_chains = pd.read_csv('Dataset_flAbs_summary.csv')"
   ]
  },
  {
   "cell_type": "markdown",
   "metadata": {},
   "source": [
    "get coords of all Ag atoms in structure"
   ]
  },
  {
   "cell_type": "code",
   "execution_count": 8,
   "metadata": {},
   "outputs": [],
   "source": [
    "def get_all_ag_coords(struct, ag_chains):\n",
    "\n",
    "    X = []\n",
    "    Y = []\n",
    "    Z = []\n",
    "\n",
    "    for model in struct: \n",
    "        for chain in model:\n",
    "            if chain.get_id() in ag_chains:\n",
    "                for residue in chain:\n",
    "                    for atom in residue:\n",
    "                        _x, _y, _z = atom.get_coord()\n",
    "                        X.append(_x)\n",
    "                        Y.append(_y)\n",
    "                        Z.append(_z)\n",
    "    \n",
    "    all_ag_coords = np.array([X,Y,Z]).T\n",
    "\n",
    "    return all_ag_coords"
   ]
  },
  {
   "cell_type": "markdown",
   "metadata": {},
   "source": [
    "get coords of just epitope residue atoms"
   ]
  },
  {
   "cell_type": "code",
   "execution_count": 9,
   "metadata": {},
   "outputs": [],
   "source": [
    "abs_dataset = pd.read_csv('gg_flabs_summary_epitopes.csv')"
   ]
  },
  {
   "cell_type": "code",
   "execution_count": 10,
   "metadata": {},
   "outputs": [],
   "source": [
    "def get_epitope_residues(pdb_id, dataset_df, column_name):\n",
    "\n",
    "    # get epitope residues by processing summary data from CV experiment\n",
    "    epitope_residues = dataset_df[column_name].loc[dataset_df['pdb']== pdb_id].iloc[0] # NOTE change to epitope_arp_VHVL if Abs dataset\n",
    "    #epitope_residues = epitope_dict\n",
    "    epitope_residues = ast.literal_eval(epitope_residues)\n",
    "\n",
    "    # get residue position numbers\n",
    "    resnb = list(epitope_residues.keys())\n",
    "    # get residue types and convert from 1 letter to 3 letter format\n",
    "    restype1 = list(epitope_residues.values())\n",
    "    restype = []\n",
    "    for item in restype1:\n",
    "        item = seq3(item).upper()\n",
    "        restype.append(item)\n",
    "\n",
    "    return resnb, restype, epitope_residues\n",
    "\n",
    "\n",
    "def get_epitope_coords(resnbs, restypes, struct, epitope_residues):\n",
    "\n",
    "    x,y,z = [],[],[]\n",
    "\n",
    "    epitope_res = []\n",
    "    for model in struct:\n",
    "        for chain in model:\n",
    "            for residue in chain:\n",
    "                for resnb, restype in zip(resnbs, restypes):\n",
    "                    if str('resseq=' + resnb) in str(residue) and restype in str(residue):\n",
    "                        if len(epitope_res) < len(epitope_residues):\n",
    "                            epitope_res.append(residue)\n",
    "\n",
    "    for residue in epitope_res:\n",
    "        for atom in residue:\n",
    "            _x, _y, _z = atom.get_coord()\n",
    "            x = np.append(x, _x)\n",
    "            y = np.append(y, _y)\n",
    "            z = np.append(z, _z)\n",
    "\n",
    "    epitope_points = np.array([x,y,z]).T\n",
    "\n",
    "    return epitope_points\n"
   ]
  },
  {
   "cell_type": "markdown",
   "metadata": {},
   "source": [
    "#### create mesh\n",
    "\n",
    "https://github.com/mikedh/trimesh/issues/328#issuecomment-467613207"
   ]
  },
  {
   "cell_type": "markdown",
   "metadata": {},
   "source": [
    "http://www.open3d.org/docs/release/tutorial/geometry/working_with_numpy.html#From-NumPy-to-open3d.PointCloud\n",
    "http://www.open3d.org/docs/latest/tutorial/Advanced/surface_reconstruction.html"
   ]
  },
  {
   "cell_type": "markdown",
   "metadata": {},
   "source": [
    "create main mesh"
   ]
  },
  {
   "cell_type": "code",
   "execution_count": 11,
   "metadata": {},
   "outputs": [],
   "source": [
    "def create_structure_mesh(all_ag_coords, alpha):\n",
    "\n",
    "    pcd = o3d.geometry.PointCloud()\n",
    "    pcd.points = o3d.utility.Vector3dVector(all_ag_coords)\n",
    "\n",
    "    # NOTE quick method to find a better alpha value, won't find exact best value but closer than before\n",
    "    mesh_dict = dict()\n",
    "    # for alpha in np.arange(0,3,0.001): # NOTE was set at (0,10,0.5) and all structures gave alpha values from 1-3 (mostly 2.0, 2.5)\n",
    "    #     mesh = o3d.geometry.TriangleMesh.create_from_point_cloud_alpha_shape(pcd, alpha)\n",
    "    #     triangles = len(mesh.triangles)\n",
    "    #     mesh_dict[alpha] = triangles\n",
    "\n",
    "    # # get alpha value where triangles highest number\n",
    "    # max_triangles = max(mesh_dict.values())\n",
    "    # for key in mesh_dict.keys():\n",
    "    #     if mesh_dict[key] == max_triangles:\n",
    "    #         alpha = key\n",
    "    print('ALPHA = ', alpha)\n",
    "    mesh = o3d.geometry.TriangleMesh.create_from_point_cloud_alpha_shape(pcd, alpha)\n",
    "    mesh.compute_vertex_normals() \n",
    "    mesh_vertices = np.asarray(mesh.vertices)\n",
    "    # save mesh in temp file to reload as trimesh mesh object (as opposed to open3d mesh)\n",
    "    o3d.io.write_triangle_mesh('temp_mesh.ply', mesh, print_progress=True)\n",
    "\n",
    "    return mesh_vertices, alpha"
   ]
  },
  {
   "cell_type": "code",
   "execution_count": 12,
   "metadata": {},
   "outputs": [],
   "source": [
    "def load_trimesh_mesh(file_name):\n",
    "\n",
    "    mesh = trimesh.load(file_name)\n",
    "\n",
    "    return mesh"
   ]
  },
  {
   "cell_type": "code",
   "execution_count": 13,
   "metadata": {},
   "outputs": [],
   "source": [
    "def map_mesh_point_clouds(all_coords, mesh_vertices):\n",
    "\n",
    "    '''map points in original PDB epitope structure to those from mesh vertices'''\n",
    "\n",
    "    # make kdtree\n",
    "    kdtree = KDTree(all_coords)\n",
    "    # find closest points of mesh coords to those from PDB coords\n",
    "    mapped_points = kdtree.query(mesh_vertices, k=1)\n",
    "    mapped_index = mapped_points[1] # gives indices of all_coords points that the mesh points map to closest\n",
    "    mapped_mesh_points = all_coords[mapped_index]\n",
    "\n",
    "    return mapped_mesh_points\n",
    "\n",
    "\n",
    "def get_vertex_defects(mesh, mapped_mesh_points):\n",
    "\n",
    "    '''gives mesh points of structure alongside corresponding vertex defects values'''\n",
    "\n",
    "    vd_values = trimesh.curvature.vertex_defects(mesh)\n",
    "    vd_df = pd.DataFrame(mapped_mesh_points, columns=['x','y','z'])\n",
    "    vd_df['vertex defects'] = pd.Series(vd_values)\n",
    "\n",
    "    return vd_df\n",
    "\n",
    "\n",
    "def map_epitope_to_mesh(mapped_mesh_points, epitope_points):\n",
    "\n",
    "    # make kdtree of the mesh points that were mapped to the PDB coords\n",
    "    # NOTE confused here - is double mapping necessary?\n",
    "    kdtree = KDTree(mapped_mesh_points)\n",
    "    # map epitope PDB coords to the mesh\n",
    "    epitope_map = kdtree.query(epitope_points, k=1)\n",
    "    df_query_index = epitope_map[1] # these indexes used to extract VD from results dataframe\n",
    "\n",
    "    return df_query_index, epitope_map\n",
    "\n",
    "\n",
    "## FROM ROTATION 1 \n",
    "def rmsd(V, W): # from https://github.com/charnley/rmsd/blob/master/rmsd/calculate_rmsd.py \n",
    "    \"\"\"\n",
    "    Calculate Root-mean-square deviation from two sets of vectors V and W.\n",
    "    Parameters\n",
    "    ----------\n",
    "    V : array\n",
    "        (N,D) matrix, where N is points and D is dimension.\n",
    "    W : array\n",
    "        (N,D) matrix, where N is points and D is dimension.\n",
    "    Returns\n",
    "    -------\n",
    "    rmsd : float\n",
    "        Root-mean-square deviation between the two vectors\n",
    "    \"\"\"\n",
    "    diff = np.array(V) - np.array(W)\n",
    "    N = len(V)\n",
    "    return np.sqrt((diff * diff).sum() / N)\n",
    "\n",
    "\n",
    "def align_coords(query_points, ref_points):\n",
    "    qm_means = query_points.mean(0)\n",
    "    rm_means = ref_points.mean(0)\n",
    "    qm_trans = query_points - qm_means\n",
    "    rm_trans = ref_points - rm_means\n",
    "\n",
    "    trans_vector = rm_means # add to revert_translation\n",
    "\n",
    "    rot_matrix, __ = Rotation.align_vectors(a=rm_trans, b=qm_trans)\n",
    "    rot_matrix = rot_matrix.as_matrix() # scipy gives Rotation object, get matrix\n",
    "    qm_rotated = qm_trans  @ rot_matrix\n",
    "\n",
    "    # qm_reverted, frm_reverted = revert_translation(qm_rotated, frm_trans, qm_means, frm_means)\n",
    "    qm_aligned =  qm_rotated + trans_vector\n",
    "    rmsd_val = rmsd(qm_aligned, rm_trans + trans_vector)\n",
    "    return qm_aligned, rmsd_val\n",
    "\n",
    "\n",
    "## back to rotation 2\n",
    "def check_rmsd(epitope_points, mapped_mesh_points, epitope_map):\n",
    "\n",
    "    '''check how well epitope from PDB mapped to mesh vertices points'''\n",
    "\n",
    "    pc1 = epitope_points\n",
    "    pc2 = mapped_mesh_points[epitope_map[1]]\n",
    "    pc2_aligned, rmsd_val = align_coords(pc1, pc2)\n",
    "\n",
    "    return rmsd_val\n",
    "\n",
    "\n",
    "def get_epitope_vd_values(vd_df, df_query_index):\n",
    "\n",
    "    epitope_vd_values = vd_df['vertex defects'][df_query_index].values\n",
    "    mean_vd = np.mean(epitope_vd_values)\n",
    "\n",
    "    positive = 0\n",
    "    negative = 0\n",
    "\n",
    "    for value in epitope_vd_values:\n",
    "        if value > 0:\n",
    "            positive += 1\n",
    "        elif value < 0:\n",
    "            negative += 1\n",
    "\n",
    "    # proportion of positive and negative values\n",
    "    positive_prop = positive / (positive + negative)\n",
    "    negative_prop = negative / (positive + negative)\n",
    "    proportions = dict()\n",
    "    proportions['positive VD %'] = positive_prop\n",
    "    proportions['negative VD %'] = negative_prop\n",
    "\n",
    "    return epitope_vd_values, mean_vd, proportions"
   ]
  },
  {
   "cell_type": "markdown",
   "metadata": {},
   "source": [
    "run over remaining fails"
   ]
  },
  {
   "cell_type": "code",
   "execution_count": 32,
   "metadata": {},
   "outputs": [
    {
     "name": "stdout",
     "output_type": "stream",
     "text": [
      "4dn4\n",
      "ALPHA =  2.5\n",
      "0.9991038024899307\n",
      "4kht\n",
      "ALPHA =  2.6\n",
      "0.3532680104986137\n",
      "7a3u\n",
      "ALPHA =  2.6\n",
      "0.6068143165599896\n",
      "4f2m\n",
      "ALPHA =  2.6\n",
      "0.7261711167057436\n",
      "1oaz\n",
      "ALPHA =  3.01\n",
      "0.8574125564828409\n"
     ]
    }
   ],
   "source": [
    "# create df to hold results\n",
    "results_df = pd.DataFrame()\n",
    "\n",
    "pdb_ids = []\n",
    "mean_vd_values = []\n",
    "all_epitope_vd_values = []\n",
    "all_vd_proportions = []\n",
    "rmsd_values = []\n",
    "alpha_values = []\n",
    "\n",
    "\n",
    "for pdb, chains in zip(all_ag_chains.keys(), all_ag_chains.values()):\n",
    "\n",
    "    pdb_id = str(pdb)\n",
    "    print(pdb_id)\n",
    "\n",
    "    if pdb_id == '4dn4':\n",
    "        alpha = 2.5\n",
    "    elif pdb_id == '4kht' or '7a3u' or '4f2m':\n",
    "        alpha = 2.6\n",
    "    if pdb_id == '1oaz':\n",
    "        alpha = 3.01\n",
    "\n",
    "    # get structure\n",
    "    filepath = 'temp_pdb_cif_abs/' + pdb_id + '.cif'\n",
    "    struct = parser.get_structure(pdb_id, filepath)\n",
    "    # get pdb coords of antigen chains\n",
    "    all_ag_coords = get_all_ag_coords(struct, chains)\n",
    "\n",
    "    for row in abs_dataset['epitope_arp_VHVL'].loc[abs_dataset['pdb'] == pdb_id]: # NOTE change between abs_dataset/nbs_dataset and col name 'epitope_arp'/'epitope_arp_VHVL'\n",
    "        \n",
    "        resnbs, restypes, epitope_residues = get_epitope_residues(pdb_id, abs_dataset, column_name='epitope_arp_VHVL')\n",
    "        epitope_points = get_epitope_coords(resnbs, restypes, struct, epitope_residues)\n",
    "        mesh_vertices, alpha = create_structure_mesh(all_ag_coords, alpha)\n",
    "\n",
    "        # trimesh\n",
    "        mesh = load_trimesh_mesh(file_name='temp_mesh.ply')\n",
    "        mapped_mesh_points = map_mesh_point_clouds(all_ag_coords, mesh_vertices)\n",
    "        vd_df = get_vertex_defects(mesh, mapped_mesh_points)\n",
    "        df_query_index, epitope_map = map_epitope_to_mesh(mapped_mesh_points, epitope_points)\n",
    "        rmsd_val = check_rmsd(epitope_points, mapped_mesh_points, epitope_map)\n",
    "        print(rmsd_val)\n",
    "        epitope_vd_values, mean_vd, proportions = get_epitope_vd_values(vd_df, df_query_index)\n",
    "\n",
    "        # add results to lists\n",
    "        pdb_ids.append(pdb_id)\n",
    "        mean_vd_values.append(mean_vd)\n",
    "        all_epitope_vd_values.append(epitope_vd_values)\n",
    "        all_vd_proportions.append(proportions)\n",
    "        rmsd_values.append(rmsd_val)\n",
    "        alpha_values.append(alpha)\n"
   ]
  },
  {
   "cell_type": "code",
   "execution_count": 33,
   "metadata": {},
   "outputs": [
    {
     "data": {
      "text/plain": [
       "[0.9991038024899307,\n",
       " 0.3532680104986137,\n",
       " 0.6068143165599896,\n",
       " 0.7261711167057436,\n",
       " 0.8574125564828409]"
      ]
     },
     "execution_count": 33,
     "metadata": {},
     "output_type": "execute_result"
    }
   ],
   "source": [
    "rmsd_values"
   ]
  },
  {
   "cell_type": "code",
   "execution_count": 34,
   "metadata": {},
   "outputs": [],
   "source": [
    "results_df['pdb'] = pdb_ids\n",
    "results_df['all_epitope_vd_values'] = all_epitope_vd_values\n",
    "results_df['mean_VD'] = mean_vd_values\n",
    "results_df['RMSD (PDB vs mesh)'] = rmsd_values\n",
    "results_df['positive vs negative'] = all_vd_proportions\n",
    "results_df['alpha'] = alpha_values"
   ]
  },
  {
   "cell_type": "code",
   "execution_count": 35,
   "metadata": {},
   "outputs": [
    {
     "data": {
      "text/html": [
       "<div>\n",
       "<style scoped>\n",
       "    .dataframe tbody tr th:only-of-type {\n",
       "        vertical-align: middle;\n",
       "    }\n",
       "\n",
       "    .dataframe tbody tr th {\n",
       "        vertical-align: top;\n",
       "    }\n",
       "\n",
       "    .dataframe thead th {\n",
       "        text-align: right;\n",
       "    }\n",
       "</style>\n",
       "<table border=\"1\" class=\"dataframe\">\n",
       "  <thead>\n",
       "    <tr style=\"text-align: right;\">\n",
       "      <th></th>\n",
       "      <th>pdb</th>\n",
       "      <th>all_epitope_vd_values</th>\n",
       "      <th>mean_VD</th>\n",
       "      <th>RMSD (PDB vs mesh)</th>\n",
       "      <th>positive vs negative</th>\n",
       "      <th>alpha</th>\n",
       "    </tr>\n",
       "  </thead>\n",
       "  <tbody>\n",
       "    <tr>\n",
       "      <th>0</th>\n",
       "      <td>4dn4</td>\n",
       "      <td>[-6.347810645555304, -1.0053593706612798, -0.2...</td>\n",
       "      <td>-0.775719</td>\n",
       "      <td>0.999104</td>\n",
       "      <td>{'positive VD %': 0.42696629213483145, 'negati...</td>\n",
       "      <td>2.50</td>\n",
       "    </tr>\n",
       "    <tr>\n",
       "      <th>1</th>\n",
       "      <td>4kht</td>\n",
       "      <td>[-0.1498983055812957, -1.0678282084677697, 0.4...</td>\n",
       "      <td>-0.160440</td>\n",
       "      <td>0.353268</td>\n",
       "      <td>{'positive VD %': 0.4411764705882353, 'negativ...</td>\n",
       "      <td>2.60</td>\n",
       "    </tr>\n",
       "    <tr>\n",
       "      <th>2</th>\n",
       "      <td>7a3u</td>\n",
       "      <td>[-0.03425897141095113, -0.026024619705458107, ...</td>\n",
       "      <td>-1.410535</td>\n",
       "      <td>0.606814</td>\n",
       "      <td>{'positive VD %': 0.32967032967032966, 'negati...</td>\n",
       "      <td>2.60</td>\n",
       "    </tr>\n",
       "    <tr>\n",
       "      <th>3</th>\n",
       "      <td>4f2m</td>\n",
       "      <td>[-0.03511959604209203, 0.5308684470726117, -4....</td>\n",
       "      <td>-0.813903</td>\n",
       "      <td>0.726171</td>\n",
       "      <td>{'positive VD %': 0.41975308641975306, 'negati...</td>\n",
       "      <td>2.60</td>\n",
       "    </tr>\n",
       "    <tr>\n",
       "      <th>4</th>\n",
       "      <td>1oaz</td>\n",
       "      <td>[-0.038389340540740946, -0.0887049022233537, 0...</td>\n",
       "      <td>-0.472278</td>\n",
       "      <td>0.857413</td>\n",
       "      <td>{'positive VD %': 0.42574257425742573, 'negati...</td>\n",
       "      <td>3.01</td>\n",
       "    </tr>\n",
       "  </tbody>\n",
       "</table>\n",
       "</div>"
      ],
      "text/plain": [
       "    pdb                              all_epitope_vd_values   mean_VD  \\\n",
       "0  4dn4  [-6.347810645555304, -1.0053593706612798, -0.2... -0.775719   \n",
       "1  4kht  [-0.1498983055812957, -1.0678282084677697, 0.4... -0.160440   \n",
       "2  7a3u  [-0.03425897141095113, -0.026024619705458107, ... -1.410535   \n",
       "3  4f2m  [-0.03511959604209203, 0.5308684470726117, -4.... -0.813903   \n",
       "4  1oaz  [-0.038389340540740946, -0.0887049022233537, 0... -0.472278   \n",
       "\n",
       "   RMSD (PDB vs mesh)                               positive vs negative  \\\n",
       "0            0.999104  {'positive VD %': 0.42696629213483145, 'negati...   \n",
       "1            0.353268  {'positive VD %': 0.4411764705882353, 'negativ...   \n",
       "2            0.606814  {'positive VD %': 0.32967032967032966, 'negati...   \n",
       "3            0.726171  {'positive VD %': 0.41975308641975306, 'negati...   \n",
       "4            0.857413  {'positive VD %': 0.42574257425742573, 'negati...   \n",
       "\n",
       "   alpha  \n",
       "0   2.50  \n",
       "1   2.60  \n",
       "2   2.60  \n",
       "3   2.60  \n",
       "4   3.01  "
      ]
     },
     "execution_count": 35,
     "metadata": {},
     "output_type": "execute_result"
    }
   ],
   "source": [
    "results_df"
   ]
  },
  {
   "attachments": {},
   "cell_type": "markdown",
   "metadata": {},
   "source": [
    "Are any PDBs missing from nbs/abs results?"
   ]
  },
  {
   "cell_type": "code",
   "execution_count": 67,
   "metadata": {},
   "outputs": [],
   "source": [
    "abs_summary = pd.read_csv('gg_flabs_summary_epitopes.csv')\n",
    "abs_results = pd.read_csv('Abs_VD_results_final_under1A.csv')"
   ]
  },
  {
   "cell_type": "code",
   "execution_count": 68,
   "metadata": {},
   "outputs": [],
   "source": [
    "missing_abs = list(set(abs_summary['pdb']) - set(abs_results['pdb']))"
   ]
  },
  {
   "cell_type": "code",
   "execution_count": 69,
   "metadata": {},
   "outputs": [
    {
     "data": {
      "text/plain": [
       "['4xwo', '5k9q']"
      ]
     },
     "execution_count": 69,
     "metadata": {},
     "output_type": "execute_result"
    }
   ],
   "source": [
    "missing_abs"
   ]
  }
 ],
 "metadata": {
  "kernelspec": {
   "display_name": "Python 3.8.8 ('base')",
   "language": "python",
   "name": "python3"
  },
  "language_info": {
   "codemirror_mode": {
    "name": "ipython",
    "version": 3
   },
   "file_extension": ".py",
   "mimetype": "text/x-python",
   "name": "python",
   "nbconvert_exporter": "python",
   "pygments_lexer": "ipython3",
   "version": "3.8.8"
  },
  "orig_nbformat": 4,
  "vscode": {
   "interpreter": {
    "hash": "6583c3f449b2025ea649b72d4a52efb1871eb538dba3514b6dae43f01b685c61"
   }
  }
 },
 "nbformat": 4,
 "nbformat_minor": 2
}
