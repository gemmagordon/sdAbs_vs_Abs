{
 "cells": [
  {
   "cell_type": "code",
   "execution_count": 1,
   "metadata": {},
   "outputs": [],
   "source": [
    "##@Author: Gemma Gordon\n",
    "#@Date: February 2023\n",
    "# Script to collect datapoints from different analyses for Ab and sdAb structures that bind overlapping epitopes (6YLA, 6WAQ)"
   ]
  },
  {
   "cell_type": "code",
   "execution_count": 1,
   "metadata": {},
   "outputs": [],
   "source": [
    "import pandas as pd\n",
    "import numpy as np\n",
    "import matplotlib.pyplot as plt"
   ]
  },
  {
   "attachments": {},
   "cell_type": "markdown",
   "metadata": {},
   "source": [
    "analysis done:\n",
    "\n",
    "- epitope size\n",
    "- epitope amino acid composition\n",
    "- epitope linearity\n",
    "- epitope shape\n",
    "- paratope size\n",
    "- germlines\n",
    "- paratope (CDR) amino acid composition\n",
    "- canonical forms\n",
    "- CDR loop lengths (H3)\n",
    "- CDR loop packing\n",
    "- H3 length vs epitope shape\n",
    "- types of interactions\n",
    "- number of interactions \n",
    "- use of FWR and their conservation \n",
    "- antigen size"
   ]
  },
  {
   "attachments": {},
   "cell_type": "markdown",
   "metadata": {},
   "source": [
    "want loop sequences, paratope and epitope residues so can annotate figures"
   ]
  },
  {
   "cell_type": "code",
   "execution_count": 2,
   "metadata": {},
   "outputs": [],
   "source": [
    "import ast"
   ]
  },
  {
   "cell_type": "code",
   "execution_count": 3,
   "metadata": {},
   "outputs": [],
   "source": [
    "abs_summary = pd.read_csv('Dataset_flAbs_summary.csv')\n",
    "sdabs_summary = pd.read_csv('Dataset_sdAbs_summary.csv')"
   ]
  },
  {
   "attachments": {},
   "cell_type": "markdown",
   "metadata": {},
   "source": [
    "#### Abs data"
   ]
  },
  {
   "cell_type": "code",
   "execution_count": 4,
   "metadata": {},
   "outputs": [
    {
     "data": {
      "text/html": [
       "<div>\n",
       "<style scoped>\n",
       "    .dataframe tbody tr th:only-of-type {\n",
       "        vertical-align: middle;\n",
       "    }\n",
       "\n",
       "    .dataframe tbody tr th {\n",
       "        vertical-align: top;\n",
       "    }\n",
       "\n",
       "    .dataframe thead th {\n",
       "        text-align: right;\n",
       "    }\n",
       "</style>\n",
       "<table border=\"1\" class=\"dataframe\">\n",
       "  <thead>\n",
       "    <tr style=\"text-align: right;\">\n",
       "      <th></th>\n",
       "      <th>pdb</th>\n",
       "      <th>antigen_chain</th>\n",
       "      <th>antibody_chain</th>\n",
       "      <th>antigen_sequence</th>\n",
       "      <th>antibody_sequence</th>\n",
       "      <th>cdr_sequence</th>\n",
       "      <th>epitope_dis</th>\n",
       "      <th>epitope_dis_interactions</th>\n",
       "      <th>paratope_dis</th>\n",
       "      <th>paratope_dis_interactions</th>\n",
       "      <th>epitope_arp</th>\n",
       "      <th>epitope_arp_interactions</th>\n",
       "      <th>paratope_arp</th>\n",
       "      <th>paratope_arp_interactions</th>\n",
       "      <th>canonical_form_CDRH1</th>\n",
       "      <th>canonical_form_CDRH2</th>\n",
       "    </tr>\n",
       "  </thead>\n",
       "  <tbody>\n",
       "    <tr>\n",
       "      <th>824</th>\n",
       "      <td>6yla</td>\n",
       "      <td>E</td>\n",
       "      <td>HL</td>\n",
       "      <td>ETGPNITNLCPFGEVFNATRFASVYAWNRKRISNCVADYSVLYNSA...</td>\n",
       "      <td>{'H': 'QMQLVQSGTEVKKPGESLKISCKGSGYGFITYWIGWVRQ...</td>\n",
       "      <td>{'CDRH1': 'GYGFITYW', 'CDRH2': 'IYPGDSET', 'CD...</td>\n",
       "      <td>{'H': {384: 'P', 383: 'S', 378: 'K', 379: 'C',...</td>\n",
       "      <td>{'Y_369': 4, 'T_385': 4, 'N_370': 1, 'S_375': ...</td>\n",
       "      <td>{'H': {1: 'Q', 116: 'D', 66: 'R', 112: 'S', 62...</td>\n",
       "      <td>{'H': {'Q_1': 2, 'Y_28': 1, 'G_29': 1, 'I_35':...</td>\n",
       "      <td>{'H': {'379': 'C', '383': 'S', '386': 'K', '37...</td>\n",
       "      <td>{'C_379': 2, 'S_383': 2, 'K_386': 2, 'K_378': ...</td>\n",
       "      <td>{'H': {'110': 'I', '109': 'G', '108': 'S', '62...</td>\n",
       "      <td>{'H': {'I_110': 3, 'G_109': 1, 'S_108': 3, 'D_...</td>\n",
       "      <td>H1-8-A</td>\n",
       "      <td>H2-8-A</td>\n",
       "    </tr>\n",
       "  </tbody>\n",
       "</table>\n",
       "</div>"
      ],
      "text/plain": [
       "      pdb antigen_chain antibody_chain  \\\n",
       "824  6yla             E             HL   \n",
       "\n",
       "                                      antigen_sequence  \\\n",
       "824  ETGPNITNLCPFGEVFNATRFASVYAWNRKRISNCVADYSVLYNSA...   \n",
       "\n",
       "                                     antibody_sequence  \\\n",
       "824  {'H': 'QMQLVQSGTEVKKPGESLKISCKGSGYGFITYWIGWVRQ...   \n",
       "\n",
       "                                          cdr_sequence  \\\n",
       "824  {'CDRH1': 'GYGFITYW', 'CDRH2': 'IYPGDSET', 'CD...   \n",
       "\n",
       "                                           epitope_dis  \\\n",
       "824  {'H': {384: 'P', 383: 'S', 378: 'K', 379: 'C',...   \n",
       "\n",
       "                              epitope_dis_interactions  \\\n",
       "824  {'Y_369': 4, 'T_385': 4, 'N_370': 1, 'S_375': ...   \n",
       "\n",
       "                                          paratope_dis  \\\n",
       "824  {'H': {1: 'Q', 116: 'D', 66: 'R', 112: 'S', 62...   \n",
       "\n",
       "                             paratope_dis_interactions  \\\n",
       "824  {'H': {'Q_1': 2, 'Y_28': 1, 'G_29': 1, 'I_35':...   \n",
       "\n",
       "                                           epitope_arp  \\\n",
       "824  {'H': {'379': 'C', '383': 'S', '386': 'K', '37...   \n",
       "\n",
       "                              epitope_arp_interactions  \\\n",
       "824  {'C_379': 2, 'S_383': 2, 'K_386': 2, 'K_378': ...   \n",
       "\n",
       "                                          paratope_arp  \\\n",
       "824  {'H': {'110': 'I', '109': 'G', '108': 'S', '62...   \n",
       "\n",
       "                             paratope_arp_interactions canonical_form_CDRH1  \\\n",
       "824  {'H': {'I_110': 3, 'G_109': 1, 'S_108': 3, 'D_...               H1-8-A   \n",
       "\n",
       "    canonical_form_CDRH2  \n",
       "824               H2-8-A  "
      ]
     },
     "execution_count": 4,
     "metadata": {},
     "output_type": "execute_result"
    }
   ],
   "source": [
    "abs_struc = abs_summary.loc[abs_summary['pdb'] == '6yla']\n",
    "abs_struc"
   ]
  },
  {
   "cell_type": "code",
   "execution_count": 5,
   "metadata": {},
   "outputs": [
    {
     "data": {
      "text/plain": [
       "Index(['pdb', 'antigen_chain', 'antibody_chain', 'antigen_sequence',\n",
       "       'antibody_sequence'],\n",
       "      dtype='object')"
      ]
     },
     "execution_count": 5,
     "metadata": {},
     "output_type": "execute_result"
    }
   ],
   "source": [
    "abs_struc.columns[0:5]"
   ]
  },
  {
   "cell_type": "code",
   "execution_count": 5,
   "metadata": {},
   "outputs": [
    {
     "name": "stdout",
     "output_type": "stream",
     "text": [
      "cdr_sequence\n",
      " [('CDRH1', 'GYGFITYW'), ('CDRH2', 'IYPGDSET'), ('CDRH3', 'AGGSGISTPMDV'), ('CDRL1', 'QSVLYSSINKNY'), ('CDRL2', 'WAS'), ('CDRL3', 'QQYYSTPYT'), ('CDRH', 'GYGFITYWIYPGDSETAGGSGISTPMDV'), ('CDRL', 'QSVLYSSINKNYWASQQYYSTPYT'), ('CDRHL', 'GYGFITYWIYPGDSETAGGSGISTPMDVQSVLYSSINKNYWASQQYYSTPYT')]\n",
      "epitope_dis\n",
      " [('H', {384: 'P', 383: 'S', 378: 'K', 379: 'C', 380: 'Y', 370: 'N', 385: 'T', 386: 'K', 374: 'F', 369: 'Y', 375: 'S', 382: 'V', 381: 'G', 376: 'T', 377: 'F'}), ('L', {392: 'F', 515: 'F', 428: 'D', 390: 'L', 429: 'F', 386: 'K', 517: 'L', 430: 'T', 381: 'G', 516: 'E'}), ('HL', {384: 'P', 383: 'S', 378: 'K', 379: 'C', 380: 'Y', 370: 'N', 385: 'T', 386: 'K', 374: 'F', 369: 'Y', 375: 'S', 382: 'V', 381: 'G', 376: 'T', 377: 'F', 392: 'F', 515: 'F', 428: 'D', 390: 'L', 429: 'F', 517: 'L', 430: 'T', 516: 'E'})]\n",
      "epitope_dis_interactions\n",
      " [('Y_369', 4), ('T_385', 4), ('N_370', 1), ('S_375', 2), ('F_374', 1), ('F_377', 3), ('P_384', 2), ('K_378', 4), ('C_379', 3), ('T_376', 2), ('Y_380', 3), ('S_383', 2), ('V_382', 5), ('G_381', 5), ('K_386', 3), ('D_428', 3), ('T_430', 4), ('F_429', 1), ('E_516', 1), ('F_515', 2), ('L_517', 2), ('F_392', 1), ('L_390', 1)]\n",
      "paratope_dis\n",
      " [('H', {1: 'Q', 116: 'D', 66: 'R', 112: 'S', 62: 'D', 38: 'W', 37: 'Y', 57: 'Y', 64: 'E', 113: 'T', 59: 'G', 28: 'Y', 29: 'G', 110: 'I', 109: 'G', 35: 'I', 36: 'T', 108: 'S'}), ('L', {68: 'E', 56: 'W', 38: 'Y', 33: 'S', 34: 'I', 32: 'S', 55: 'Y', 31: 'Y'})]\n",
      "paratope_dis_interactions\n",
      " [('H', {'Q_1': 2, 'Y_28': 1, 'G_29': 1, 'I_35': 4, 'T_36': 4, 'Y_37': 1, 'W_38': 2, 'Y_57': 3, 'G_59': 1, 'D_62': 2, 'E_64': 2, 'R_66': 1, 'S_108': 4, 'G_109': 2, 'I_110': 4, 'S_112': 2, 'T_113': 2, 'D_116': 1}), ('L', {'Y_31': 3, 'S_32': 1, 'S_33': 5, 'I_34': 5, 'Y_38': 2, 'Y_55': 1, 'W_56': 2, 'E_68': 1})]\n",
      "epitope_arp\n",
      " [('H', {'379': 'C', '383': 'S', '386': 'K', '378': 'K', '385': 'T', '381': 'G', '369': 'Y', '380': 'Y', '384': 'P', '377': 'F'}), ('L', {'430': 'T', '428': 'D', '517': 'L', '392': 'F', '390': 'L', '386': 'K', '381': 'G'}), ('HL', {'379': 'C', '383': 'S', '386': 'K', '378': 'K', '385': 'T', '381': 'G', '369': 'Y', '380': 'Y', '384': 'P', '377': 'F', '430': 'T', '428': 'D', '517': 'L', '392': 'F', '390': 'L'})]\n",
      "epitope_arp_interactions\n",
      " [('C_379', 2), ('S_383', 2), ('K_386', 2), ('K_378', 4), ('T_385', 3), ('G_381', 3), ('Y_369', 1), ('Y_380', 1), ('P_384', 2), ('F_377', 3), ('T_430', 3), ('D_428', 1), ('L_517', 2), ('F_392', 1), ('L_390', 1)]\n",
      "paratope_arp\n",
      " [('H', {'110': 'I', '109': 'G', '108': 'S', '62': 'D', '57': 'Y', '29': 'G', '35': 'I', '113': 'T', '1': 'Q', '116': 'D', '38': 'W', '112': 'S', '37': 'Y', '64': 'E', '36': 'T'}), ('L', {'33': 'S', '31': 'Y', '56': 'W', '38': 'Y', '34': 'I', '68': 'E'})]\n",
      "paratope_arp_interactions\n",
      " [('H', {'I_110': 3, 'G_109': 1, 'S_108': 3, 'D_62': 1, 'Y_57': 2, 'G_29': 1, 'I_35': 1, 'T_113': 1, 'Q_1': 1, 'D_116': 1, 'W_38': 1, 'S_112': 1, 'Y_37': 1, 'E_64': 1, 'T_36': 2}), ('L', {'S_33': 2, 'Y_31': 2, 'W_56': 1, 'Y_38': 1, 'I_34': 3, 'E_68': 1})]\n"
     ]
    }
   ],
   "source": [
    "for col in abs_struc.columns[5:-2]:\n",
    "    print(col + '\\n', [(key, value) for (key, value) in ast.literal_eval(abs_struc[col].item()).items()])"
   ]
  },
  {
   "cell_type": "code",
   "execution_count": null,
   "metadata": {},
   "outputs": [],
   "source": []
  },
  {
   "cell_type": "code",
   "execution_count": null,
   "metadata": {},
   "outputs": [],
   "source": []
  },
  {
   "cell_type": "code",
   "execution_count": 10,
   "metadata": {},
   "outputs": [],
   "source": [
    "paratope = {'H':{'110': 'I', '109': 'G', '108': 'S', '62': 'D', '57': 'Y', '29': 'G', '35': 'I', '113': 'T', '1': 'Q', '116': 'D', '38': 'W', '112': 'S', '37': 'Y', '64': 'E', '36': 'T'}, 'L':{'33': 'S', '31': 'Y', '56': 'W', '38': 'Y', '34': 'I', '68': 'E'}}"
   ]
  },
  {
   "cell_type": "code",
   "execution_count": 15,
   "metadata": {},
   "outputs": [
    {
     "name": "stdout",
     "output_type": "stream",
     "text": [
      "color raspberry, chain H and resi 110\n",
      "color raspberry, chain H and resi 109\n",
      "color raspberry, chain H and resi 108\n",
      "color raspberry, chain H and resi 62\n",
      "color raspberry, chain H and resi 57\n",
      "color raspberry, chain H and resi 29\n",
      "color raspberry, chain H and resi 35\n",
      "color raspberry, chain H and resi 113\n",
      "color raspberry, chain H and resi 1\n",
      "color raspberry, chain H and resi 116\n",
      "color raspberry, chain H and resi 38\n",
      "color raspberry, chain H and resi 112\n",
      "color raspberry, chain H and resi 37\n",
      "color raspberry, chain H and resi 64\n",
      "color raspberry, chain H and resi 36\n",
      "color raspberry, chain L and resi 33\n",
      "color raspberry, chain L and resi 31\n",
      "color raspberry, chain L and resi 56\n",
      "color raspberry, chain L and resi 38\n",
      "color raspberry, chain L and resi 34\n",
      "color raspberry, chain L and resi 68\n"
     ]
    }
   ],
   "source": [
    "for chain in paratope:\n",
    "    for p in paratope[chain]:\n",
    "        print('color raspberry, chain', chain, 'and resi', p)"
   ]
  },
  {
   "cell_type": "code",
   "execution_count": 1,
   "metadata": {},
   "outputs": [],
   "source": [
    "from anarci import run_anarci"
   ]
  },
  {
   "cell_type": "code",
   "execution_count": 7,
   "metadata": {},
   "outputs": [
    {
     "name": "stdout",
     "output_type": "stream",
     "text": [
      "Antigen size: 203\n",
      "CDR sequences and lengths\n",
      "CDRH1: GYGFITYW 8\n",
      "CDRH2: IYPGDSET 8\n",
      "CDRH3: AGGSGISTPMDV 12\n",
      "CDRL1: QSVLYSSINKNY 12\n",
      "CDRL2: WAS 3\n",
      "CDRL3: QQYYSTPYT 9\n",
      "CDRH: GYGFITYWIYPGDSETAGGSGISTPMDV 28\n",
      "CDRL: QSVLYSSINKNYWASQQYYSTPYT 24\n",
      "CDRHL: GYGFITYWIYPGDSETAGGSGISTPMDVQSVLYSSINKNYWASQQYYSTPYT 52\n",
      "Epitope dis size: 23\n",
      "Epitope arp size: 15\n",
      "Paratope dis size: 26\n",
      "Paratope arp size 26\n",
      "Epitope dis interactions: 59\n",
      "Epitope arp interactions: 31\n",
      "Paratope dis interactions: 59\n",
      "Paratope arp interactions 31\n"
     ]
    }
   ],
   "source": [
    "print('Antigen size:', len(abs_struc['antigen_sequence'].item()))\n",
    "\n",
    "print('CDR sequences and lengths')\n",
    "cdr_seqs = ast.literal_eval(abs_struc['cdr_sequence'].item())\n",
    "for key in cdr_seqs:                          \n",
    "    print(key + ':', cdr_seqs[key], len(cdr_seqs[key]))\n",
    "\n",
    "print('Epitope dis size:', len(ast.literal_eval(abs_struc['epitope_dis'].item())['HL']))\n",
    "print('Epitope arp size:', len(ast.literal_eval(abs_struc['epitope_arp'].item())['HL']))\n",
    "print('Paratope dis size:', sum([len(a) for a in ast.literal_eval(abs_struc['paratope_dis'].item()).values()]))\n",
    "print('Paratope arp size', sum([len(a) for a in ast.literal_eval(abs_struc['paratope_dis'].item()).values()]))\n",
    "\n",
    "print('Epitope dis interactions:', sum(ast.literal_eval(abs_struc['epitope_dis_interactions'].item()).values()))\n",
    "print('Epitope arp interactions:', sum(ast.literal_eval(abs_struc['epitope_arp_interactions'].item()).values()))\n",
    "print('Paratope dis interactions:', sum([sum(a.values()) for a in ast.literal_eval(abs_struc['paratope_dis_interactions'].item()).values()]))\n",
    "print('Paratope arp interactions', sum([sum(a.values()) for a in ast.literal_eval(abs_struc['paratope_arp_interactions'].item()).values()]))"
   ]
  },
  {
   "cell_type": "code",
   "execution_count": 8,
   "metadata": {},
   "outputs": [
    {
     "name": "stdout",
     "output_type": "stream",
     "text": [
      "['1', '2', '3', '4', '5', '6', '7', '8', '9', '10', '11', '12', '13', '14', '15', '16', '17', '18', '19', '20', '21', '22', '23', '24', '25', '26', '39', '40', '41', '42', '43', '44', '45', '46', '47', '48', '49', '50', '51', '52', '53', '54', '55', '66', '67', '68', '69', '70', '71', '72', '73', '74', '75', '76', '77', '78', '79', '80', '81', '82', '83', '84', '85', '86', '87', '88', '89', '90', '91', '92', '93', '94', '95', '96', '97', '98', '99', '100', '101', '102', '103', '104', '118', '119', '120', '121', '122', '123', '124', '125', '126', '127', '128', '129']\n",
      "ABS DIS\n",
      "[1, 66]\n",
      "[68, 55]\n",
      "ABS ARP\n",
      "['1']\n",
      "['68']\n"
     ]
    }
   ],
   "source": [
    "# highlight any framework residues in paratope from numbering\n",
    "fwr_nums = [str(n) for n in np.concatenate([np.arange(1,27, 1), np.arange(39, 56, 1), np.arange(66, 105, 1), np.arange(118, 130, 1)])]\n",
    "print(fwr_nums)\n",
    "\n",
    "print('ABS DIS')\n",
    "for key, values in ast.literal_eval(abs_struc['paratope_dis'].item()).items():\n",
    "    #print(key)\n",
    "    fwr_res = []\n",
    "    for v in values:\n",
    "        #print(str(v).split('_')[0])\n",
    "        if str(v).split('_')[0] in fwr_nums:\n",
    "            fwr_res.append(v)\n",
    "    if len(fwr_res) > 0:\n",
    "        print(fwr_res)\n",
    "    else:\n",
    "        print('no fwr')\n",
    "\n",
    "print('ABS ARP')\n",
    "for key, values in ast.literal_eval(abs_struc['paratope_arp'].item()).items():\n",
    "    #print(key)\n",
    "    fwr_res = []\n",
    "    for v in values:\n",
    "        #print(str(v).split('_')[0])\n",
    "        if str(v).split('_')[0] in fwr_nums:\n",
    "            fwr_res.append(v)\n",
    "    if len(fwr_res) > 0:\n",
    "        print(fwr_res)\n",
    "    else:\n",
    "        print('no fwr')"
   ]
  },
  {
   "attachments": {},
   "cell_type": "markdown",
   "metadata": {},
   "source": [
    "#### sdAbs data"
   ]
  },
  {
   "cell_type": "code",
   "execution_count": 9,
   "metadata": {},
   "outputs": [
    {
     "data": {
      "text/html": [
       "<div>\n",
       "<style scoped>\n",
       "    .dataframe tbody tr th:only-of-type {\n",
       "        vertical-align: middle;\n",
       "    }\n",
       "\n",
       "    .dataframe tbody tr th {\n",
       "        vertical-align: top;\n",
       "    }\n",
       "\n",
       "    .dataframe thead th {\n",
       "        text-align: right;\n",
       "    }\n",
       "</style>\n",
       "<table border=\"1\" class=\"dataframe\">\n",
       "  <thead>\n",
       "    <tr style=\"text-align: right;\">\n",
       "      <th></th>\n",
       "      <th>pdb</th>\n",
       "      <th>antigen_chain</th>\n",
       "      <th>antibody_chain</th>\n",
       "      <th>antigen_sequence</th>\n",
       "      <th>antibody_sequence</th>\n",
       "      <th>cdr_sequence</th>\n",
       "      <th>epitope_dis</th>\n",
       "      <th>epitope_dis_interactions</th>\n",
       "      <th>paratope_dis</th>\n",
       "      <th>paratope_dis_interactions</th>\n",
       "      <th>epitope_arp</th>\n",
       "      <th>epitope_arp_interactions</th>\n",
       "      <th>paratope_arp</th>\n",
       "      <th>paratope_arp_interactions</th>\n",
       "      <th>canonical_form_CDRH1</th>\n",
       "      <th>canonical_form_CDRH2</th>\n",
       "    </tr>\n",
       "  </thead>\n",
       "  <tbody>\n",
       "    <tr>\n",
       "      <th>97</th>\n",
       "      <td>6waq</td>\n",
       "      <td>D</td>\n",
       "      <td>C</td>\n",
       "      <td>TNLCPFGEVFNATKFPSVYAWERKKISNCVADYSVLYNSTFFSTFK...</td>\n",
       "      <td>QVQLQESGGGLVQAGGSLRLSCAASGRTFSEYAMGWFRQAPGKERE...</td>\n",
       "      <td>{'CDRH1': 'GRTFSEYA', 'CDRH2': 'ISWSGGST', 'CD...</td>\n",
       "      <td>{427: 'N', 371: 'A', 359: 'T', 362: 'S', 426: ...</td>\n",
       "      <td>{'Y_356': 3, 'T_372': 1, 'S_358': 3, 'N_357': ...</td>\n",
       "      <td>{'112_C': 'S', 63: 'G', 64: 'S', 65: 'T', 114:...</td>\n",
       "      <td>{'W_58': 2, 'G_63': 3, 'S_64': 4, 'T_65': 3, '...</td>\n",
       "      <td>{'365': 'K', '356': 'Y', '494': 'Y', '361': 'F...</td>\n",
       "      <td>{'K_365': 3, 'Y_356': 3, 'Y_494': 2, 'F_361': ...</td>\n",
       "      <td>{'64': 'S', '69': 'D', '58': 'W', '112A': 'W',...</td>\n",
       "      <td>{'S_64': 4, 'D_69': 1, 'W_58': 2, 'W_112_A': 4...</td>\n",
       "      <td>H1-8-C</td>\n",
       "      <td>H2-8-B</td>\n",
       "    </tr>\n",
       "  </tbody>\n",
       "</table>\n",
       "</div>"
      ],
      "text/plain": [
       "     pdb antigen_chain antibody_chain  \\\n",
       "97  6waq             D              C   \n",
       "\n",
       "                                     antigen_sequence  \\\n",
       "97  TNLCPFGEVFNATKFPSVYAWERKKISNCVADYSVLYNSTFFSTFK...   \n",
       "\n",
       "                                    antibody_sequence  \\\n",
       "97  QVQLQESGGGLVQAGGSLRLSCAASGRTFSEYAMGWFRQAPGKERE...   \n",
       "\n",
       "                                         cdr_sequence  \\\n",
       "97  {'CDRH1': 'GRTFSEYA', 'CDRH2': 'ISWSGGST', 'CD...   \n",
       "\n",
       "                                          epitope_dis  \\\n",
       "97  {427: 'N', 371: 'A', 359: 'T', 362: 'S', 426: ...   \n",
       "\n",
       "                             epitope_dis_interactions  \\\n",
       "97  {'Y_356': 3, 'T_372': 1, 'S_358': 3, 'N_357': ...   \n",
       "\n",
       "                                         paratope_dis  \\\n",
       "97  {'112_C': 'S', 63: 'G', 64: 'S', 65: 'T', 114:...   \n",
       "\n",
       "                            paratope_dis_interactions  \\\n",
       "97  {'W_58': 2, 'G_63': 3, 'S_64': 4, 'T_65': 3, '...   \n",
       "\n",
       "                                          epitope_arp  \\\n",
       "97  {'365': 'K', '356': 'Y', '494': 'Y', '361': 'F...   \n",
       "\n",
       "                             epitope_arp_interactions  \\\n",
       "97  {'K_365': 3, 'Y_356': 3, 'Y_494': 2, 'F_361': ...   \n",
       "\n",
       "                                         paratope_arp  \\\n",
       "97  {'64': 'S', '69': 'D', '58': 'W', '112A': 'W',...   \n",
       "\n",
       "                            paratope_arp_interactions canonical_form_CDRH1  \\\n",
       "97  {'S_64': 4, 'D_69': 1, 'W_58': 2, 'W_112_A': 4...               H1-8-C   \n",
       "\n",
       "   canonical_form_CDRH2  \n",
       "97               H2-8-B  "
      ]
     },
     "execution_count": 9,
     "metadata": {},
     "output_type": "execute_result"
    }
   ],
   "source": [
    "sdabs_struc = sdabs_summary.loc[sdabs_summary['pdb'] == '6waq']\n",
    "sdabs_struc"
   ]
  },
  {
   "cell_type": "code",
   "execution_count": 10,
   "metadata": {},
   "outputs": [
    {
     "name": "stdout",
     "output_type": "stream",
     "text": [
      "cdr_sequence\n",
      " [('CDRH1', 'GRTFSEYA'), ('CDRH2', 'ISWSGGST'), ('CDRH3', 'AAAGLGTVVSEWDYDYDY'), ('CDRH', 'GRTFSEYAISWSGGSTAAAGLGTVVSEWDYDYDY')]\n",
      "epitope_dis\n",
      " [(427, 'N'), (371, 'A'), (359, 'T'), (362, 'S'), (426, 'R'), (361, 'F'), (494, 'Y'), (355, 'L'), (358, 'S'), (364, 'F'), (395, 'R'), (394, 'V'), (363, 'T'), (357, 'N'), (372, 'T'), (356, 'Y'), (360, 'F'), (391, 'G'), (424, 'N'), (489, 'I'), (366, 'C'), (365, 'K')]\n",
      "epitope_dis_interactions\n",
      " [('Y_356', 3), ('T_372', 1), ('S_358', 3), ('N_357', 2), ('L_355', 1), ('T_359', 2), ('F_361', 3), ('F_360', 1), ('S_362', 4), ('N_424', 1), ('N_427', 1), ('R_426', 1), ('F_364', 4), ('A_371', 2), ('K_365', 3), ('C_366', 1), ('T_363', 5), ('Y_494', 2), ('I_489', 2), ('V_394', 2), ('G_391', 1), ('R_395', 1)]\n",
      "paratope_dis\n",
      " [('112_C', 'S'), (63, 'G'), (64, 'S'), (65, 'T'), (114, 'D'), (113, 'Y'), (58, 'W'), (110, 'G'), ('111_A', 'V'), ('112_A', 'W'), (66, 'Y'), (69, 'D'), (111, 'T'), ('111_B', 'V'), ('112_B', 'E')]\n",
      "paratope_dis_interactions\n",
      " [('W_58', 2), ('G_63', 3), ('S_64', 4), ('T_65', 3), ('Y_66', 5), ('D_69', 2), ('G_110', 4), ('T_111', 2), ('V_111_A', 2), ('V_111_B', 4), ('S_112_C', 2), ('E_112_B', 4), ('W_112_A', 5), ('Y_113', 2), ('D_114', 2)]\n",
      "epitope_arp\n",
      " [('365', 'K'), ('356', 'Y'), ('494', 'Y'), ('361', 'F'), ('366', 'C'), ('362', 'S'), ('371', 'A'), ('359', 'T'), ('426', 'R'), ('363', 'T'), ('357', 'N'), ('364', 'F'), ('355', 'L'), ('372', 'T'), ('358', 'S'), ('395', 'R'), ('489', 'I'), ('394', 'V')]\n",
      "epitope_arp_interactions\n",
      " [('K_365', 3), ('Y_356', 3), ('Y_494', 2), ('F_361', 1), ('C_366', 1), ('S_362', 3), ('A_371', 1), ('T_359', 1), ('R_426', 1), ('T_363', 2), ('N_357', 2), ('F_364', 2), ('L_355', 1), ('T_372', 1), ('S_358', 2), ('R_395', 1), ('I_489', 1), ('V_394', 1)]\n",
      "paratope_arp\n",
      " [('64', 'S'), ('69', 'D'), ('58', 'W'), ('112A', 'W'), ('111A', 'V'), ('112B', 'E'), ('63', 'G'), ('114', 'D'), ('113', 'Y'), ('111', 'T'), ('110', 'G'), ('111B', 'V'), ('112C', 'S'), ('65', 'T'), ('66', 'Y')]\n",
      "paratope_arp_interactions\n",
      " [('S_64', 4), ('D_69', 1), ('W_58', 2), ('W_112_A', 4), ('V_111_A', 2), ('E_112_B', 2), ('G_63', 2), ('D_114', 1), ('Y_113', 1), ('T_111', 1), ('G_110', 2), ('V_111_B', 2), ('S_112_C', 1), ('T_65', 2), ('Y_66', 2)]\n"
     ]
    }
   ],
   "source": [
    "for col in sdabs_struc.columns[5:-2]:\n",
    "    print(col + '\\n', [(key, value) for (key, value) in ast.literal_eval(sdabs_struc[col].item()).items()])"
   ]
  },
  {
   "cell_type": "code",
   "execution_count": 4,
   "metadata": {},
   "outputs": [
    {
     "data": {
      "text/plain": [
       "([['Input sequence',\n",
       "   'QVQLQESGGGLVQAGGSLRLSCAASGRTFSEYAMGWFRQAPGKEREFVATISWSGGSTYYTDSVKGRFTISRDNAKNTVYLQMNSLKPDDTAVYYCAAAGLGTVVSEWDYDYDYWGQGTQVTVSSGS']],\n",
       " [[([((1, ' '), 'Q'),\n",
       "     ((2, ' '), 'V'),\n",
       "     ((3, ' '), 'Q'),\n",
       "     ((4, ' '), 'L'),\n",
       "     ((5, ' '), 'Q'),\n",
       "     ((6, ' '), 'E'),\n",
       "     ((7, ' '), 'S'),\n",
       "     ((8, ' '), 'G'),\n",
       "     ((9, ' '), 'G'),\n",
       "     ((10, ' '), '-'),\n",
       "     ((11, ' '), 'G'),\n",
       "     ((12, ' '), 'L'),\n",
       "     ((13, ' '), 'V'),\n",
       "     ((14, ' '), 'Q'),\n",
       "     ((15, ' '), 'A'),\n",
       "     ((16, ' '), 'G'),\n",
       "     ((17, ' '), 'G'),\n",
       "     ((18, ' '), 'S'),\n",
       "     ((19, ' '), 'L'),\n",
       "     ((20, ' '), 'R'),\n",
       "     ((21, ' '), 'L'),\n",
       "     ((22, ' '), 'S'),\n",
       "     ((23, ' '), 'C'),\n",
       "     ((24, ' '), 'A'),\n",
       "     ((25, ' '), 'A'),\n",
       "     ((26, ' '), 'S'),\n",
       "     ((27, ' '), 'G'),\n",
       "     ((28, ' '), 'R'),\n",
       "     ((29, ' '), 'T'),\n",
       "     ((30, ' '), 'F'),\n",
       "     ((31, ' '), '-'),\n",
       "     ((32, ' '), '-'),\n",
       "     ((33, ' '), '-'),\n",
       "     ((34, ' '), '-'),\n",
       "     ((35, ' '), 'S'),\n",
       "     ((36, ' '), 'E'),\n",
       "     ((37, ' '), 'Y'),\n",
       "     ((38, ' '), 'A'),\n",
       "     ((39, ' '), 'M'),\n",
       "     ((40, ' '), 'G'),\n",
       "     ((41, ' '), 'W'),\n",
       "     ((42, ' '), 'F'),\n",
       "     ((43, ' '), 'R'),\n",
       "     ((44, ' '), 'Q'),\n",
       "     ((45, ' '), 'A'),\n",
       "     ((46, ' '), 'P'),\n",
       "     ((47, ' '), 'G'),\n",
       "     ((48, ' '), 'K'),\n",
       "     ((49, ' '), 'E'),\n",
       "     ((50, ' '), 'R'),\n",
       "     ((51, ' '), 'E'),\n",
       "     ((52, ' '), 'F'),\n",
       "     ((53, ' '), 'V'),\n",
       "     ((54, ' '), 'A'),\n",
       "     ((55, ' '), 'T'),\n",
       "     ((56, ' '), 'I'),\n",
       "     ((57, ' '), 'S'),\n",
       "     ((58, ' '), 'W'),\n",
       "     ((59, ' '), 'S'),\n",
       "     ((60, ' '), '-'),\n",
       "     ((61, ' '), '-'),\n",
       "     ((62, ' '), 'G'),\n",
       "     ((63, ' '), 'G'),\n",
       "     ((64, ' '), 'S'),\n",
       "     ((65, ' '), 'T'),\n",
       "     ((66, ' '), 'Y'),\n",
       "     ((67, ' '), 'Y'),\n",
       "     ((68, ' '), 'T'),\n",
       "     ((69, ' '), 'D'),\n",
       "     ((70, ' '), 'S'),\n",
       "     ((71, ' '), 'V'),\n",
       "     ((72, ' '), 'K'),\n",
       "     ((73, ' '), '-'),\n",
       "     ((74, ' '), 'G'),\n",
       "     ((75, ' '), 'R'),\n",
       "     ((76, ' '), 'F'),\n",
       "     ((77, ' '), 'T'),\n",
       "     ((78, ' '), 'I'),\n",
       "     ((79, ' '), 'S'),\n",
       "     ((80, ' '), 'R'),\n",
       "     ((81, ' '), 'D'),\n",
       "     ((82, ' '), 'N'),\n",
       "     ((83, ' '), 'A'),\n",
       "     ((84, ' '), 'K'),\n",
       "     ((85, ' '), 'N'),\n",
       "     ((86, ' '), 'T'),\n",
       "     ((87, ' '), 'V'),\n",
       "     ((88, ' '), 'Y'),\n",
       "     ((89, ' '), 'L'),\n",
       "     ((90, ' '), 'Q'),\n",
       "     ((91, ' '), 'M'),\n",
       "     ((92, ' '), 'N'),\n",
       "     ((93, ' '), 'S'),\n",
       "     ((94, ' '), 'L'),\n",
       "     ((95, ' '), 'K'),\n",
       "     ((96, ' '), 'P'),\n",
       "     ((97, ' '), 'D'),\n",
       "     ((98, ' '), 'D'),\n",
       "     ((99, ' '), 'T'),\n",
       "     ((100, ' '), 'A'),\n",
       "     ((101, ' '), 'V'),\n",
       "     ((102, ' '), 'Y'),\n",
       "     ((103, ' '), 'Y'),\n",
       "     ((104, ' '), 'C'),\n",
       "     ((105, ' '), 'A'),\n",
       "     ((106, ' '), 'A'),\n",
       "     ((107, ' '), 'A'),\n",
       "     ((108, ' '), 'G'),\n",
       "     ((109, ' '), 'L'),\n",
       "     ((110, ' '), 'G'),\n",
       "     ((111, ' '), 'T'),\n",
       "     ((111, 'A'), 'V'),\n",
       "     ((111, 'B'), 'V'),\n",
       "     ((112, 'C'), 'S'),\n",
       "     ((112, 'B'), 'E'),\n",
       "     ((112, 'A'), 'W'),\n",
       "     ((112, ' '), 'D'),\n",
       "     ((113, ' '), 'Y'),\n",
       "     ((114, ' '), 'D'),\n",
       "     ((115, ' '), 'Y'),\n",
       "     ((116, ' '), 'D'),\n",
       "     ((117, ' '), 'Y'),\n",
       "     ((118, ' '), 'W'),\n",
       "     ((119, ' '), 'G'),\n",
       "     ((120, ' '), 'Q'),\n",
       "     ((121, ' '), 'G'),\n",
       "     ((122, ' '), 'T'),\n",
       "     ((123, ' '), 'Q'),\n",
       "     ((124, ' '), 'V'),\n",
       "     ((125, ' '), 'T'),\n",
       "     ((126, ' '), 'V'),\n",
       "     ((127, ' '), 'S'),\n",
       "     ((128, ' '), 'S')],\n",
       "    0,\n",
       "    124)]],\n",
       " [[{'id': 'alpaca_H',\n",
       "    'description': '',\n",
       "    'evalue': 7.3e-67,\n",
       "    'bitscore': 214.6,\n",
       "    'bias': 3.6,\n",
       "    'query_start': 0,\n",
       "    'query_end': 125,\n",
       "    'species': 'alpaca',\n",
       "    'chain_type': 'H',\n",
       "    'scheme': 'imgt',\n",
       "    'query_name': 'Input sequence'}]],\n",
       " [[['id',\n",
       "    'description',\n",
       "    'evalue',\n",
       "    'bitscore',\n",
       "    'bias',\n",
       "    'query_start',\n",
       "    'query_end'],\n",
       "   ['alpaca_H', '', 7.3e-67, 214.6, 3.6, 0, 125],\n",
       "   ['human_H', '', 3.1e-52, 167.2, 2.1, 0, 125],\n",
       "   ['pig_H', '', 1.4e-51, 165.2, 3.5, 1, 125],\n",
       "   ['rhesus_H', '', 2.5e-51, 164.2, 1.5, 0, 125],\n",
       "   ['mouse_H', '', 2.4e-49, 157.7, 1.1, 0, 125],\n",
       "   ['rabbit_H', '', 1.9e-44, 142.0, 1.3, 0, 125],\n",
       "   ['cow_H', '', 1.9e-35, 112.7, 1.1, 0, 125]]])"
      ]
     },
     "execution_count": 4,
     "metadata": {},
     "output_type": "execute_result"
    }
   ],
   "source": [
    "run_anarci('QVQLQESGGGLVQAGGSLRLSCAASGRTFSEYAMGWFRQAPGKEREFVATISWSGGSTYYTDSVKGRFTISRDNAKNTVYLQMNSLKPDDTAVYYCAAAGLGTVVSEWDYDYDYWGQGTQVTVSSGS')"
   ]
  },
  {
   "cell_type": "code",
   "execution_count": 11,
   "metadata": {},
   "outputs": [
    {
     "name": "stdout",
     "output_type": "stream",
     "text": [
      "Antigen size: 184\n",
      "CDR sequences and lengths\n",
      "CDRH1: GRTFSEYA 8\n",
      "CDRH2: ISWSGGST 8\n",
      "CDRH3: AAAGLGTVVSEWDYDYDY 18\n",
      "CDRH: GRTFSEYAISWSGGSTAAAGLGTVVSEWDYDYDY 34\n",
      "Epitope dis size: 22\n",
      "Epitope arp size: 18\n",
      "Paratope dis size: 15\n",
      "Paratope arp size 15\n",
      "Epitope dis interactions: 46\n",
      "Epitope arp interactions: 29\n",
      "Paratope dis interactions: 46\n",
      "Paratope arp interactions 29\n"
     ]
    }
   ],
   "source": [
    "print('Antigen size:', len(sdabs_struc['antigen_sequence'].item()))\n",
    "\n",
    "print('CDR sequences and lengths')\n",
    "cdr_seqs = ast.literal_eval(sdabs_struc['cdr_sequence'].item())\n",
    "for key in cdr_seqs:                          \n",
    "    print(key + ':', cdr_seqs[key], len(cdr_seqs[key]))\n",
    "\n",
    "print('Epitope dis size:', len(ast.literal_eval(sdabs_struc['epitope_dis'].item())))\n",
    "print('Epitope arp size:', len(ast.literal_eval(sdabs_struc['epitope_arp'].item())))\n",
    "print('Paratope dis size:', sum([len(a) for a in ast.literal_eval(sdabs_struc['paratope_dis'].item()).values()]))\n",
    "print('Paratope arp size', sum([len(a) for a in ast.literal_eval(sdabs_struc['paratope_dis'].item()).values()]))\n",
    "\n",
    "print('Epitope dis interactions:', sum(ast.literal_eval(sdabs_struc['epitope_dis_interactions'].item()).values()))\n",
    "print('Epitope arp interactions:', sum(ast.literal_eval(sdabs_struc['epitope_arp_interactions'].item()).values()))\n",
    "print('Paratope dis interactions:', sum(ast.literal_eval(sdabs_struc['paratope_dis_interactions'].item()).values()))\n",
    "print('Paratope arp interactions', sum(ast.literal_eval(sdabs_struc['paratope_arp_interactions'].item()).values()))"
   ]
  },
  {
   "cell_type": "code",
   "execution_count": 12,
   "metadata": {},
   "outputs": [
    {
     "name": "stdout",
     "output_type": "stream",
     "text": [
      "['1', '2', '3', '4', '5', '6', '7', '8', '9', '10', '11', '12', '13', '14', '15', '16', '17', '18', '19', '20', '21', '22', '23', '24', '25', '26', '39', '40', '41', '42', '43', '44', '45', '46', '47', '48', '49', '50', '51', '52', '53', '54', '55', '66', '67', '68', '69', '70', '71', '72', '73', '74', '75', '76', '77', '78', '79', '80', '81', '82', '83', '84', '85', '86', '87', '88', '89', '90', '91', '92', '93', '94', '95', '96', '97', '98', '99', '100', '101', '102', '103', '104', '118', '119', '120', '121', '122', '123', '124', '125', '126', '127', '128', '129']\n",
      "sdabs dis\n",
      "['112_C', '63', '64', '65', '114', '113', '58', '110', '111_A', '112_A', '66', '69', '111', '111_B', '112_B']\n",
      "fwr paratope dis: ['66', '69']\n",
      "sdabs arp\n",
      "['64', '69', '58', '112A', '111A', '112B', '63', '114', '113', '111', '110', '111B', '112C', '65', '66']\n",
      "fwr paratope arp: ['69', '66']\n"
     ]
    }
   ],
   "source": [
    "# highlight any framework residues in paratope from numbering\n",
    "fwr_nums = [str(n) for n in np.concatenate([np.arange(1,27, 1), np.arange(39, 56, 1), np.arange(66, 105, 1), np.arange(118, 130, 1)])]\n",
    "print(fwr_nums)\n",
    "\n",
    "print('sdabs dis')\n",
    "sdabs_res_nums = [str(k) for k in list(ast.literal_eval(sdabs_struc['paratope_dis'].item()).keys())]\n",
    "print(sdabs_res_nums)\n",
    "\n",
    "fwr_res = []\n",
    "for r in sdabs_res_nums:\n",
    "    if r in fwr_nums:\n",
    "        fwr_res.append(r)\n",
    "print('fwr paratope dis:', fwr_res)\n",
    "\n",
    "print('sdabs arp')\n",
    "sdabs_res_nums = [str(k) for k in list(ast.literal_eval(sdabs_struc['paratope_arp'].item()).keys())]\n",
    "print(sdabs_res_nums)\n",
    "\n",
    "fwr_res = []\n",
    "for r in sdabs_res_nums:\n",
    "    if r in fwr_nums:\n",
    "        fwr_res.append(r)\n",
    "print('fwr paratope arp:', fwr_res)"
   ]
  },
  {
   "cell_type": "code",
   "execution_count": 13,
   "metadata": {},
   "outputs": [],
   "source": [
    "ab_epitope = {'448': 'N', '446': 'G', '444': 'K', '447': 'G', '449': 'Y', '490': 'F', '452': 'L', '450': 'N', '484': 'E', '483': 'V'}\n",
    "sdab_epitope = ('405', 'D'), ('494', 'S'), ('452', 'L'), ('493', 'Q'), ('483', 'V'), ('450', 'N'), ('446', 'G'), ('406', 'E'), ('470', 'T'), ('403', 'R'), ('498', 'Q'), ('490', 'F'), ('505', 'Y'), ('447', 'G'), ('484', 'E'), ('455', 'L'), ('502', 'G'), ('453', 'Y'), ('492', 'L'), ('482', 'G'), ('449', 'Y')"
   ]
  },
  {
   "cell_type": "code",
   "execution_count": 14,
   "metadata": {},
   "outputs": [
    {
     "name": "stdout",
     "output_type": "stream",
     "text": [
      "H1: ['27', '28', '29', '30', '31', '32', '33', '34', '35', '36', '37', '38']\n",
      "H2: ['56', '57', '58', '59', '60', '61', '62', '63', '64', '65']\n",
      "H3: ['105', '106', '107', '108', '109', '110', '111', '112', '113', '114', '115', '116', '117']\n"
     ]
    }
   ],
   "source": [
    "# for Abs assume first chain in dict is heavy (because it is)\n",
    "\n",
    "h1 = l1 = [str(i) for i in np.arange(27, 39, 1)]\n",
    "h2 = l2 = [str(i) for i in np.arange(56, 66, 1)]\n",
    "h3 = l3 = [str(i) for i in np.arange(105, 118, 1)]\n",
    "\n",
    "print('H1:', h1)\n",
    "print('H2:', h2)\n",
    "print('H3:', h3)\n",
    "\n",
    "# Parse each row in column and determine how many interactions from CDRH1, H2, H3\n",
    "loop_defs = {'H1':h1, 'H2':h2, 'H3':h3, 'L1':l1, 'L2':l2, 'L3':l3}"
   ]
  },
  {
   "cell_type": "code",
   "execution_count": 15,
   "metadata": {},
   "outputs": [],
   "source": [
    "def count_cdr_ints(item, loop_defs, loops):\n",
    "    # input list of loops (h1, h2, h3) or (l1, l2, l3)\n",
    "\n",
    "    cdr1_totals, cdr2_totals, cdr3_totals = [],[],[]\n",
    "    for key, value in zip(item.keys(), item.values()):\n",
    "        # for each entry in dict check if number in h1/h2/h3, if yes, add to total num interactions for that loop\n",
    "        if key.split('_')[1] in loop_defs[loops[0]]:\n",
    "            cdr1_totals.append(value)\n",
    "        if key.split('_')[1] in loop_defs[loops[1]]:\n",
    "            cdr2_totals.append(value)\n",
    "        if key.split('_')[1] in loop_defs[loops[2]]:\n",
    "            cdr3_totals.append(value)\n",
    "    \n",
    "    return {loops[0]: cdr1_totals, loops[1]: cdr2_totals, loops[2]: cdr3_totals}"
   ]
  },
  {
   "cell_type": "code",
   "execution_count": 16,
   "metadata": {},
   "outputs": [
    {
     "data": {
      "text/html": [
       "<div>\n",
       "<style scoped>\n",
       "    .dataframe tbody tr th:only-of-type {\n",
       "        vertical-align: middle;\n",
       "    }\n",
       "\n",
       "    .dataframe tbody tr th {\n",
       "        vertical-align: top;\n",
       "    }\n",
       "\n",
       "    .dataframe thead th {\n",
       "        text-align: right;\n",
       "    }\n",
       "</style>\n",
       "<table border=\"1\" class=\"dataframe\">\n",
       "  <thead>\n",
       "    <tr style=\"text-align: right;\">\n",
       "      <th></th>\n",
       "      <th>pdb</th>\n",
       "      <th>antigen_chain</th>\n",
       "      <th>antibody_chain</th>\n",
       "      <th>antigen_sequence</th>\n",
       "      <th>antibody_sequence</th>\n",
       "      <th>cdr_sequence</th>\n",
       "      <th>epitope_dis</th>\n",
       "      <th>epitope_dis_interactions</th>\n",
       "      <th>paratope_dis</th>\n",
       "      <th>paratope_dis_interactions</th>\n",
       "      <th>epitope_arp</th>\n",
       "      <th>epitope_arp_interactions</th>\n",
       "      <th>paratope_arp</th>\n",
       "      <th>paratope_arp_interactions</th>\n",
       "      <th>canonical_form_CDRH1</th>\n",
       "      <th>canonical_form_CDRH2</th>\n",
       "    </tr>\n",
       "  </thead>\n",
       "  <tbody>\n",
       "    <tr>\n",
       "      <th>824</th>\n",
       "      <td>6yla</td>\n",
       "      <td>E</td>\n",
       "      <td>HL</td>\n",
       "      <td>ETGPNITNLCPFGEVFNATRFASVYAWNRKRISNCVADYSVLYNSA...</td>\n",
       "      <td>{'H': 'QMQLVQSGTEVKKPGESLKISCKGSGYGFITYWIGWVRQ...</td>\n",
       "      <td>{'CDRH1': 'GYGFITYW', 'CDRH2': 'IYPGDSET', 'CD...</td>\n",
       "      <td>{'H': {384: 'P', 383: 'S', 378: 'K', 379: 'C',...</td>\n",
       "      <td>{'Y_369': 4, 'T_385': 4, 'N_370': 1, 'S_375': ...</td>\n",
       "      <td>{'H': {1: 'Q', 116: 'D', 66: 'R', 112: 'S', 62...</td>\n",
       "      <td>{'H': {'Q_1': 2, 'Y_28': 1, 'G_29': 1, 'I_35':...</td>\n",
       "      <td>{'H': {'379': 'C', '383': 'S', '386': 'K', '37...</td>\n",
       "      <td>{'C_379': 2, 'S_383': 2, 'K_386': 2, 'K_378': ...</td>\n",
       "      <td>{'H': {'110': 'I', '109': 'G', '108': 'S', '62...</td>\n",
       "      <td>{'H': {'I_110': 3, 'G_109': 1, 'S_108': 3, 'D_...</td>\n",
       "      <td>H1-8-A</td>\n",
       "      <td>H2-8-A</td>\n",
       "    </tr>\n",
       "  </tbody>\n",
       "</table>\n",
       "</div>"
      ],
      "text/plain": [
       "      pdb antigen_chain antibody_chain  \\\n",
       "824  6yla             E             HL   \n",
       "\n",
       "                                      antigen_sequence  \\\n",
       "824  ETGPNITNLCPFGEVFNATRFASVYAWNRKRISNCVADYSVLYNSA...   \n",
       "\n",
       "                                     antibody_sequence  \\\n",
       "824  {'H': 'QMQLVQSGTEVKKPGESLKISCKGSGYGFITYWIGWVRQ...   \n",
       "\n",
       "                                          cdr_sequence  \\\n",
       "824  {'CDRH1': 'GYGFITYW', 'CDRH2': 'IYPGDSET', 'CD...   \n",
       "\n",
       "                                           epitope_dis  \\\n",
       "824  {'H': {384: 'P', 383: 'S', 378: 'K', 379: 'C',...   \n",
       "\n",
       "                              epitope_dis_interactions  \\\n",
       "824  {'Y_369': 4, 'T_385': 4, 'N_370': 1, 'S_375': ...   \n",
       "\n",
       "                                          paratope_dis  \\\n",
       "824  {'H': {1: 'Q', 116: 'D', 66: 'R', 112: 'S', 62...   \n",
       "\n",
       "                             paratope_dis_interactions  \\\n",
       "824  {'H': {'Q_1': 2, 'Y_28': 1, 'G_29': 1, 'I_35':...   \n",
       "\n",
       "                                           epitope_arp  \\\n",
       "824  {'H': {'379': 'C', '383': 'S', '386': 'K', '37...   \n",
       "\n",
       "                              epitope_arp_interactions  \\\n",
       "824  {'C_379': 2, 'S_383': 2, 'K_386': 2, 'K_378': ...   \n",
       "\n",
       "                                          paratope_arp  \\\n",
       "824  {'H': {'110': 'I', '109': 'G', '108': 'S', '62...   \n",
       "\n",
       "                             paratope_arp_interactions canonical_form_CDRH1  \\\n",
       "824  {'H': {'I_110': 3, 'G_109': 1, 'S_108': 3, 'D_...               H1-8-A   \n",
       "\n",
       "    canonical_form_CDRH2  \n",
       "824               H2-8-A  "
      ]
     },
     "execution_count": 16,
     "metadata": {},
     "output_type": "execute_result"
    }
   ],
   "source": [
    "abs_summary.loc[abs_summary['pdb'] == '6yla']"
   ]
  },
  {
   "cell_type": "code",
   "execution_count": 17,
   "metadata": {},
   "outputs": [
    {
     "data": {
      "text/html": [
       "<div>\n",
       "<style scoped>\n",
       "    .dataframe tbody tr th:only-of-type {\n",
       "        vertical-align: middle;\n",
       "    }\n",
       "\n",
       "    .dataframe tbody tr th {\n",
       "        vertical-align: top;\n",
       "    }\n",
       "\n",
       "    .dataframe thead th {\n",
       "        text-align: right;\n",
       "    }\n",
       "</style>\n",
       "<table border=\"1\" class=\"dataframe\">\n",
       "  <thead>\n",
       "    <tr style=\"text-align: right;\">\n",
       "      <th></th>\n",
       "      <th>pdb</th>\n",
       "      <th>antigen_chain</th>\n",
       "      <th>antibody_chain</th>\n",
       "      <th>antigen_sequence</th>\n",
       "      <th>antibody_sequence</th>\n",
       "      <th>cdr_sequence</th>\n",
       "      <th>epitope_dis</th>\n",
       "      <th>epitope_dis_interactions</th>\n",
       "      <th>paratope_dis</th>\n",
       "      <th>paratope_dis_interactions</th>\n",
       "      <th>epitope_arp</th>\n",
       "      <th>epitope_arp_interactions</th>\n",
       "      <th>paratope_arp</th>\n",
       "      <th>paratope_arp_interactions</th>\n",
       "      <th>canonical_form_CDRH1</th>\n",
       "      <th>canonical_form_CDRH2</th>\n",
       "    </tr>\n",
       "  </thead>\n",
       "  <tbody>\n",
       "    <tr>\n",
       "      <th>97</th>\n",
       "      <td>6waq</td>\n",
       "      <td>D</td>\n",
       "      <td>C</td>\n",
       "      <td>TNLCPFGEVFNATKFPSVYAWERKKISNCVADYSVLYNSTFFSTFK...</td>\n",
       "      <td>QVQLQESGGGLVQAGGSLRLSCAASGRTFSEYAMGWFRQAPGKERE...</td>\n",
       "      <td>{'CDRH1': 'GRTFSEYA', 'CDRH2': 'ISWSGGST', 'CD...</td>\n",
       "      <td>{427: 'N', 371: 'A', 359: 'T', 362: 'S', 426: ...</td>\n",
       "      <td>{'Y_356': 3, 'T_372': 1, 'S_358': 3, 'N_357': ...</td>\n",
       "      <td>{'112_C': 'S', 63: 'G', 64: 'S', 65: 'T', 114:...</td>\n",
       "      <td>{'W_58': 2, 'G_63': 3, 'S_64': 4, 'T_65': 3, '...</td>\n",
       "      <td>{'365': 'K', '356': 'Y', '494': 'Y', '361': 'F...</td>\n",
       "      <td>{'K_365': 3, 'Y_356': 3, 'Y_494': 2, 'F_361': ...</td>\n",
       "      <td>{'64': 'S', '69': 'D', '58': 'W', '112A': 'W',...</td>\n",
       "      <td>{'S_64': 4, 'D_69': 1, 'W_58': 2, 'W_112_A': 4...</td>\n",
       "      <td>H1-8-C</td>\n",
       "      <td>H2-8-B</td>\n",
       "    </tr>\n",
       "  </tbody>\n",
       "</table>\n",
       "</div>"
      ],
      "text/plain": [
       "     pdb antigen_chain antibody_chain  \\\n",
       "97  6waq             D              C   \n",
       "\n",
       "                                     antigen_sequence  \\\n",
       "97  TNLCPFGEVFNATKFPSVYAWERKKISNCVADYSVLYNSTFFSTFK...   \n",
       "\n",
       "                                    antibody_sequence  \\\n",
       "97  QVQLQESGGGLVQAGGSLRLSCAASGRTFSEYAMGWFRQAPGKERE...   \n",
       "\n",
       "                                         cdr_sequence  \\\n",
       "97  {'CDRH1': 'GRTFSEYA', 'CDRH2': 'ISWSGGST', 'CD...   \n",
       "\n",
       "                                          epitope_dis  \\\n",
       "97  {427: 'N', 371: 'A', 359: 'T', 362: 'S', 426: ...   \n",
       "\n",
       "                             epitope_dis_interactions  \\\n",
       "97  {'Y_356': 3, 'T_372': 1, 'S_358': 3, 'N_357': ...   \n",
       "\n",
       "                                         paratope_dis  \\\n",
       "97  {'112_C': 'S', 63: 'G', 64: 'S', 65: 'T', 114:...   \n",
       "\n",
       "                            paratope_dis_interactions  \\\n",
       "97  {'W_58': 2, 'G_63': 3, 'S_64': 4, 'T_65': 3, '...   \n",
       "\n",
       "                                          epitope_arp  \\\n",
       "97  {'365': 'K', '356': 'Y', '494': 'Y', '361': 'F...   \n",
       "\n",
       "                             epitope_arp_interactions  \\\n",
       "97  {'K_365': 3, 'Y_356': 3, 'Y_494': 2, 'F_361': ...   \n",
       "\n",
       "                                         paratope_arp  \\\n",
       "97  {'64': 'S', '69': 'D', '58': 'W', '112A': 'W',...   \n",
       "\n",
       "                            paratope_arp_interactions canonical_form_CDRH1  \\\n",
       "97  {'S_64': 4, 'D_69': 1, 'W_58': 2, 'W_112_A': 4...               H1-8-C   \n",
       "\n",
       "   canonical_form_CDRH2  \n",
       "97               H2-8-B  "
      ]
     },
     "execution_count": 17,
     "metadata": {},
     "output_type": "execute_result"
    }
   ],
   "source": [
    "sdabs_summary.loc[sdabs_summary['pdb'] == '6waq']"
   ]
  },
  {
   "cell_type": "code",
   "execution_count": 18,
   "metadata": {},
   "outputs": [],
   "source": [
    "sdabs_ints_arp = [ast.literal_eval(s) for s in sdabs_summary['paratope_arp_interactions'].loc[sdabs_summary['pdb'] == '6waq']][0]"
   ]
  },
  {
   "cell_type": "code",
   "execution_count": 19,
   "metadata": {},
   "outputs": [],
   "source": [
    "abs_ints_arp = [ast.literal_eval(a) for a in abs_summary['paratope_arp_interactions'].loc[abs_summary['pdb'] == '6yla']]"
   ]
  },
  {
   "cell_type": "code",
   "execution_count": 20,
   "metadata": {},
   "outputs": [
    {
     "data": {
      "text/plain": [
       "{'S_64': 4,\n",
       " 'D_69': 1,\n",
       " 'W_58': 2,\n",
       " 'W_112_A': 4,\n",
       " 'V_111_A': 2,\n",
       " 'E_112_B': 2,\n",
       " 'G_63': 2,\n",
       " 'D_114': 1,\n",
       " 'Y_113': 1,\n",
       " 'T_111': 1,\n",
       " 'G_110': 2,\n",
       " 'V_111_B': 2,\n",
       " 'S_112_C': 1,\n",
       " 'T_65': 2,\n",
       " 'Y_66': 2}"
      ]
     },
     "execution_count": 20,
     "metadata": {},
     "output_type": "execute_result"
    }
   ],
   "source": [
    "sdabs_ints_arp"
   ]
  },
  {
   "cell_type": "code",
   "execution_count": 21,
   "metadata": {},
   "outputs": [],
   "source": [
    "abs_ints_arp_vh = abs_ints_arp[0]['H']\n",
    "abs_ints_arp_vl = abs_ints_arp[0]['L']"
   ]
  },
  {
   "cell_type": "code",
   "execution_count": 22,
   "metadata": {},
   "outputs": [
    {
     "data": {
      "text/plain": [
       "{'H1': [1, 1, 1, 1, 2], 'H2': [1, 2, 1], 'H3': [3, 1, 3, 1, 1, 1]}"
      ]
     },
     "execution_count": 22,
     "metadata": {},
     "output_type": "execute_result"
    }
   ],
   "source": [
    "count_cdr_ints(abs_ints_arp_vh, loop_defs, loops=['H1', 'H2', 'H3'])"
   ]
  },
  {
   "cell_type": "code",
   "execution_count": 23,
   "metadata": {},
   "outputs": [
    {
     "data": {
      "text/plain": [
       "{'L1': [2, 2, 1, 3], 'L2': [1], 'L3': []}"
      ]
     },
     "execution_count": 23,
     "metadata": {},
     "output_type": "execute_result"
    }
   ],
   "source": [
    "count_cdr_ints(abs_ints_arp_vl, loop_defs, loops=['L1', 'L2', 'L3'])"
   ]
  },
  {
   "cell_type": "code",
   "execution_count": 24,
   "metadata": {},
   "outputs": [
    {
     "data": {
      "text/plain": [
       "{'H1': [], 'H2': [4, 2, 2, 2], 'H3': [4, 2, 2, 1, 1, 1, 2, 2, 1]}"
      ]
     },
     "execution_count": 24,
     "metadata": {},
     "output_type": "execute_result"
    }
   ],
   "source": [
    "count_cdr_ints(sdabs_ints_arp, loop_defs, loops=['H1', 'H2', 'H3'])"
   ]
  },
  {
   "cell_type": "code",
   "execution_count": null,
   "metadata": {},
   "outputs": [],
   "source": []
  }
 ],
 "metadata": {
  "kernelspec": {
   "display_name": "base",
   "language": "python",
   "name": "python3"
  },
  "language_info": {
   "codemirror_mode": {
    "name": "ipython",
    "version": 3
   },
   "file_extension": ".py",
   "mimetype": "text/x-python",
   "name": "python",
   "nbconvert_exporter": "python",
   "pygments_lexer": "ipython3",
   "version": "3.8.8"
  },
  "orig_nbformat": 4,
  "vscode": {
   "interpreter": {
    "hash": "6583c3f449b2025ea649b72d4a52efb1871eb538dba3514b6dae43f01b685c61"
   }
  }
 },
 "nbformat": 4,
 "nbformat_minor": 2
}
